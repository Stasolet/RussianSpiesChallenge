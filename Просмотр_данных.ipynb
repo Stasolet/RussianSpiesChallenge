{
  "nbformat": 4,
  "nbformat_minor": 0,
  "metadata": {
    "colab": {
      "name": "Просмотр данных.ipynb",
      "provenance": [],
      "collapsed_sections": [
        "DoKNyuvkbAs0",
        "453iTf7Fiy4u",
        "3UFMMjIItWBt"
      ]
    },
    "kernelspec": {
      "name": "python3",
      "display_name": "Python 3"
    },
    "language_info": {
      "name": "python"
    }
  },
  "cells": [
    {
      "cell_type": "markdown",
      "metadata": {
        "id": "MXzHdSzUQCs6"
      },
      "source": [
        "# updates\n",
        "* v 0.02\n",
        "    * Изменена транслитерация для sirena_exp, используется iuliia\n",
        "    * Для отсеивания в финальном фрейме людей с похожим написанием имён применяется алгоритм на основе пересечения с самим собой и похожести написания имени на основе расстояние Левенштейна\n",
        "    * Добавлено количество людей в явном виде, и их список \n",
        "\n",
        "Предобработка данных, которая проводилась в питоне и не потерялась в процессе работы :) в colab https://colab.research.google.com/drive/1d6f4eabNxPgIauZlZeLXPUFUpXqQ0cFT?usp=sharing\n"
      ]
    },
    {
      "cell_type": "markdown",
      "metadata": {
        "id": "wqd8oHKrGMBT"
      },
      "source": [
        "# Настройка окружения"
      ]
    },
    {
      "cell_type": "markdown",
      "metadata": {
        "id": "QTA5Pp3pFtmm"
      },
      "source": [
        "## Установка пакетов"
      ]
    },
    {
      "cell_type": "code",
      "metadata": {
        "colab": {
          "base_uri": "https://localhost:8080/"
        },
        "id": "3qJ-GfgtmQV4",
        "outputId": "1541bfd6-e3f3-4c65-a18d-ec2050d91e8f"
      },
      "source": [
        "!pip install iuliia\n",
        "!pip install python-Levenshtein"
      ],
      "execution_count": null,
      "outputs": [
        {
          "output_type": "stream",
          "text": [
            "Collecting iuliia\n",
            "  Downloading https://files.pythonhosted.org/packages/01/0d/bc6c85e1677753aa369107623111e80c1f989ae9004b3f680808440ff7bb/iuliia-0.11.4-py3-none-any.whl\n",
            "Installing collected packages: iuliia\n",
            "Successfully installed iuliia-0.11.4\n",
            "Collecting python-Levenshtein\n",
            "\u001b[?25l  Downloading https://files.pythonhosted.org/packages/2a/dc/97f2b63ef0fa1fd78dcb7195aca577804f6b2b51e712516cc0e902a9a201/python-Levenshtein-0.12.2.tar.gz (50kB)\n",
            "\u001b[K     |████████████████████████████████| 51kB 2.9MB/s \n",
            "\u001b[?25hRequirement already satisfied: setuptools in /usr/local/lib/python3.7/dist-packages (from python-Levenshtein) (56.1.0)\n",
            "Building wheels for collected packages: python-Levenshtein\n",
            "  Building wheel for python-Levenshtein (setup.py) ... \u001b[?25l\u001b[?25hdone\n",
            "  Created wheel for python-Levenshtein: filename=python_Levenshtein-0.12.2-cp37-cp37m-linux_x86_64.whl size=149812 sha256=e3b7652e4845d404fbd9aefc82b686ee3f262ea85bd69ada248759d0c92402e7\n",
            "  Stored in directory: /root/.cache/pip/wheels/b3/26/73/4b48503bac73f01cf18e52cd250947049a7f339e940c5df8fc\n",
            "Successfully built python-Levenshtein\n",
            "Installing collected packages: python-Levenshtein\n",
            "Successfully installed python-Levenshtein-0.12.2\n"
          ],
          "name": "stdout"
        }
      ]
    },
    {
      "cell_type": "markdown",
      "metadata": {
        "id": "m_CTk8vZGGqz"
      },
      "source": [
        "## Импорт пакетов"
      ]
    },
    {
      "cell_type": "code",
      "metadata": {
        "id": "8piL7OpSQxXf"
      },
      "source": [
        "from sklearn import preprocessing\n",
        "\n",
        "import pandas as pd\n",
        "import numpy as np\n",
        "import datetime\n",
        "\n",
        "import Levenshtein\n",
        "import iuliia"
      ],
      "execution_count": null,
      "outputs": []
    },
    {
      "cell_type": "markdown",
      "metadata": {
        "id": "JWj-VX3aPYTj"
      },
      "source": [
        "## Авторизация в GoogleDrive для доступа к файлам"
      ]
    },
    {
      "cell_type": "code",
      "metadata": {
        "id": "3TzJ4fnnQqjK"
      },
      "source": [
        "from pydrive.auth import GoogleAuth\n",
        "from pydrive.drive import GoogleDrive\n",
        "from google.colab import auth\n",
        "from oauth2client.client import GoogleCredentials\n",
        "\n",
        "auth.authenticate_user()\n",
        "gauth = GoogleAuth()\n",
        "gauth.credentials = GoogleCredentials.get_application_default()\n",
        "drive = GoogleDrive(gauth)"
      ],
      "execution_count": null,
      "outputs": []
    },
    {
      "cell_type": "markdown",
      "metadata": {
        "id": "OJ7Wdj0Aa8cd"
      },
      "source": [
        "# Изучение данных"
      ]
    },
    {
      "cell_type": "markdown",
      "metadata": {
        "id": "aJhSw1_9bDZf"
      },
      "source": [
        "## Загрузка данных"
      ]
    },
    {
      "cell_type": "code",
      "metadata": {
        "id": "V_EXWRvyQy54"
      },
      "source": [
        "files = {\n",
        "    'BoardingData.csv': '1tsdyieiuvd2_soYZfnWf2KwYfiNfZ5bG',\n",
        "    'FrequentFlyerForum-Profiles.csv': '1CBX6r-cSBOUSYPXBMBB6H5kus8XgTR3-',\n",
        "    'PointzAggregator-AirlinesData.csv': '1GUsw71571ig01-iCF9zEFs1cn5jeKCoB',\n",
        "    'Sirena-export-fixed.csv': '1eWau_Fw_Mj2CPOUPnIsM4xiBJZWoii2Y',\n",
        "    'SkyTeam-Exchange.csv': '1qkRaGOSXuuQcCe9yWpKeCSrWgS_qmXL-',\n",
        "    'YourBoardingPassDotAero.csv': '18VNEEMYATrE9Exn12TWBpAdQKUFTquC6',\n",
        "    'Skyteam_Timetable.csv': '1pjjBdW-F_Tn9PVsmwgaFdhXrXOaG5f_e',\n",
        "    'res.csv': '1zxDmHolxe67Y1xPST5h20IVan-sU_jEN',\n",
        "}\n",
        "for file in files:    \n",
        "    downloaded = drive.CreateFile({'id': files[file]})\n",
        "    downloaded.GetContentFile(file)"
      ],
      "execution_count": null,
      "outputs": []
    },
    {
      "cell_type": "code",
      "metadata": {
        "id": "wNx-AlubR2HZ"
      },
      "source": [
        "board_data_df = pd.read_csv('BoardingData.csv', sep=';')\n",
        "freq_flyer_df = pd.read_csv('FrequentFlyerForum-Profiles.csv')\n",
        "point_agg_df = pd.read_csv('PointzAggregator-AirlinesData.csv')\n",
        "sirena_exp_df = pd.read_csv('Sirena-export-fixed.csv')\n",
        "sk_exchange_df = pd.read_csv('SkyTeam-Exchange.csv')\n",
        "board_pass_df = pd.read_csv('YourBoardingPassDotAero.csv')\n",
        "sk_timetable_df = pd.read_csv('Skyteam_Timetable.csv')"
      ],
      "execution_count": null,
      "outputs": []
    },
    {
      "cell_type": "markdown",
      "metadata": {
        "id": "DoKNyuvkbAs0"
      },
      "source": [
        "## Просмотр данных"
      ]
    },
    {
      "cell_type": "markdown",
      "metadata": {
        "id": "LeY39TLLcXd9"
      },
      "source": [
        "### Первые строки"
      ]
    },
    {
      "cell_type": "code",
      "metadata": {
        "colab": {
          "base_uri": "https://localhost:8080/",
          "height": 253
        },
        "id": "NRraVO8YbKjQ",
        "outputId": "e8568208-422f-465a-fafb-6499b213c13b"
      },
      "source": [
        "board_data_df.head()"
      ],
      "execution_count": null,
      "outputs": [
        {
          "output_type": "execute_result",
          "data": {
            "text/html": [
              "<div>\n",
              "<style scoped>\n",
              "    .dataframe tbody tr th:only-of-type {\n",
              "        vertical-align: middle;\n",
              "    }\n",
              "\n",
              "    .dataframe tbody tr th {\n",
              "        vertical-align: top;\n",
              "    }\n",
              "\n",
              "    .dataframe thead th {\n",
              "        text-align: right;\n",
              "    }\n",
              "</style>\n",
              "<table border=\"1\" class=\"dataframe\">\n",
              "  <thead>\n",
              "    <tr style=\"text-align: right;\">\n",
              "      <th></th>\n",
              "      <th>PassengerFirstName</th>\n",
              "      <th>PassengerSecondName</th>\n",
              "      <th>PassengerLastName</th>\n",
              "      <th>PassengerSex</th>\n",
              "      <th>PassengerBirthDate</th>\n",
              "      <th>PassengerDocument</th>\n",
              "      <th>BookingCode</th>\n",
              "      <th>TicketNumber</th>\n",
              "      <th>Baggage</th>\n",
              "      <th>FlightDate</th>\n",
              "      <th>FlightTime</th>\n",
              "      <th>FlightNumber</th>\n",
              "      <th>CodeShare</th>\n",
              "      <th>Destination</th>\n",
              "    </tr>\n",
              "  </thead>\n",
              "  <tbody>\n",
              "    <tr>\n",
              "      <th>0</th>\n",
              "      <td>SAVELII</td>\n",
              "      <td>VIKTOROVICH</td>\n",
              "      <td>RUSANOV</td>\n",
              "      <td>Male</td>\n",
              "      <td>03/10/1983</td>\n",
              "      <td>2879 096860</td>\n",
              "      <td>FRNINO</td>\n",
              "      <td>6625956945991971</td>\n",
              "      <td>Transit</td>\n",
              "      <td>2017-03-22</td>\n",
              "      <td>06:05</td>\n",
              "      <td>SU1369</td>\n",
              "      <td>Own</td>\n",
              "      <td>Moscow</td>\n",
              "    </tr>\n",
              "    <tr>\n",
              "      <th>1</th>\n",
              "      <td>LEV</td>\n",
              "      <td>MARKOVICH</td>\n",
              "      <td>ISAEV</td>\n",
              "      <td>Male</td>\n",
              "      <td>12/13/1975</td>\n",
              "      <td>1788 173211</td>\n",
              "      <td>Not presented</td>\n",
              "      <td>1643715499224676</td>\n",
              "      <td>Registered</td>\n",
              "      <td>2017-03-18</td>\n",
              "      <td>22:10</td>\n",
              "      <td>SU1180</td>\n",
              "      <td>Own</td>\n",
              "      <td>Volgograd</td>\n",
              "    </tr>\n",
              "    <tr>\n",
              "      <th>2</th>\n",
              "      <td>NIKOLAI</td>\n",
              "      <td>I.</td>\n",
              "      <td>NIKOLSKII</td>\n",
              "      <td>Male</td>\n",
              "      <td>12/26/1990</td>\n",
              "      <td>4396 926588</td>\n",
              "      <td>VWNYGF</td>\n",
              "      <td>6247422701565929</td>\n",
              "      <td>Transit</td>\n",
              "      <td>2017-03-18</td>\n",
              "      <td>22:10</td>\n",
              "      <td>SU1180</td>\n",
              "      <td>Own</td>\n",
              "      <td>Volgograd</td>\n",
              "    </tr>\n",
              "    <tr>\n",
              "      <th>3</th>\n",
              "      <td>ANATOLII</td>\n",
              "      <td>PETROVICH</td>\n",
              "      <td>SHILOV</td>\n",
              "      <td>Male</td>\n",
              "      <td>05/24/1997</td>\n",
              "      <td>2595 919752</td>\n",
              "      <td>WQFFUE</td>\n",
              "      <td>Not presented</td>\n",
              "      <td>Registered</td>\n",
              "      <td>2017-03-18</td>\n",
              "      <td>22:10</td>\n",
              "      <td>SU1180</td>\n",
              "      <td>Own</td>\n",
              "      <td>Volgograd</td>\n",
              "    </tr>\n",
              "    <tr>\n",
              "      <th>4</th>\n",
              "      <td>MIROSLAVA</td>\n",
              "      <td>VIACHESLAVOVNA</td>\n",
              "      <td>SEMENOVA</td>\n",
              "      <td>Female</td>\n",
              "      <td>01/31/1976</td>\n",
              "      <td>6775 516990</td>\n",
              "      <td>Not presented</td>\n",
              "      <td>Not presented</td>\n",
              "      <td>Registered</td>\n",
              "      <td>2017-03-12</td>\n",
              "      <td>11:45</td>\n",
              "      <td>SU6284</td>\n",
              "      <td>Own</td>\n",
              "      <td>Moscow</td>\n",
              "    </tr>\n",
              "  </tbody>\n",
              "</table>\n",
              "</div>"
            ],
            "text/plain": [
              "  PassengerFirstName PassengerSecondName  ... CodeShare Destination\n",
              "0            SAVELII         VIKTOROVICH  ...       Own      Moscow\n",
              "1                LEV           MARKOVICH  ...       Own   Volgograd\n",
              "2            NIKOLAI                  I.  ...       Own   Volgograd\n",
              "3           ANATOLII           PETROVICH  ...       Own   Volgograd\n",
              "4          MIROSLAVA      VIACHESLAVOVNA  ...       Own      Moscow\n",
              "\n",
              "[5 rows x 14 columns]"
            ]
          },
          "metadata": {
            "tags": []
          },
          "execution_count": 5
        }
      ]
    },
    {
      "cell_type": "code",
      "metadata": {
        "colab": {
          "base_uri": "https://localhost:8080/",
          "height": 326
        },
        "id": "CV00844_bMp5",
        "outputId": "23b6647c-278c-4659-e9df-8b4b5ee9e227"
      },
      "source": [
        "freq_flyer_df.head()"
      ],
      "execution_count": null,
      "outputs": [
        {
          "output_type": "execute_result",
          "data": {
            "text/html": [
              "<div>\n",
              "<style scoped>\n",
              "    .dataframe tbody tr th:only-of-type {\n",
              "        vertical-align: middle;\n",
              "    }\n",
              "\n",
              "    .dataframe tbody tr th {\n",
              "        vertical-align: top;\n",
              "    }\n",
              "\n",
              "    .dataframe thead th {\n",
              "        text-align: right;\n",
              "    }\n",
              "</style>\n",
              "<table border=\"1\" class=\"dataframe\">\n",
              "  <thead>\n",
              "    <tr style=\"text-align: right;\">\n",
              "      <th></th>\n",
              "      <th>Unnamed: 0</th>\n",
              "      <th>NickName</th>\n",
              "      <th>Arrival_Airport</th>\n",
              "      <th>Arrival_City</th>\n",
              "      <th>Arrival_Country</th>\n",
              "      <th>Departure_Airport</th>\n",
              "      <th>Departure_City</th>\n",
              "      <th>Departure_Country</th>\n",
              "      <th>Date</th>\n",
              "      <th>Codeshare</th>\n",
              "      <th>Flight</th>\n",
              "      <th>Sex</th>\n",
              "      <th>First Name</th>\n",
              "      <th>Last Name</th>\n",
              "    </tr>\n",
              "  </thead>\n",
              "  <tbody>\n",
              "    <tr>\n",
              "      <th>0</th>\n",
              "      <td>0</td>\n",
              "      <td>0</td>\n",
              "      <td>PIT</td>\n",
              "      <td>Pittsburgh PA</td>\n",
              "      <td>United States of</td>\n",
              "      <td>BOS</td>\n",
              "      <td>Boston MA</td>\n",
              "      <td>United States of</td>\n",
              "      <td>2017-03-04</td>\n",
              "      <td>False</td>\n",
              "      <td>DL3377</td>\n",
              "      <td>Male</td>\n",
              "      <td>NaN</td>\n",
              "      <td>NaN</td>\n",
              "    </tr>\n",
              "    <tr>\n",
              "      <th>1</th>\n",
              "      <td>1</td>\n",
              "      <td>0</td>\n",
              "      <td>DTW</td>\n",
              "      <td>Detroit MI</td>\n",
              "      <td>United States of</td>\n",
              "      <td>GRB</td>\n",
              "      <td>Green Bay WI</td>\n",
              "      <td>United States of</td>\n",
              "      <td>2017-07-21</td>\n",
              "      <td>False</td>\n",
              "      <td>DL3630</td>\n",
              "      <td>Male</td>\n",
              "      <td>NaN</td>\n",
              "      <td>NaN</td>\n",
              "    </tr>\n",
              "    <tr>\n",
              "      <th>2</th>\n",
              "      <td>2</td>\n",
              "      <td>0</td>\n",
              "      <td>LGA</td>\n",
              "      <td>New York NY</td>\n",
              "      <td>United States of</td>\n",
              "      <td>PIT</td>\n",
              "      <td>Pittsburgh PA</td>\n",
              "      <td>United States of</td>\n",
              "      <td>2017-03-22</td>\n",
              "      <td>False</td>\n",
              "      <td>DL5361</td>\n",
              "      <td>Male</td>\n",
              "      <td>NaN</td>\n",
              "      <td>NaN</td>\n",
              "    </tr>\n",
              "    <tr>\n",
              "      <th>3</th>\n",
              "      <td>3</td>\n",
              "      <td>0</td>\n",
              "      <td>WAW</td>\n",
              "      <td>Warsaw</td>\n",
              "      <td>Poland</td>\n",
              "      <td>SVO</td>\n",
              "      <td>Moscow</td>\n",
              "      <td>Russian Federation</td>\n",
              "      <td>2017-01-04</td>\n",
              "      <td>True</td>\n",
              "      <td>SU3702</td>\n",
              "      <td>Male</td>\n",
              "      <td>NaN</td>\n",
              "      <td>NaN</td>\n",
              "    </tr>\n",
              "    <tr>\n",
              "      <th>4</th>\n",
              "      <td>4</td>\n",
              "      <td>0</td>\n",
              "      <td>ATL</td>\n",
              "      <td>Atlanta GA</td>\n",
              "      <td>United States of</td>\n",
              "      <td>XNA</td>\n",
              "      <td>Fayetteville AR</td>\n",
              "      <td>United States of</td>\n",
              "      <td>2017-08-08</td>\n",
              "      <td>False</td>\n",
              "      <td>DL3412</td>\n",
              "      <td>Male</td>\n",
              "      <td>NaN</td>\n",
              "      <td>NaN</td>\n",
              "    </tr>\n",
              "  </tbody>\n",
              "</table>\n",
              "</div>"
            ],
            "text/plain": [
              "   Unnamed: 0  NickName Arrival_Airport  ...   Sex First Name Last Name\n",
              "0           0         0             PIT  ...  Male        NaN       NaN\n",
              "1           1         0             DTW  ...  Male        NaN       NaN\n",
              "2           2         0             LGA  ...  Male        NaN       NaN\n",
              "3           3         0             WAW  ...  Male        NaN       NaN\n",
              "4           4         0             ATL  ...  Male        NaN       NaN\n",
              "\n",
              "[5 rows x 14 columns]"
            ]
          },
          "metadata": {
            "tags": []
          },
          "execution_count": 49
        }
      ]
    },
    {
      "cell_type": "code",
      "metadata": {
        "colab": {
          "base_uri": "https://localhost:8080/",
          "height": 270
        },
        "id": "2s1sGqjKbWNj",
        "outputId": "291e1e35-89df-4b55-e399-b15e335c9b20"
      },
      "source": [
        "point_agg_df.head()"
      ],
      "execution_count": null,
      "outputs": [
        {
          "output_type": "execute_result",
          "data": {
            "text/html": [
              "<div>\n",
              "<style scoped>\n",
              "    .dataframe tbody tr th:only-of-type {\n",
              "        vertical-align: middle;\n",
              "    }\n",
              "\n",
              "    .dataframe tbody tr th {\n",
              "        vertical-align: top;\n",
              "    }\n",
              "\n",
              "    .dataframe thead th {\n",
              "        text-align: right;\n",
              "    }\n",
              "</style>\n",
              "<table border=\"1\" class=\"dataframe\">\n",
              "  <thead>\n",
              "    <tr style=\"text-align: right;\">\n",
              "      <th></th>\n",
              "      <th>uid</th>\n",
              "      <th>first_name</th>\n",
              "      <th>last_name</th>\n",
              "      <th>cards_type</th>\n",
              "      <th>cards_number</th>\n",
              "      <th>bonus_program</th>\n",
              "      <th>activity_code</th>\n",
              "      <th>activity_date</th>\n",
              "      <th>activity_departure</th>\n",
              "      <th>activity_arrival</th>\n",
              "      <th>activity_fare</th>\n",
              "    </tr>\n",
              "  </thead>\n",
              "  <tbody>\n",
              "    <tr>\n",
              "      <th>0</th>\n",
              "      <td>613142142</td>\n",
              "      <td>IAROMIR</td>\n",
              "      <td>ZVEREV</td>\n",
              "      <td>Airlines</td>\n",
              "      <td>FB 171388778</td>\n",
              "      <td>Flying Blue</td>\n",
              "      <td>KE827</td>\n",
              "      <td>2017-08-06</td>\n",
              "      <td>rea</td>\n",
              "      <td>SZX</td>\n",
              "      <td>YGRPZT</td>\n",
              "    </tr>\n",
              "    <tr>\n",
              "      <th>1</th>\n",
              "      <td>613142142</td>\n",
              "      <td>IAROMIR</td>\n",
              "      <td>ZVEREV</td>\n",
              "      <td>Airlines</td>\n",
              "      <td>FB 171388778</td>\n",
              "      <td>Flying Blue</td>\n",
              "      <td>MU9706</td>\n",
              "      <td>2017-10-26</td>\n",
              "      <td>PEK</td>\n",
              "      <td>BSD</td>\n",
              "      <td>YSTNYV</td>\n",
              "    </tr>\n",
              "    <tr>\n",
              "      <th>2</th>\n",
              "      <td>103197717</td>\n",
              "      <td>VITALINA</td>\n",
              "      <td>KOROVINA</td>\n",
              "      <td>Airlines</td>\n",
              "      <td>KE 696768759</td>\n",
              "      <td>Korean Air SKYPASS</td>\n",
              "      <td>DL5058</td>\n",
              "      <td>2017-09-11</td>\n",
              "      <td>CHA</td>\n",
              "      <td>ATL</td>\n",
              "      <td>YRSTKY</td>\n",
              "    </tr>\n",
              "    <tr>\n",
              "      <th>3</th>\n",
              "      <td>103197717</td>\n",
              "      <td>VITALINA</td>\n",
              "      <td>KOROVINA</td>\n",
              "      <td>Airlines</td>\n",
              "      <td>KE 696768759</td>\n",
              "      <td>Korean Air SKYPASS</td>\n",
              "      <td>KE1</td>\n",
              "      <td>2017-04-01</td>\n",
              "      <td>rea</td>\n",
              "      <td>HNL</td>\n",
              "      <td>PRSTRU</td>\n",
              "    </tr>\n",
              "    <tr>\n",
              "      <th>4</th>\n",
              "      <td>103197717</td>\n",
              "      <td>VITALINA</td>\n",
              "      <td>KOROVINA</td>\n",
              "      <td>Airlines</td>\n",
              "      <td>KE 696768759</td>\n",
              "      <td>Korean Air SKYPASS</td>\n",
              "      <td>DL837</td>\n",
              "      <td>2017-09-13</td>\n",
              "      <td>ATL</td>\n",
              "      <td>HNL</td>\n",
              "      <td>YGRPNG</td>\n",
              "    </tr>\n",
              "  </tbody>\n",
              "</table>\n",
              "</div>"
            ],
            "text/plain": [
              "         uid first_name  ... activity_arrival activity_fare\n",
              "0  613142142    IAROMIR  ...              SZX        YGRPZT\n",
              "1  613142142    IAROMIR  ...              BSD        YSTNYV\n",
              "2  103197717   VITALINA  ...              ATL        YRSTKY\n",
              "3  103197717   VITALINA  ...              HNL        PRSTRU\n",
              "4  103197717   VITALINA  ...              HNL        YGRPNG\n",
              "\n",
              "[5 rows x 11 columns]"
            ]
          },
          "metadata": {
            "tags": []
          },
          "execution_count": 7
        }
      ]
    },
    {
      "cell_type": "code",
      "metadata": {
        "colab": {
          "base_uri": "https://localhost:8080/",
          "height": 356
        },
        "id": "90hNAuyWbbQH",
        "outputId": "18facd94-9716-4e03-9a76-a52e0d88a17a"
      },
      "source": [
        "sirena_exp_df.head()"
      ],
      "execution_count": null,
      "outputs": [
        {
          "output_type": "execute_result",
          "data": {
            "text/html": [
              "<div>\n",
              "<style scoped>\n",
              "    .dataframe tbody tr th:only-of-type {\n",
              "        vertical-align: middle;\n",
              "    }\n",
              "\n",
              "    .dataframe tbody tr th {\n",
              "        vertical-align: top;\n",
              "    }\n",
              "\n",
              "    .dataframe thead th {\n",
              "        text-align: right;\n",
              "    }\n",
              "</style>\n",
              "<table border=\"1\" class=\"dataframe\">\n",
              "  <thead>\n",
              "    <tr style=\"text-align: right;\">\n",
              "      <th></th>\n",
              "      <th>Unnamed: 0</th>\n",
              "      <th>PaxName</th>\n",
              "      <th>PaxBirthDa</th>\n",
              "      <th>teDepartDate</th>\n",
              "      <th>DepartTime</th>\n",
              "      <th>ArrivalDate</th>\n",
              "      <th>ArrivalTime</th>\n",
              "      <th>FlightCod</th>\n",
              "      <th>eShFrom</th>\n",
              "      <th>Dest</th>\n",
              "      <th>Code  e-Ticket</th>\n",
              "      <th>Trav</th>\n",
              "      <th>elDoc</th>\n",
              "      <th>Seat</th>\n",
              "      <th>Meal</th>\n",
              "      <th>Trv</th>\n",
              "      <th>ClsFare  Baggage</th>\n",
              "      <th>PaxAdditionalInfo</th>\n",
              "      <th>Unnamed: 17</th>\n",
              "      <th>Unnamed: 18</th>\n",
              "      <th>AgentInfo</th>\n",
              "    </tr>\n",
              "  </thead>\n",
              "  <tbody>\n",
              "    <tr>\n",
              "      <th>0</th>\n",
              "      <td>0</td>\n",
              "      <td>ОЗЕРОВ ИЛЬДАР ДАНИИЛОВИЧ</td>\n",
              "      <td>15.05.1999</td>\n",
              "      <td>30.05.2017</td>\n",
              "      <td>0:05</td>\n",
              "      <td>30.05.2017</td>\n",
              "      <td>8:05</td>\n",
              "      <td>SU1306NO</td>\n",
              "      <td>SVO</td>\n",
              "      <td>OVB</td>\n",
              "      <td>ZBQSPY7360415302044672</td>\n",
              "      <td>9375</td>\n",
              "      <td>53270</td>\n",
              "      <td>NaN</td>\n",
              "      <td>NaN</td>\n",
              "      <td>J</td>\n",
              "      <td>JGRPGN0PC</td>\n",
              "      <td>S</td>\n",
              "      <td>FF#SU</td>\n",
              "      <td>38116280.0</td>\n",
              "      <td>Go2See</td>\n",
              "    </tr>\n",
              "    <tr>\n",
              "      <th>1</th>\n",
              "      <td>1</td>\n",
              "      <td>КОЛОСОВ САМИР ТАМЕРЛАНОВИЧ</td>\n",
              "      <td>NaN</td>\n",
              "      <td>27.12.2017</td>\n",
              "      <td>2:15</td>\n",
              "      <td>27.12.2017</td>\n",
              "      <td>4:40</td>\n",
              "      <td>SU1323NO</td>\n",
              "      <td>MMK</td>\n",
              "      <td>SVO</td>\n",
              "      <td>MHPBBX7398421117936516</td>\n",
              "      <td>2244</td>\n",
              "      <td>645520</td>\n",
              "      <td>NaN</td>\n",
              "      <td>KSML</td>\n",
              "      <td>Y</td>\n",
              "      <td>YRSTUQ</td>\n",
              "      <td>9</td>\n",
              "      <td>FF#FB</td>\n",
              "      <td>284903754.0</td>\n",
              "      <td>NaN</td>\n",
              "    </tr>\n",
              "    <tr>\n",
              "      <th>2</th>\n",
              "      <td>2</td>\n",
              "      <td>ИГНАТОВА СНЕЖАНА КОНСТАНТИНОВНА</td>\n",
              "      <td>NaN</td>\n",
              "      <td>19.09.2017</td>\n",
              "      <td>6:40</td>\n",
              "      <td>19.09.2017</td>\n",
              "      <td>7:45</td>\n",
              "      <td>SU1481NO</td>\n",
              "      <td>KJA</td>\n",
              "      <td>SVO</td>\n",
              "      <td>REDLVB5174973140468001</td>\n",
              "      <td>8115</td>\n",
              "      <td>961316</td>\n",
              "      <td>NaN</td>\n",
              "      <td>NaN</td>\n",
              "      <td>Y</td>\n",
              "      <td>YSTNJL</td>\n",
              "      <td>F</td>\n",
              "      <td>NaN</td>\n",
              "      <td>NaN</td>\n",
              "      <td>KupiBilet</td>\n",
              "    </tr>\n",
              "    <tr>\n",
              "      <th>3</th>\n",
              "      <td>3</td>\n",
              "      <td>ЖАРОВ ПЛАТОН АЛЬБЕРТОВИЧ</td>\n",
              "      <td>02.05.1999</td>\n",
              "      <td>18.03.2017</td>\n",
              "      <td>22:10</td>\n",
              "      <td>19.03.2017</td>\n",
              "      <td>1:05</td>\n",
              "      <td>SU1180NO</td>\n",
              "      <td>SVO</td>\n",
              "      <td>VOG</td>\n",
              "      <td>NSJNGQ5274206497242737</td>\n",
              "      <td>98 6</td>\n",
              "      <td>865148</td>\n",
              "      <td>NaN</td>\n",
              "      <td>NaN</td>\n",
              "      <td>J</td>\n",
              "      <td>JFLXLS0PC</td>\n",
              "      <td>#</td>\n",
              "      <td>FF#FB</td>\n",
              "      <td>884556993.0</td>\n",
              "      <td>Travelgenio</td>\n",
              "    </tr>\n",
              "    <tr>\n",
              "      <th>4</th>\n",
              "      <td>4</td>\n",
              "      <td>НИКОЛЬСКИЙ НИКОЛАЙ ИГОРЕВИЧ</td>\n",
              "      <td>26.12.1990</td>\n",
              "      <td>18.03.2017</td>\n",
              "      <td>22:10</td>\n",
              "      <td>19.03.2017</td>\n",
              "      <td>1:05</td>\n",
              "      <td>SU1180NO</td>\n",
              "      <td>SVO</td>\n",
              "      <td>VOG</td>\n",
              "      <td>VWNYGF6247422701565929</td>\n",
              "      <td>4396</td>\n",
              "      <td>926588</td>\n",
              "      <td>NaN</td>\n",
              "      <td>NaN</td>\n",
              "      <td>Y</td>\n",
              "      <td>YFLXPG</td>\n",
              "      <td>NaN</td>\n",
              "      <td>FF#SU</td>\n",
              "      <td>183142068.0</td>\n",
              "      <td>OZON.travel</td>\n",
              "    </tr>\n",
              "  </tbody>\n",
              "</table>\n",
              "</div>"
            ],
            "text/plain": [
              "   Unnamed: 0                          PaxName  ...  Unnamed: 18    AgentInfo\n",
              "0           0         ОЗЕРОВ ИЛЬДАР ДАНИИЛОВИЧ  ...   38116280.0       Go2See\n",
              "1           1       КОЛОСОВ САМИР ТАМЕРЛАНОВИЧ  ...  284903754.0          NaN\n",
              "2           2  ИГНАТОВА СНЕЖАНА КОНСТАНТИНОВНА  ...          NaN    KupiBilet\n",
              "3           3         ЖАРОВ ПЛАТОН АЛЬБЕРТОВИЧ  ...  884556993.0  Travelgenio\n",
              "4           4      НИКОЛЬСКИЙ НИКОЛАЙ ИГОРЕВИЧ  ...  183142068.0  OZON.travel\n",
              "\n",
              "[5 rows x 21 columns]"
            ]
          },
          "metadata": {
            "tags": []
          },
          "execution_count": 8
        }
      ]
    },
    {
      "cell_type": "code",
      "metadata": {
        "colab": {
          "base_uri": "https://localhost:8080/",
          "height": 198
        },
        "id": "p8ho307NbcoJ",
        "outputId": "5abdc296-73a5-4dcb-9b98-9e013f627826"
      },
      "source": [
        "sk_exchange_df.head()"
      ],
      "execution_count": null,
      "outputs": [
        {
          "output_type": "execute_result",
          "data": {
            "text/html": [
              "<div>\n",
              "<style scoped>\n",
              "    .dataframe tbody tr th:only-of-type {\n",
              "        vertical-align: middle;\n",
              "    }\n",
              "\n",
              "    .dataframe tbody tr th {\n",
              "        vertical-align: top;\n",
              "    }\n",
              "\n",
              "    .dataframe thead th {\n",
              "        text-align: right;\n",
              "    }\n",
              "</style>\n",
              "<table border=\"1\" class=\"dataframe\">\n",
              "  <thead>\n",
              "    <tr style=\"text-align: right;\">\n",
              "      <th></th>\n",
              "      <th>Unnamed: 0</th>\n",
              "      <th>card</th>\n",
              "      <th>date</th>\n",
              "      <th>flight</th>\n",
              "      <th>from</th>\n",
              "      <th>to</th>\n",
              "      <th>status</th>\n",
              "      <th>class</th>\n",
              "      <th>fare</th>\n",
              "    </tr>\n",
              "  </thead>\n",
              "  <tbody>\n",
              "    <tr>\n",
              "      <th>0</th>\n",
              "      <td>0</td>\n",
              "      <td>FB 520518073</td>\n",
              "      <td>2017-01-01</td>\n",
              "      <td>AF1145</td>\n",
              "      <td>SVO</td>\n",
              "      <td>CDG</td>\n",
              "      <td>LANDED</td>\n",
              "      <td>Y</td>\n",
              "      <td>YRSTFN</td>\n",
              "    </tr>\n",
              "    <tr>\n",
              "      <th>1</th>\n",
              "      <td>1</td>\n",
              "      <td>FB 18427809</td>\n",
              "      <td>2017-01-01</td>\n",
              "      <td>AF1844</td>\n",
              "      <td>SVO</td>\n",
              "      <td>CDG</td>\n",
              "      <td>LANDED</td>\n",
              "      <td>Y</td>\n",
              "      <td>YGRPZR</td>\n",
              "    </tr>\n",
              "    <tr>\n",
              "      <th>2</th>\n",
              "      <td>2</td>\n",
              "      <td>KE 993927664</td>\n",
              "      <td>2017-01-01</td>\n",
              "      <td>AF4855</td>\n",
              "      <td>SVO</td>\n",
              "      <td>CDG</td>\n",
              "      <td>LANDED</td>\n",
              "      <td>Y</td>\n",
              "      <td>YRSTJQ</td>\n",
              "    </tr>\n",
              "    <tr>\n",
              "      <th>3</th>\n",
              "      <td>3</td>\n",
              "      <td>SU 789402704</td>\n",
              "      <td>2017-01-01</td>\n",
              "      <td>AF4901</td>\n",
              "      <td>SVO</td>\n",
              "      <td>CDG</td>\n",
              "      <td>LANDED</td>\n",
              "      <td>Y</td>\n",
              "      <td>YGRPAT</td>\n",
              "    </tr>\n",
              "    <tr>\n",
              "      <th>4</th>\n",
              "      <td>4</td>\n",
              "      <td>KE 352734424</td>\n",
              "      <td>2017-01-01</td>\n",
              "      <td>AZ545</td>\n",
              "      <td>SVO</td>\n",
              "      <td>FCO</td>\n",
              "      <td>LANDED</td>\n",
              "      <td>Y</td>\n",
              "      <td>YFLXKO</td>\n",
              "    </tr>\n",
              "  </tbody>\n",
              "</table>\n",
              "</div>"
            ],
            "text/plain": [
              "   Unnamed: 0          card        date  flight from   to  status class    fare\n",
              "0           0  FB 520518073  2017-01-01  AF1145  SVO  CDG  LANDED     Y  YRSTFN\n",
              "1           1   FB 18427809  2017-01-01  AF1844  SVO  CDG  LANDED     Y  YGRPZR\n",
              "2           2  KE 993927664  2017-01-01  AF4855  SVO  CDG  LANDED     Y  YRSTJQ\n",
              "3           3  SU 789402704  2017-01-01  AF4901  SVO  CDG  LANDED     Y  YGRPAT\n",
              "4           4  KE 352734424  2017-01-01   AZ545  SVO  FCO  LANDED     Y  YFLXKO"
            ]
          },
          "metadata": {
            "tags": []
          },
          "execution_count": 9
        }
      ]
    },
    {
      "cell_type": "code",
      "metadata": {
        "colab": {
          "base_uri": "https://localhost:8080/",
          "height": 495
        },
        "id": "WnOCWGddMLB_",
        "outputId": "712ae2eb-4d53-4264-99f7-1e3ffc852c7b"
      },
      "source": [
        "board_pass_df.head()"
      ],
      "execution_count": null,
      "outputs": [
        {
          "output_type": "execute_result",
          "data": {
            "text/html": [
              "<div>\n",
              "<style scoped>\n",
              "    .dataframe tbody tr th:only-of-type {\n",
              "        vertical-align: middle;\n",
              "    }\n",
              "\n",
              "    .dataframe tbody tr th {\n",
              "        vertical-align: top;\n",
              "    }\n",
              "\n",
              "    .dataframe thead th {\n",
              "        text-align: right;\n",
              "    }\n",
              "</style>\n",
              "<table border=\"1\" class=\"dataframe\">\n",
              "  <thead>\n",
              "    <tr style=\"text-align: right;\">\n",
              "      <th></th>\n",
              "      <th>Unnamed: 0</th>\n",
              "      <th>sequence</th>\n",
              "      <th>gender</th>\n",
              "      <th>name</th>\n",
              "      <th>fare</th>\n",
              "      <th>flightNumber</th>\n",
              "      <th>cityFrom</th>\n",
              "      <th>cityTo</th>\n",
              "      <th>gate</th>\n",
              "      <th>airportFrom</th>\n",
              "      <th>airportTo</th>\n",
              "      <th>date</th>\n",
              "      <th>time</th>\n",
              "      <th>share</th>\n",
              "      <th>seat</th>\n",
              "      <th>PNR</th>\n",
              "      <th>ticket</th>\n",
              "    </tr>\n",
              "  </thead>\n",
              "  <tbody>\n",
              "    <tr>\n",
              "      <th>0</th>\n",
              "      <td>0</td>\n",
              "      <td>29</td>\n",
              "      <td>MRS</td>\n",
              "      <td>MADINA SHIRYAEVA</td>\n",
              "      <td>Y</td>\n",
              "      <td>CZ6625</td>\n",
              "      <td>ZHENGZHOU</td>\n",
              "      <td>XINZHOU</td>\n",
              "      <td>NaN</td>\n",
              "      <td>CGO</td>\n",
              "      <td>WUT</td>\n",
              "      <td>2017-09-22</td>\n",
              "      <td>14:50</td>\n",
              "      <td>Operated by Some Other Airline</td>\n",
              "      <td>NaN</td>\n",
              "      <td>OQQOHE</td>\n",
              "      <td>2669364900304337</td>\n",
              "    </tr>\n",
              "    <tr>\n",
              "      <th>1</th>\n",
              "      <td>1</td>\n",
              "      <td>75</td>\n",
              "      <td>MRS</td>\n",
              "      <td>ALINA SUKHANOVA</td>\n",
              "      <td>Y</td>\n",
              "      <td>SV1481</td>\n",
              "      <td>RIYADH</td>\n",
              "      <td>QAISUMAH</td>\n",
              "      <td>NaN</td>\n",
              "      <td>RUH</td>\n",
              "      <td>AQI</td>\n",
              "      <td>2017-09-22</td>\n",
              "      <td>05:10</td>\n",
              "      <td>Operated by Some Other Airline</td>\n",
              "      <td>NaN</td>\n",
              "      <td>ZLMHOE</td>\n",
              "      <td>9161977196434544</td>\n",
              "    </tr>\n",
              "    <tr>\n",
              "      <th>2</th>\n",
              "      <td>2</td>\n",
              "      <td>42</td>\n",
              "      <td>MR</td>\n",
              "      <td>LEV GONCHAROV</td>\n",
              "      <td>Y</td>\n",
              "      <td>SU2314</td>\n",
              "      <td>MOSCOW</td>\n",
              "      <td>BERLIN</td>\n",
              "      <td>NaN</td>\n",
              "      <td>SVO</td>\n",
              "      <td>SXF</td>\n",
              "      <td>2017-09-22</td>\n",
              "      <td>14:30</td>\n",
              "      <td>Operated by Some Other Airline</td>\n",
              "      <td>NaN</td>\n",
              "      <td>KYWCAX</td>\n",
              "      <td>3154693033418596</td>\n",
              "    </tr>\n",
              "    <tr>\n",
              "      <th>3</th>\n",
              "      <td>3</td>\n",
              "      <td>100</td>\n",
              "      <td>MRS</td>\n",
              "      <td>KULAGINA AMINA</td>\n",
              "      <td>Y</td>\n",
              "      <td>SU1175</td>\n",
              "      <td>ASTRAKHAN</td>\n",
              "      <td>MOSCOW</td>\n",
              "      <td>NaN</td>\n",
              "      <td>ASF</td>\n",
              "      <td>SVO</td>\n",
              "      <td>2017-09-22</td>\n",
              "      <td>19:50</td>\n",
              "      <td>Operated by Some Other Airline</td>\n",
              "      <td>NaN</td>\n",
              "      <td>QMQCLS</td>\n",
              "      <td>5632976945423178</td>\n",
              "    </tr>\n",
              "    <tr>\n",
              "      <th>4</th>\n",
              "      <td>4</td>\n",
              "      <td>6</td>\n",
              "      <td>MR</td>\n",
              "      <td>OLEYNIKOV VLADIMIR</td>\n",
              "      <td>Y</td>\n",
              "      <td>AZ715</td>\n",
              "      <td>ATHENS</td>\n",
              "      <td>ROME</td>\n",
              "      <td>NaN</td>\n",
              "      <td>ATH</td>\n",
              "      <td>FCO</td>\n",
              "      <td>2017-09-22</td>\n",
              "      <td>13:15</td>\n",
              "      <td>Operated by Some Other Airline</td>\n",
              "      <td>NaN</td>\n",
              "      <td>DOUZUE</td>\n",
              "      <td>8399241805063994</td>\n",
              "    </tr>\n",
              "  </tbody>\n",
              "</table>\n",
              "</div>"
            ],
            "text/plain": [
              "   Unnamed: 0  sequence gender  ... seat     PNR            ticket\n",
              "0           0        29    MRS  ...  NaN  OQQOHE  2669364900304337\n",
              "1           1        75    MRS  ...  NaN  ZLMHOE  9161977196434544\n",
              "2           2        42     MR  ...  NaN  KYWCAX  3154693033418596\n",
              "3           3       100    MRS  ...  NaN  QMQCLS  5632976945423178\n",
              "4           4         6     MR  ...  NaN  DOUZUE  8399241805063994\n",
              "\n",
              "[5 rows x 17 columns]"
            ]
          },
          "metadata": {
            "tags": []
          },
          "execution_count": 10
        }
      ]
    },
    {
      "cell_type": "code",
      "metadata": {
        "colab": {
          "base_uri": "https://localhost:8080/",
          "height": 322
        },
        "id": "XXcWq8YoGald",
        "outputId": "957ff1a0-3e01-4d58-93bc-902410b190f6"
      },
      "source": [
        "sk_timetable_df.head()"
      ],
      "execution_count": null,
      "outputs": [
        {
          "output_type": "execute_result",
          "data": {
            "text/html": [
              "<div>\n",
              "<style scoped>\n",
              "    .dataframe tbody tr th:only-of-type {\n",
              "        vertical-align: middle;\n",
              "    }\n",
              "\n",
              "    .dataframe tbody tr th {\n",
              "        vertical-align: top;\n",
              "    }\n",
              "\n",
              "    .dataframe thead th {\n",
              "        text-align: right;\n",
              "    }\n",
              "</style>\n",
              "<table border=\"1\" class=\"dataframe\">\n",
              "  <thead>\n",
              "    <tr style=\"text-align: right;\">\n",
              "      <th></th>\n",
              "      <th>Unnamed: 0</th>\n",
              "      <th>Unnamed: 0.1</th>\n",
              "      <th>Validity</th>\n",
              "      <th>Days</th>\n",
              "      <th>Dep_Time</th>\n",
              "      <th>Arr_Time</th>\n",
              "      <th>Flight</th>\n",
              "      <th>Aircraft</th>\n",
              "      <th>Travel_Time</th>\n",
              "      <th>city_from</th>\n",
              "      <th>country_from</th>\n",
              "      <th>airport_from</th>\n",
              "      <th>city_to</th>\n",
              "      <th>country_to</th>\n",
              "      <th>airport_to</th>\n",
              "    </tr>\n",
              "  </thead>\n",
              "  <tbody>\n",
              "    <tr>\n",
              "      <th>0</th>\n",
              "      <td>0</td>\n",
              "      <td>0</td>\n",
              "      <td>01 Nov  -  31 Jan</td>\n",
              "      <td>1234567</td>\n",
              "      <td>06:00</td>\n",
              "      <td>07:25</td>\n",
              "      <td>KL1328</td>\n",
              "      <td>73W</td>\n",
              "      <td>1H25M</td>\n",
              "      <td>Aalborg</td>\n",
              "      <td>Denmark</td>\n",
              "      <td>AA</td>\n",
              "      <td>Amsterdam</td>\n",
              "      <td>Netherlands</td>\n",
              "      <td>AMS</td>\n",
              "    </tr>\n",
              "    <tr>\n",
              "      <th>1</th>\n",
              "      <td>1</td>\n",
              "      <td>1</td>\n",
              "      <td>01 Nov  -  31 Jan</td>\n",
              "      <td>1234567</td>\n",
              "      <td>12:10</td>\n",
              "      <td>13:35</td>\n",
              "      <td>KL1334</td>\n",
              "      <td>73W</td>\n",
              "      <td>1H25M</td>\n",
              "      <td>Aalborg</td>\n",
              "      <td>Denmark</td>\n",
              "      <td>AA</td>\n",
              "      <td>Amsterdam</td>\n",
              "      <td>Netherlands</td>\n",
              "      <td>AMS</td>\n",
              "    </tr>\n",
              "    <tr>\n",
              "      <th>2</th>\n",
              "      <td>2</td>\n",
              "      <td>2</td>\n",
              "      <td>01 Nov  -  23 Dec</td>\n",
              "      <td>1234567</td>\n",
              "      <td>18:15</td>\n",
              "      <td>19:35</td>\n",
              "      <td>KL1336</td>\n",
              "      <td>EQV</td>\n",
              "      <td>1H20M</td>\n",
              "      <td>Aalborg</td>\n",
              "      <td>Denmark</td>\n",
              "      <td>AA</td>\n",
              "      <td>Amsterdam</td>\n",
              "      <td>Netherlands</td>\n",
              "      <td>AMS</td>\n",
              "    </tr>\n",
              "    <tr>\n",
              "      <th>3</th>\n",
              "      <td>3</td>\n",
              "      <td>3</td>\n",
              "      <td>26 Dec  -  06 Jan</td>\n",
              "      <td>1  34567</td>\n",
              "      <td>18:15</td>\n",
              "      <td>19:35</td>\n",
              "      <td>KL1336</td>\n",
              "      <td>EQV</td>\n",
              "      <td>1H20M</td>\n",
              "      <td>Aalborg</td>\n",
              "      <td>Denmark</td>\n",
              "      <td>AA</td>\n",
              "      <td>Amsterdam</td>\n",
              "      <td>Netherlands</td>\n",
              "      <td>AMS</td>\n",
              "    </tr>\n",
              "    <tr>\n",
              "      <th>4</th>\n",
              "      <td>4</td>\n",
              "      <td>4</td>\n",
              "      <td>07 Jan  -  31 Jan</td>\n",
              "      <td>1234567</td>\n",
              "      <td>18:15</td>\n",
              "      <td>19:35</td>\n",
              "      <td>KL1336</td>\n",
              "      <td>EQV</td>\n",
              "      <td>1H20M</td>\n",
              "      <td>Aalborg</td>\n",
              "      <td>Denmark</td>\n",
              "      <td>AA</td>\n",
              "      <td>Amsterdam</td>\n",
              "      <td>Netherlands</td>\n",
              "      <td>AMS</td>\n",
              "    </tr>\n",
              "  </tbody>\n",
              "</table>\n",
              "</div>"
            ],
            "text/plain": [
              "   Unnamed: 0  Unnamed: 0.1  ...    country_to airport_to\n",
              "0           0             0  ...   Netherlands        AMS\n",
              "1           1             1  ...   Netherlands        AMS\n",
              "2           2             2  ...   Netherlands        AMS\n",
              "3           3             3  ...   Netherlands        AMS\n",
              "4           4             4  ...   Netherlands        AMS\n",
              "\n",
              "[5 rows x 15 columns]"
            ]
          },
          "metadata": {
            "tags": []
          },
          "execution_count": 11
        }
      ]
    },
    {
      "cell_type": "markdown",
      "metadata": {
        "id": "o6gxoOKJcWLN"
      },
      "source": [
        "# Предобработка"
      ]
    },
    {
      "cell_type": "markdown",
      "metadata": {
        "id": "qjFFjv4lisqX"
      },
      "source": [
        "### Отсечение фиктивных столбцов после предобработки"
      ]
    },
    {
      "cell_type": "code",
      "metadata": {
        "id": "6W71dvwZibtz"
      },
      "source": [
        "freq_flyer_df.drop(columns=['Unnamed: 0'], inplace=True)\n",
        "sirena_exp_df.drop(columns=['Unnamed: 0'], inplace=True)\n",
        "sk_exchange_df.drop(columns=['Unnamed: 0'], inplace=True)\n",
        "board_pass_df.drop(columns=['Unnamed: 0'], inplace=True)\n",
        "sk_timetable_df.drop(columns=['Unnamed: 0', 'Unnamed: 0.1'], inplace=True)"
      ],
      "execution_count": null,
      "outputs": []
    },
    {
      "cell_type": "markdown",
      "metadata": {
        "id": "453iTf7Fiy4u"
      },
      "source": [
        "### Преобразование столбцов в формат даты"
      ]
    },
    {
      "cell_type": "code",
      "metadata": {
        "id": "3WmfRBDcjgaM"
      },
      "source": [
        "board_data_df['FlightDateTime'] = pd.to_datetime(board_data_df['FlightDate'] + ' ' + board_data_df['FlightTime'])\n",
        "# board_data_df.drop(columns=['FlightDate', 'FlightTime'], inplace=True)  # удаление исходных после слияния\n",
        "\n",
        "freq_flyer_df.Date = pd.to_datetime(freq_flyer_df.Date)\n",
        "\n",
        "point_agg_df.activity_date = pd.to_datetime(point_agg_df.activity_date)\n",
        "\n",
        "sirena_exp_df.PaxBirthDa = pd.to_datetime(sirena_exp_df.PaxBirthDa)\n",
        "sirena_exp_df['DepartDateTime'] = pd.to_datetime(sirena_exp_df['teDepartDate'] + ' ' + sirena_exp_df['DepartTime'])\n",
        "sirena_exp_df['ArrivalDateTime'] = pd.to_datetime(sirena_exp_df['ArrivalDate'] + ' ' + sirena_exp_df['ArrivalTime'])\n",
        "# происходило слияние даты и времени в один столбец, удаляются исходные\n",
        "# sirena_exp_df.drop(columns=['teDepartDate', 'DepartTime', 'ArrivalDate', 'ArrivalTime'], inplace=True)\n",
        "\n",
        "sk_exchange_df.date = pd.to_datetime(sk_exchange_df.date)\n",
        "\n",
        "board_pass_df['BoardDateTime'] = pd.to_datetime(board_pass_df['date'] + ' ' + board_pass_df['time'])\n",
        "board_pass_df['date'] = pd.to_datetime(board_pass_df['date'])"
      ],
      "execution_count": null,
      "outputs": []
    },
    {
      "cell_type": "markdown",
      "metadata": {
        "id": "Ru3Upy69yQub"
      },
      "source": [
        "### Sirena_exp \n",
        "* Преобразования столбца в столбец карты\n",
        "* Удаления столбца без данных (Seat)"
      ]
    },
    {
      "cell_type": "code",
      "metadata": {
        "id": "rVbBDwLI3WR1",
        "colab": {
          "base_uri": "https://localhost:8080/"
        },
        "outputId": "d8ca7861-3d0f-44af-ca31-2359bf11152d"
      },
      "source": [
        "sirena_exp_df.head()  # PaxName нужно преобразовать в транслит"
      ],
      "execution_count": null,
      "outputs": [
        {
          "output_type": "execute_result",
          "data": {
            "text/html": [
              "<div>\n",
              "<style scoped>\n",
              "    .dataframe tbody tr th:only-of-type {\n",
              "        vertical-align: middle;\n",
              "    }\n",
              "\n",
              "    .dataframe tbody tr th {\n",
              "        vertical-align: top;\n",
              "    }\n",
              "\n",
              "    .dataframe thead th {\n",
              "        text-align: right;\n",
              "    }\n",
              "</style>\n",
              "<table border=\"1\" class=\"dataframe\">\n",
              "  <thead>\n",
              "    <tr style=\"text-align: right;\">\n",
              "      <th></th>\n",
              "      <th>PaxName</th>\n",
              "      <th>PaxBirthDa</th>\n",
              "      <th>teDepartDate</th>\n",
              "      <th>DepartTime</th>\n",
              "      <th>ArrivalDate</th>\n",
              "      <th>ArrivalTime</th>\n",
              "      <th>FlightCod</th>\n",
              "      <th>eShFrom</th>\n",
              "      <th>Dest</th>\n",
              "      <th>Code  e-Ticket</th>\n",
              "      <th>Trav</th>\n",
              "      <th>elDoc</th>\n",
              "      <th>Seat</th>\n",
              "      <th>Meal</th>\n",
              "      <th>Trv</th>\n",
              "      <th>ClsFare  Baggage</th>\n",
              "      <th>PaxAdditionalInfo</th>\n",
              "      <th>Unnamed: 17</th>\n",
              "      <th>Unnamed: 18</th>\n",
              "      <th>AgentInfo</th>\n",
              "      <th>DepartDateTime</th>\n",
              "      <th>ArrivalDateTime</th>\n",
              "    </tr>\n",
              "  </thead>\n",
              "  <tbody>\n",
              "    <tr>\n",
              "      <th>0</th>\n",
              "      <td>ОЗЕРОВ ИЛЬДАР ДАНИИЛОВИЧ</td>\n",
              "      <td>1999-05-15</td>\n",
              "      <td>30.05.2017</td>\n",
              "      <td>0:05</td>\n",
              "      <td>30.05.2017</td>\n",
              "      <td>8:05</td>\n",
              "      <td>SU1306NO</td>\n",
              "      <td>SVO</td>\n",
              "      <td>OVB</td>\n",
              "      <td>ZBQSPY7360415302044672</td>\n",
              "      <td>9375</td>\n",
              "      <td>53270</td>\n",
              "      <td>NaN</td>\n",
              "      <td>NaN</td>\n",
              "      <td>J</td>\n",
              "      <td>JGRPGN0PC</td>\n",
              "      <td>S</td>\n",
              "      <td>FF#SU</td>\n",
              "      <td>38116280.0</td>\n",
              "      <td>Go2See</td>\n",
              "      <td>2017-05-30 00:05:00</td>\n",
              "      <td>2017-05-30 08:05:00</td>\n",
              "    </tr>\n",
              "    <tr>\n",
              "      <th>1</th>\n",
              "      <td>КОЛОСОВ САМИР ТАМЕРЛАНОВИЧ</td>\n",
              "      <td>NaT</td>\n",
              "      <td>27.12.2017</td>\n",
              "      <td>2:15</td>\n",
              "      <td>27.12.2017</td>\n",
              "      <td>4:40</td>\n",
              "      <td>SU1323NO</td>\n",
              "      <td>MMK</td>\n",
              "      <td>SVO</td>\n",
              "      <td>MHPBBX7398421117936516</td>\n",
              "      <td>2244</td>\n",
              "      <td>645520</td>\n",
              "      <td>NaN</td>\n",
              "      <td>KSML</td>\n",
              "      <td>Y</td>\n",
              "      <td>YRSTUQ</td>\n",
              "      <td>9</td>\n",
              "      <td>FF#FB</td>\n",
              "      <td>284903754.0</td>\n",
              "      <td>NaN</td>\n",
              "      <td>2017-12-27 02:15:00</td>\n",
              "      <td>2017-12-27 04:40:00</td>\n",
              "    </tr>\n",
              "    <tr>\n",
              "      <th>2</th>\n",
              "      <td>ИГНАТОВА СНЕЖАНА КОНСТАНТИНОВНА</td>\n",
              "      <td>NaT</td>\n",
              "      <td>19.09.2017</td>\n",
              "      <td>6:40</td>\n",
              "      <td>19.09.2017</td>\n",
              "      <td>7:45</td>\n",
              "      <td>SU1481NO</td>\n",
              "      <td>KJA</td>\n",
              "      <td>SVO</td>\n",
              "      <td>REDLVB5174973140468001</td>\n",
              "      <td>8115</td>\n",
              "      <td>961316</td>\n",
              "      <td>NaN</td>\n",
              "      <td>NaN</td>\n",
              "      <td>Y</td>\n",
              "      <td>YSTNJL</td>\n",
              "      <td>F</td>\n",
              "      <td>NaN</td>\n",
              "      <td>NaN</td>\n",
              "      <td>KupiBilet</td>\n",
              "      <td>2017-09-19 06:40:00</td>\n",
              "      <td>2017-09-19 07:45:00</td>\n",
              "    </tr>\n",
              "    <tr>\n",
              "      <th>3</th>\n",
              "      <td>ЖАРОВ ПЛАТОН АЛЬБЕРТОВИЧ</td>\n",
              "      <td>1999-02-05</td>\n",
              "      <td>18.03.2017</td>\n",
              "      <td>22:10</td>\n",
              "      <td>19.03.2017</td>\n",
              "      <td>1:05</td>\n",
              "      <td>SU1180NO</td>\n",
              "      <td>SVO</td>\n",
              "      <td>VOG</td>\n",
              "      <td>NSJNGQ5274206497242737</td>\n",
              "      <td>98 6</td>\n",
              "      <td>865148</td>\n",
              "      <td>NaN</td>\n",
              "      <td>NaN</td>\n",
              "      <td>J</td>\n",
              "      <td>JFLXLS0PC</td>\n",
              "      <td>#</td>\n",
              "      <td>FF#FB</td>\n",
              "      <td>884556993.0</td>\n",
              "      <td>Travelgenio</td>\n",
              "      <td>2017-03-18 22:10:00</td>\n",
              "      <td>2017-03-19 01:05:00</td>\n",
              "    </tr>\n",
              "    <tr>\n",
              "      <th>4</th>\n",
              "      <td>НИКОЛЬСКИЙ НИКОЛАЙ ИГОРЕВИЧ</td>\n",
              "      <td>1990-12-26</td>\n",
              "      <td>18.03.2017</td>\n",
              "      <td>22:10</td>\n",
              "      <td>19.03.2017</td>\n",
              "      <td>1:05</td>\n",
              "      <td>SU1180NO</td>\n",
              "      <td>SVO</td>\n",
              "      <td>VOG</td>\n",
              "      <td>VWNYGF6247422701565929</td>\n",
              "      <td>4396</td>\n",
              "      <td>926588</td>\n",
              "      <td>NaN</td>\n",
              "      <td>NaN</td>\n",
              "      <td>Y</td>\n",
              "      <td>YFLXPG</td>\n",
              "      <td>NaN</td>\n",
              "      <td>FF#SU</td>\n",
              "      <td>183142068.0</td>\n",
              "      <td>OZON.travel</td>\n",
              "      <td>2017-03-18 22:10:00</td>\n",
              "      <td>2017-03-19 01:05:00</td>\n",
              "    </tr>\n",
              "  </tbody>\n",
              "</table>\n",
              "</div>"
            ],
            "text/plain": [
              "                           PaxName  ...     ArrivalDateTime\n",
              "0         ОЗЕРОВ ИЛЬДАР ДАНИИЛОВИЧ  ... 2017-05-30 08:05:00\n",
              "1       КОЛОСОВ САМИР ТАМЕРЛАНОВИЧ  ... 2017-12-27 04:40:00\n",
              "2  ИГНАТОВА СНЕЖАНА КОНСТАНТИНОВНА  ... 2017-09-19 07:45:00\n",
              "3         ЖАРОВ ПЛАТОН АЛЬБЕРТОВИЧ  ... 2017-03-19 01:05:00\n",
              "4      НИКОЛЬСКИЙ НИКОЛАЙ ИГОРЕВИЧ  ... 2017-03-19 01:05:00\n",
              "\n",
              "[5 rows x 22 columns]"
            ]
          },
          "metadata": {
            "tags": []
          },
          "execution_count": 58
        }
      ]
    },
    {
      "cell_type": "code",
      "metadata": {
        "id": "G3Mv33iuqK2W",
        "colab": {
          "base_uri": "https://localhost:8080/"
        },
        "outputId": "bc6b8fea-1e24-41a2-c0dd-8f3f57b237d7"
      },
      "source": [
        "sirena_exp_df.Seat.unique()  # лишний столбец нет уникальных значений"
      ],
      "execution_count": null,
      "outputs": [
        {
          "output_type": "execute_result",
          "data": {
            "text/plain": [
              "array([nan])"
            ]
          },
          "metadata": {
            "tags": []
          },
          "execution_count": 59
        }
      ]
    },
    {
      "cell_type": "code",
      "metadata": {
        "id": "H3uj6TDMrrkw"
      },
      "source": [
        "# в Unnamed: 17 и Unnamed: 18 лежат серия и номер карты лояльности\n",
        "cards = []\n",
        "for _, row in sirena_exp_df.iterrows():\n",
        "    if type(row['Unnamed: 17']) is str:\n",
        "        cards.append(f'{row[\"Unnamed: 17\"][:2]} {int(row[\"Unnamed: 18\"])}')\n",
        "    else:\n",
        "        cards.append(None)"
      ],
      "execution_count": null,
      "outputs": []
    },
    {
      "cell_type": "code",
      "metadata": {
        "id": "qwt3A_uVx8bS"
      },
      "source": [
        "sirena_exp_df = sirena_exp_df.assign(card=cards)\n",
        "sirena_exp_df.drop(columns=['Unnamed: 17', 'Unnamed: 18', 'Seat'], inplace=True)"
      ],
      "execution_count": null,
      "outputs": []
    },
    {
      "cell_type": "markdown",
      "metadata": {
        "id": "D1QeistyrDIG"
      },
      "source": [
        "По номерам карт не совпадает ни с sk_exchange ни с point_agg"
      ]
    },
    {
      "cell_type": "markdown",
      "metadata": {
        "id": "ZEoP5v6jbGm0"
      },
      "source": [
        "### Транслитерация sirena_exp_df"
      ]
    },
    {
      "cell_type": "code",
      "metadata": {
        "id": "5w5dwry3bO0C"
      },
      "source": [
        "sirena_exp_df['PaxName'] = sirena_exp_df['PaxName'].apply(iuliia.translate, schema=iuliia.GOST_779_ALT).str.upper().apply(lambda x: ' '.join(x.split()[-2::-1]))"
      ],
      "execution_count": null,
      "outputs": []
    },
    {
      "cell_type": "code",
      "metadata": {
        "colab": {
          "base_uri": "https://localhost:8080/"
        },
        "id": "0LvWLvLBMUOl",
        "outputId": "2333af55-e450-492d-b71c-01c8e32fc65e"
      },
      "source": [
        "sirena_exp_df.head()"
      ],
      "execution_count": null,
      "outputs": [
        {
          "output_type": "execute_result",
          "data": {
            "text/html": [
              "<div>\n",
              "<style scoped>\n",
              "    .dataframe tbody tr th:only-of-type {\n",
              "        vertical-align: middle;\n",
              "    }\n",
              "\n",
              "    .dataframe tbody tr th {\n",
              "        vertical-align: top;\n",
              "    }\n",
              "\n",
              "    .dataframe thead th {\n",
              "        text-align: right;\n",
              "    }\n",
              "</style>\n",
              "<table border=\"1\" class=\"dataframe\">\n",
              "  <thead>\n",
              "    <tr style=\"text-align: right;\">\n",
              "      <th></th>\n",
              "      <th>PaxName</th>\n",
              "      <th>PaxBirthDa</th>\n",
              "      <th>teDepartDate</th>\n",
              "      <th>DepartTime</th>\n",
              "      <th>ArrivalDate</th>\n",
              "      <th>ArrivalTime</th>\n",
              "      <th>FlightCod</th>\n",
              "      <th>eShFrom</th>\n",
              "      <th>Dest</th>\n",
              "      <th>Code  e-Ticket</th>\n",
              "      <th>Trav</th>\n",
              "      <th>elDoc</th>\n",
              "      <th>Meal</th>\n",
              "      <th>Trv</th>\n",
              "      <th>ClsFare  Baggage</th>\n",
              "      <th>PaxAdditionalInfo</th>\n",
              "      <th>AgentInfo</th>\n",
              "      <th>DepartDateTime</th>\n",
              "      <th>ArrivalDateTime</th>\n",
              "      <th>card</th>\n",
              "    </tr>\n",
              "  </thead>\n",
              "  <tbody>\n",
              "    <tr>\n",
              "      <th>0</th>\n",
              "      <td>IL`DAR OZEROV</td>\n",
              "      <td>1999-05-15</td>\n",
              "      <td>30.05.2017</td>\n",
              "      <td>0:05</td>\n",
              "      <td>30.05.2017</td>\n",
              "      <td>8:05</td>\n",
              "      <td>SU1306NO</td>\n",
              "      <td>SVO</td>\n",
              "      <td>OVB</td>\n",
              "      <td>ZBQSPY7360415302044672</td>\n",
              "      <td>9375</td>\n",
              "      <td>53270</td>\n",
              "      <td>NaN</td>\n",
              "      <td>J</td>\n",
              "      <td>JGRPGN0PC</td>\n",
              "      <td>S</td>\n",
              "      <td>Go2See</td>\n",
              "      <td>2017-05-30 00:05:00</td>\n",
              "      <td>2017-05-30 08:05:00</td>\n",
              "      <td>FF 38116280</td>\n",
              "    </tr>\n",
              "    <tr>\n",
              "      <th>1</th>\n",
              "      <td>SAMIR KOLOSOV</td>\n",
              "      <td>NaT</td>\n",
              "      <td>27.12.2017</td>\n",
              "      <td>2:15</td>\n",
              "      <td>27.12.2017</td>\n",
              "      <td>4:40</td>\n",
              "      <td>SU1323NO</td>\n",
              "      <td>MMK</td>\n",
              "      <td>SVO</td>\n",
              "      <td>MHPBBX7398421117936516</td>\n",
              "      <td>2244</td>\n",
              "      <td>645520</td>\n",
              "      <td>KSML</td>\n",
              "      <td>Y</td>\n",
              "      <td>YRSTUQ</td>\n",
              "      <td>9</td>\n",
              "      <td>NaN</td>\n",
              "      <td>2017-12-27 02:15:00</td>\n",
              "      <td>2017-12-27 04:40:00</td>\n",
              "      <td>FF 284903754</td>\n",
              "    </tr>\n",
              "    <tr>\n",
              "      <th>2</th>\n",
              "      <td>SNEZHANA IGNATOVA</td>\n",
              "      <td>NaT</td>\n",
              "      <td>19.09.2017</td>\n",
              "      <td>6:40</td>\n",
              "      <td>19.09.2017</td>\n",
              "      <td>7:45</td>\n",
              "      <td>SU1481NO</td>\n",
              "      <td>KJA</td>\n",
              "      <td>SVO</td>\n",
              "      <td>REDLVB5174973140468001</td>\n",
              "      <td>8115</td>\n",
              "      <td>961316</td>\n",
              "      <td>NaN</td>\n",
              "      <td>Y</td>\n",
              "      <td>YSTNJL</td>\n",
              "      <td>F</td>\n",
              "      <td>KupiBilet</td>\n",
              "      <td>2017-09-19 06:40:00</td>\n",
              "      <td>2017-09-19 07:45:00</td>\n",
              "      <td>None</td>\n",
              "    </tr>\n",
              "    <tr>\n",
              "      <th>3</th>\n",
              "      <td>PLATON ZHAROV</td>\n",
              "      <td>1999-02-05</td>\n",
              "      <td>18.03.2017</td>\n",
              "      <td>22:10</td>\n",
              "      <td>19.03.2017</td>\n",
              "      <td>1:05</td>\n",
              "      <td>SU1180NO</td>\n",
              "      <td>SVO</td>\n",
              "      <td>VOG</td>\n",
              "      <td>NSJNGQ5274206497242737</td>\n",
              "      <td>98 6</td>\n",
              "      <td>865148</td>\n",
              "      <td>NaN</td>\n",
              "      <td>J</td>\n",
              "      <td>JFLXLS0PC</td>\n",
              "      <td>#</td>\n",
              "      <td>Travelgenio</td>\n",
              "      <td>2017-03-18 22:10:00</td>\n",
              "      <td>2017-03-19 01:05:00</td>\n",
              "      <td>FF 884556993</td>\n",
              "    </tr>\n",
              "    <tr>\n",
              "      <th>4</th>\n",
              "      <td>NIKOLAJ NIKOL`SKIJ</td>\n",
              "      <td>1990-12-26</td>\n",
              "      <td>18.03.2017</td>\n",
              "      <td>22:10</td>\n",
              "      <td>19.03.2017</td>\n",
              "      <td>1:05</td>\n",
              "      <td>SU1180NO</td>\n",
              "      <td>SVO</td>\n",
              "      <td>VOG</td>\n",
              "      <td>VWNYGF6247422701565929</td>\n",
              "      <td>4396</td>\n",
              "      <td>926588</td>\n",
              "      <td>NaN</td>\n",
              "      <td>Y</td>\n",
              "      <td>YFLXPG</td>\n",
              "      <td>NaN</td>\n",
              "      <td>OZON.travel</td>\n",
              "      <td>2017-03-18 22:10:00</td>\n",
              "      <td>2017-03-19 01:05:00</td>\n",
              "      <td>FF 183142068</td>\n",
              "    </tr>\n",
              "  </tbody>\n",
              "</table>\n",
              "</div>"
            ],
            "text/plain": [
              "              PaxName PaxBirthDa  ...     ArrivalDateTime          card\n",
              "0       IL`DAR OZEROV 1999-05-15  ... 2017-05-30 08:05:00   FF 38116280\n",
              "1       SAMIR KOLOSOV        NaT  ... 2017-12-27 04:40:00  FF 284903754\n",
              "2   SNEZHANA IGNATOVA        NaT  ... 2017-09-19 07:45:00          None\n",
              "3       PLATON ZHAROV 1999-02-05  ... 2017-03-19 01:05:00  FF 884556993\n",
              "4  NIKOLAJ NIKOL`SKIJ 1990-12-26  ... 2017-03-19 01:05:00  FF 183142068\n",
              "\n",
              "[5 rows x 20 columns]"
            ]
          },
          "metadata": {
            "tags": []
          },
          "execution_count": 63
        }
      ]
    },
    {
      "cell_type": "markdown",
      "metadata": {
        "id": "BtuZO0tNIzVI"
      },
      "source": [
        "### Дополнение sk_exchange именами"
      ]
    },
    {
      "cell_type": "code",
      "metadata": {
        "id": "sI-gtkBFLYGu"
      },
      "source": [
        "sk_exchange_with_names_df = sk_exchange_df.merge(point_agg_df[['first_name', 'last_name', 'cards_number']],\n",
        "                                                 how='left',\n",
        "                                                 left_on='card',\n",
        "                                                 right_on='cards_number').drop_duplicates()\n",
        "sk_exchange_with_names_df.drop(columns=['cards_number'], inplace=True)"
      ],
      "execution_count": null,
      "outputs": []
    },
    {
      "cell_type": "code",
      "metadata": {
        "id": "xO_UInBApqcT",
        "colab": {
          "base_uri": "https://localhost:8080/"
        },
        "outputId": "9f8caa63-dfe3-42c7-a0f2-3b5fd0024888"
      },
      "source": [
        "sk_exchange_with_names_df.head()"
      ],
      "execution_count": null,
      "outputs": [
        {
          "output_type": "execute_result",
          "data": {
            "text/html": [
              "<div>\n",
              "<style scoped>\n",
              "    .dataframe tbody tr th:only-of-type {\n",
              "        vertical-align: middle;\n",
              "    }\n",
              "\n",
              "    .dataframe tbody tr th {\n",
              "        vertical-align: top;\n",
              "    }\n",
              "\n",
              "    .dataframe thead th {\n",
              "        text-align: right;\n",
              "    }\n",
              "</style>\n",
              "<table border=\"1\" class=\"dataframe\">\n",
              "  <thead>\n",
              "    <tr style=\"text-align: right;\">\n",
              "      <th></th>\n",
              "      <th>card</th>\n",
              "      <th>date</th>\n",
              "      <th>flight</th>\n",
              "      <th>from</th>\n",
              "      <th>to</th>\n",
              "      <th>status</th>\n",
              "      <th>class</th>\n",
              "      <th>fare</th>\n",
              "      <th>first_name</th>\n",
              "      <th>last_name</th>\n",
              "    </tr>\n",
              "  </thead>\n",
              "  <tbody>\n",
              "    <tr>\n",
              "      <th>0</th>\n",
              "      <td>FB 520518073</td>\n",
              "      <td>2017-01-01</td>\n",
              "      <td>AF1145</td>\n",
              "      <td>SVO</td>\n",
              "      <td>CDG</td>\n",
              "      <td>LANDED</td>\n",
              "      <td>Y</td>\n",
              "      <td>YRSTFN</td>\n",
              "      <td>MELANIIA</td>\n",
              "      <td>AFANASEVA</td>\n",
              "    </tr>\n",
              "    <tr>\n",
              "      <th>6</th>\n",
              "      <td>FB 18427809</td>\n",
              "      <td>2017-01-01</td>\n",
              "      <td>AF1844</td>\n",
              "      <td>SVO</td>\n",
              "      <td>CDG</td>\n",
              "      <td>LANDED</td>\n",
              "      <td>Y</td>\n",
              "      <td>YGRPZR</td>\n",
              "      <td>SOFIA</td>\n",
              "      <td>MASLOVA</td>\n",
              "    </tr>\n",
              "    <tr>\n",
              "      <th>14</th>\n",
              "      <td>KE 993927664</td>\n",
              "      <td>2017-01-01</td>\n",
              "      <td>AF4855</td>\n",
              "      <td>SVO</td>\n",
              "      <td>CDG</td>\n",
              "      <td>LANDED</td>\n",
              "      <td>Y</td>\n",
              "      <td>YRSTJQ</td>\n",
              "      <td>NaN</td>\n",
              "      <td>NaN</td>\n",
              "    </tr>\n",
              "    <tr>\n",
              "      <th>15</th>\n",
              "      <td>SU 789402704</td>\n",
              "      <td>2017-01-01</td>\n",
              "      <td>AF4901</td>\n",
              "      <td>SVO</td>\n",
              "      <td>CDG</td>\n",
              "      <td>LANDED</td>\n",
              "      <td>Y</td>\n",
              "      <td>YGRPAT</td>\n",
              "      <td>BORIS</td>\n",
              "      <td>MALININ</td>\n",
              "    </tr>\n",
              "    <tr>\n",
              "      <th>19</th>\n",
              "      <td>KE 352734424</td>\n",
              "      <td>2017-01-01</td>\n",
              "      <td>AZ545</td>\n",
              "      <td>SVO</td>\n",
              "      <td>FCO</td>\n",
              "      <td>LANDED</td>\n",
              "      <td>Y</td>\n",
              "      <td>YFLXKO</td>\n",
              "      <td>FEDOR</td>\n",
              "      <td>ROGOV</td>\n",
              "    </tr>\n",
              "  </tbody>\n",
              "</table>\n",
              "</div>"
            ],
            "text/plain": [
              "            card       date  flight from  ... class    fare first_name  last_name\n",
              "0   FB 520518073 2017-01-01  AF1145  SVO  ...     Y  YRSTFN   MELANIIA  AFANASEVA\n",
              "6    FB 18427809 2017-01-01  AF1844  SVO  ...     Y  YGRPZR      SOFIA    MASLOVA\n",
              "14  KE 993927664 2017-01-01  AF4855  SVO  ...     Y  YRSTJQ        NaN        NaN\n",
              "15  SU 789402704 2017-01-01  AF4901  SVO  ...     Y  YGRPAT      BORIS    MALININ\n",
              "19  KE 352734424 2017-01-01   AZ545  SVO  ...     Y  YFLXKO      FEDOR      ROGOV\n",
              "\n",
              "[5 rows x 10 columns]"
            ]
          },
          "metadata": {
            "tags": []
          },
          "execution_count": 65
        }
      ]
    },
    {
      "cell_type": "markdown",
      "metadata": {
        "id": "RtvqLOEBPWP0"
      },
      "source": [
        "Board_pass"
      ]
    },
    {
      "cell_type": "code",
      "metadata": {
        "id": "VACEEA8BPVt5"
      },
      "source": [
        ""
      ],
      "execution_count": null,
      "outputs": []
    },
    {
      "cell_type": "markdown",
      "metadata": {
        "id": "AbsrFdadQV-Q"
      },
      "source": [
        "### board_pass_df\n",
        "* Удаление столбцов без данных (Seat, gate)"
      ]
    },
    {
      "cell_type": "code",
      "metadata": {
        "id": "H1_mo3m9Q9e_",
        "colab": {
          "base_uri": "https://localhost:8080/"
        },
        "outputId": "ab3c6387-3aef-4d07-cc53-a17a214ef6c5"
      },
      "source": [
        "board_pass_df.drop(columns=['seat', 'gate'], inplace=True)\n",
        "board_pass_df.head()"
      ],
      "execution_count": null,
      "outputs": [
        {
          "output_type": "execute_result",
          "data": {
            "text/html": [
              "<div>\n",
              "<style scoped>\n",
              "    .dataframe tbody tr th:only-of-type {\n",
              "        vertical-align: middle;\n",
              "    }\n",
              "\n",
              "    .dataframe tbody tr th {\n",
              "        vertical-align: top;\n",
              "    }\n",
              "\n",
              "    .dataframe thead th {\n",
              "        text-align: right;\n",
              "    }\n",
              "</style>\n",
              "<table border=\"1\" class=\"dataframe\">\n",
              "  <thead>\n",
              "    <tr style=\"text-align: right;\">\n",
              "      <th></th>\n",
              "      <th>sequence</th>\n",
              "      <th>gender</th>\n",
              "      <th>name</th>\n",
              "      <th>fare</th>\n",
              "      <th>flightNumber</th>\n",
              "      <th>cityFrom</th>\n",
              "      <th>cityTo</th>\n",
              "      <th>airportFrom</th>\n",
              "      <th>airportTo</th>\n",
              "      <th>date</th>\n",
              "      <th>time</th>\n",
              "      <th>share</th>\n",
              "      <th>PNR</th>\n",
              "      <th>ticket</th>\n",
              "      <th>BoardDateTime</th>\n",
              "    </tr>\n",
              "  </thead>\n",
              "  <tbody>\n",
              "    <tr>\n",
              "      <th>0</th>\n",
              "      <td>29</td>\n",
              "      <td>MRS</td>\n",
              "      <td>MADINA SHIRYAEVA</td>\n",
              "      <td>Y</td>\n",
              "      <td>CZ6625</td>\n",
              "      <td>ZHENGZHOU</td>\n",
              "      <td>XINZHOU</td>\n",
              "      <td>CGO</td>\n",
              "      <td>WUT</td>\n",
              "      <td>2017-09-22</td>\n",
              "      <td>14:50</td>\n",
              "      <td>Operated by Some Other Airline</td>\n",
              "      <td>OQQOHE</td>\n",
              "      <td>2669364900304337</td>\n",
              "      <td>2017-09-22 14:50:00</td>\n",
              "    </tr>\n",
              "    <tr>\n",
              "      <th>1</th>\n",
              "      <td>75</td>\n",
              "      <td>MRS</td>\n",
              "      <td>ALINA SUKHANOVA</td>\n",
              "      <td>Y</td>\n",
              "      <td>SV1481</td>\n",
              "      <td>RIYADH</td>\n",
              "      <td>QAISUMAH</td>\n",
              "      <td>RUH</td>\n",
              "      <td>AQI</td>\n",
              "      <td>2017-09-22</td>\n",
              "      <td>05:10</td>\n",
              "      <td>Operated by Some Other Airline</td>\n",
              "      <td>ZLMHOE</td>\n",
              "      <td>9161977196434544</td>\n",
              "      <td>2017-09-22 05:10:00</td>\n",
              "    </tr>\n",
              "    <tr>\n",
              "      <th>2</th>\n",
              "      <td>42</td>\n",
              "      <td>MR</td>\n",
              "      <td>LEV GONCHAROV</td>\n",
              "      <td>Y</td>\n",
              "      <td>SU2314</td>\n",
              "      <td>MOSCOW</td>\n",
              "      <td>BERLIN</td>\n",
              "      <td>SVO</td>\n",
              "      <td>SXF</td>\n",
              "      <td>2017-09-22</td>\n",
              "      <td>14:30</td>\n",
              "      <td>Operated by Some Other Airline</td>\n",
              "      <td>KYWCAX</td>\n",
              "      <td>3154693033418596</td>\n",
              "      <td>2017-09-22 14:30:00</td>\n",
              "    </tr>\n",
              "    <tr>\n",
              "      <th>3</th>\n",
              "      <td>100</td>\n",
              "      <td>MRS</td>\n",
              "      <td>KULAGINA AMINA</td>\n",
              "      <td>Y</td>\n",
              "      <td>SU1175</td>\n",
              "      <td>ASTRAKHAN</td>\n",
              "      <td>MOSCOW</td>\n",
              "      <td>ASF</td>\n",
              "      <td>SVO</td>\n",
              "      <td>2017-09-22</td>\n",
              "      <td>19:50</td>\n",
              "      <td>Operated by Some Other Airline</td>\n",
              "      <td>QMQCLS</td>\n",
              "      <td>5632976945423178</td>\n",
              "      <td>2017-09-22 19:50:00</td>\n",
              "    </tr>\n",
              "    <tr>\n",
              "      <th>4</th>\n",
              "      <td>6</td>\n",
              "      <td>MR</td>\n",
              "      <td>OLEYNIKOV VLADIMIR</td>\n",
              "      <td>Y</td>\n",
              "      <td>AZ715</td>\n",
              "      <td>ATHENS</td>\n",
              "      <td>ROME</td>\n",
              "      <td>ATH</td>\n",
              "      <td>FCO</td>\n",
              "      <td>2017-09-22</td>\n",
              "      <td>13:15</td>\n",
              "      <td>Operated by Some Other Airline</td>\n",
              "      <td>DOUZUE</td>\n",
              "      <td>8399241805063994</td>\n",
              "      <td>2017-09-22 13:15:00</td>\n",
              "    </tr>\n",
              "  </tbody>\n",
              "</table>\n",
              "</div>"
            ],
            "text/plain": [
              "   sequence gender  ...            ticket       BoardDateTime\n",
              "0        29    MRS  ...  2669364900304337 2017-09-22 14:50:00\n",
              "1        75    MRS  ...  9161977196434544 2017-09-22 05:10:00\n",
              "2        42     MR  ...  3154693033418596 2017-09-22 14:30:00\n",
              "3       100    MRS  ...  5632976945423178 2017-09-22 19:50:00\n",
              "4         6     MR  ...  8399241805063994 2017-09-22 13:15:00\n",
              "\n",
              "[5 rows x 15 columns]"
            ]
          },
          "metadata": {
            "tags": []
          },
          "execution_count": 66
        }
      ]
    },
    {
      "cell_type": "markdown",
      "metadata": {
        "id": "hympzJRPsVRz"
      },
      "source": [
        "# Объединение фреймов"
      ]
    },
    {
      "cell_type": "markdown",
      "metadata": {
        "id": "3UFMMjIItWBt"
      },
      "source": [
        "#### список полей для объединения\n",
        "* имя -- name только Имя Фамилия\n",
        "* дата полёта -- date\n",
        "* номер самолёта -- flight_number\n",
        "* fare\n",
        "* аэропорт вылета\n",
        "* аэропорт посадки\n",
        "* город вылета\n",
        "* город посадки"
      ]
    },
    {
      "cell_type": "markdown",
      "metadata": {
        "id": "qkb6EA2Zsaii"
      },
      "source": [
        "#### Переименовывание столбцов"
      ]
    },
    {
      "cell_type": "code",
      "metadata": {
        "id": "NBoaBIZWsgFV"
      },
      "source": [
        "board_data_df['name'] = board_data_df.PassengerFirstName + ' ' + board_data_df.PassengerLastName\n",
        "board_data_concat_df = board_data_df[['name', 'FlightDate', 'FlightNumber', 'Destination']].rename(columns={\n",
        "    'FlightDateTime': 'date',\n",
        "    'FlightNumber': 'flight_number',\n",
        "    'Destination': 'city_to',\n",
        "})"
      ],
      "execution_count": null,
      "outputs": []
    },
    {
      "cell_type": "code",
      "metadata": {
        "id": "8tO0idd8yvh0"
      },
      "source": [
        "board_pass_concat_df = board_pass_df[['name', 'fare','cityFrom', 'cityTo', 'airportFrom', 'airportTo', 'BoardDateTime']].rename(columns={\n",
        "                            'cityFrom' : 'city_from',\n",
        "                            'cityTo':'city_to',\n",
        "                            'airportFrom': 'airport_from',\n",
        "                            'airportTo': 'airport_to',\n",
        "                            'BoardDateTime': 'date',\n",
        "                        })\n",
        "board_pass_concat_df['name'] = board_pass_concat_df['name'].str.replace(\"'\", '')"
      ],
      "execution_count": null,
      "outputs": []
    },
    {
      "cell_type": "code",
      "metadata": {
        "id": "f2amxkrmzzEi"
      },
      "source": [
        "freq_flyer_concat_df = freq_flyer_df.rename(columns={'Arrival_Airport': 'airport_to',\n",
        "                              'Arrival_City': 'city_to',\n",
        "                              'Departure_Airport': 'airport_from',\n",
        "                              'Departure_City': 'city_from',\n",
        "                              'Date':'date',\n",
        "                              'Flight': 'flight_number'})\n",
        "freq_flyer_concat_df['name'] = freq_flyer_df['First Name'] + ' ' + freq_flyer_df['Last Name']\n",
        "freq_flyer_concat_df['name'] = freq_flyer_concat_df['name'].str.replace(\"'\", '')\n",
        "freq_flyer_concat_df = freq_flyer_concat_df[['name', 'airport_from', 'city_from', 'airport_to', 'city_to', 'date', 'flight_number']]\n",
        "freq_flyer_concat_df = freq_flyer_concat_df.dropna()"
      ],
      "execution_count": null,
      "outputs": []
    },
    {
      "cell_type": "code",
      "metadata": {
        "id": "0hzMxVpo2SMl"
      },
      "source": [
        "point_agg_concat_df = point_agg_df.assign(name = point_agg_df['first_name'].str.replace(\"'\", '') +\n",
        "                                          ' ' +\n",
        "                                          point_agg_df['last_name'].str.replace(\"'\", ''))\n",
        "point_agg_concat_df.rename(columns={'activity_date': 'date',\n",
        "                                    'activity_departure': 'airport_from',\n",
        "                                    'activity_arrival': 'airport_to',\n",
        "                                    'activity_fare': 'fare'},\n",
        "                           inplace=True)\n",
        "point_agg_concat_df = point_agg_concat_df[['name', 'airport_from', 'airport_to', 'date','fare']]"
      ],
      "execution_count": null,
      "outputs": []
    },
    {
      "cell_type": "code",
      "metadata": {
        "id": "CN8zRSsi3ufw"
      },
      "source": [
        "sirena_bez_apostr = sirena_exp_df.assign(name = sirena_exp_df['PaxName'].str.replace(\"`\", ''))\n",
        "sirena_exp_concat_df = sirena_bez_apostr.rename(columns={\n",
        "        'DepartDateTime': 'date',\n",
        "        'Dest': 'airport_to',\n",
        "        'eShFrom': 'airport_from',\n",
        "    })\n",
        "sirena_exp_concat_df = sirena_exp_concat_df[['name', 'airport_from', 'airport_to', 'date']]"
      ],
      "execution_count": null,
      "outputs": []
    },
    {
      "cell_type": "code",
      "metadata": {
        "id": "EQNvvLOc4xJB"
      },
      "source": [
        "sk_exchange_concat_df = sk_exchange_with_names_df.rename(columns={\n",
        "    'flight': 'flight_number',\n",
        "    'from': 'airport_from',\n",
        "    'to': 'airport_to', \n",
        "})\n",
        "sk_exchange_concat_df['name'] = sk_exchange_concat_df['first_name'] + ' ' + sk_exchange_concat_df['last_name']\n",
        "sk_exchange_concat_df['name'] = sk_exchange_concat_df['name'].str.replace(\"'\", '')\n",
        "sk_exchange_concat_df = sk_exchange_concat_df[['date', 'name','airport_to', 'airport_from', 'fare' ]]"
      ],
      "execution_count": null,
      "outputs": []
    },
    {
      "cell_type": "markdown",
      "metadata": {
        "id": "9oWM0u14W647"
      },
      "source": [
        "#### Конкатенация"
      ]
    },
    {
      "cell_type": "code",
      "metadata": {
        "id": "lg_VxPM25bLV"
      },
      "source": [
        "res_df = pd.concat([\n",
        "           board_data_concat_df,\n",
        "           board_pass_concat_df,\n",
        "           freq_flyer_concat_df,\n",
        "           point_agg_concat_df,\n",
        "           sirena_exp_concat_df,\n",
        "           sk_exchange_concat_df,])\n",
        "res_df = res_df[['name', 'date', 'flight_number',\n",
        "        'city_from',\n",
        "        'airport_from',\n",
        "        'city_to',\n",
        "        'airport_to',\n",
        "        'fare'\n",
        "        ]]"
      ],
      "execution_count": null,
      "outputs": []
    },
    {
      "cell_type": "code",
      "metadata": {
        "colab": {
          "base_uri": "https://localhost:8080/",
          "height": 204
        },
        "id": "SON1qu-_9K3q",
        "outputId": "7afb9c5d-7b31-48e1-af2b-d3fe2f896d26"
      },
      "source": [
        "res_df.head()"
      ],
      "execution_count": null,
      "outputs": [
        {
          "output_type": "execute_result",
          "data": {
            "text/html": [
              "<div>\n",
              "<style scoped>\n",
              "    .dataframe tbody tr th:only-of-type {\n",
              "        vertical-align: middle;\n",
              "    }\n",
              "\n",
              "    .dataframe tbody tr th {\n",
              "        vertical-align: top;\n",
              "    }\n",
              "\n",
              "    .dataframe thead th {\n",
              "        text-align: right;\n",
              "    }\n",
              "</style>\n",
              "<table border=\"1\" class=\"dataframe\">\n",
              "  <thead>\n",
              "    <tr style=\"text-align: right;\">\n",
              "      <th></th>\n",
              "      <th>name</th>\n",
              "      <th>date</th>\n",
              "      <th>flight_number</th>\n",
              "      <th>city_from</th>\n",
              "      <th>airport_from</th>\n",
              "      <th>city_to</th>\n",
              "      <th>airport_to</th>\n",
              "      <th>fare</th>\n",
              "    </tr>\n",
              "  </thead>\n",
              "  <tbody>\n",
              "    <tr>\n",
              "      <th>0</th>\n",
              "      <td>SAVELII RUSANOV</td>\n",
              "      <td>NaT</td>\n",
              "      <td>SU1369</td>\n",
              "      <td>NaN</td>\n",
              "      <td>NaN</td>\n",
              "      <td>Moscow</td>\n",
              "      <td>NaN</td>\n",
              "      <td>NaN</td>\n",
              "    </tr>\n",
              "    <tr>\n",
              "      <th>1</th>\n",
              "      <td>LEV ISAEV</td>\n",
              "      <td>NaT</td>\n",
              "      <td>SU1180</td>\n",
              "      <td>NaN</td>\n",
              "      <td>NaN</td>\n",
              "      <td>Volgograd</td>\n",
              "      <td>NaN</td>\n",
              "      <td>NaN</td>\n",
              "    </tr>\n",
              "    <tr>\n",
              "      <th>2</th>\n",
              "      <td>NIKOLAI NIKOLSKII</td>\n",
              "      <td>NaT</td>\n",
              "      <td>SU1180</td>\n",
              "      <td>NaN</td>\n",
              "      <td>NaN</td>\n",
              "      <td>Volgograd</td>\n",
              "      <td>NaN</td>\n",
              "      <td>NaN</td>\n",
              "    </tr>\n",
              "    <tr>\n",
              "      <th>3</th>\n",
              "      <td>ANATOLII SHILOV</td>\n",
              "      <td>NaT</td>\n",
              "      <td>SU1180</td>\n",
              "      <td>NaN</td>\n",
              "      <td>NaN</td>\n",
              "      <td>Volgograd</td>\n",
              "      <td>NaN</td>\n",
              "      <td>NaN</td>\n",
              "    </tr>\n",
              "    <tr>\n",
              "      <th>4</th>\n",
              "      <td>MIROSLAVA SEMENOVA</td>\n",
              "      <td>NaT</td>\n",
              "      <td>SU6284</td>\n",
              "      <td>NaN</td>\n",
              "      <td>NaN</td>\n",
              "      <td>Moscow</td>\n",
              "      <td>NaN</td>\n",
              "      <td>NaN</td>\n",
              "    </tr>\n",
              "  </tbody>\n",
              "</table>\n",
              "</div>"
            ],
            "text/plain": [
              "                 name date flight_number  ...    city_to airport_to fare\n",
              "0     SAVELII RUSANOV  NaT        SU1369  ...     Moscow        NaN  NaN\n",
              "1           LEV ISAEV  NaT        SU1180  ...  Volgograd        NaN  NaN\n",
              "2   NIKOLAI NIKOLSKII  NaT        SU1180  ...  Volgograd        NaN  NaN\n",
              "3     ANATOLII SHILOV  NaT        SU1180  ...  Volgograd        NaN  NaN\n",
              "4  MIROSLAVA SEMENOVA  NaT        SU6284  ...     Moscow        NaN  NaN\n",
              "\n",
              "[5 rows x 8 columns]"
            ]
          },
          "metadata": {
            "tags": []
          },
          "execution_count": 84
        }
      ]
    },
    {
      "cell_type": "code",
      "metadata": {
        "id": "_79wOxic9bTD"
      },
      "source": [
        "downloaded = drive.CreateFile({'id': '1zxDmHolxe67Y1xPST5h20IVan-sU_jEN'})\n",
        "downloaded.GetContentFile('res.csv')"
      ],
      "execution_count": null,
      "outputs": []
    },
    {
      "cell_type": "code",
      "metadata": {
        "id": "EcUrmkEr-MZp"
      },
      "source": [
        "res_df.to_csv('res.csv')"
      ],
      "execution_count": null,
      "outputs": []
    },
    {
      "cell_type": "code",
      "metadata": {
        "id": "q62DbADt2Jv6"
      },
      "source": [
        "uploaded = drive.CreateFile({'title': 'res.csv', 'parents': ['1t02NJlk6b_k8djN2l9nCPt0U1AKjypxu']})\n",
        "uploaded.SetContentFile('res.csv')\n",
        "uploaded.Upload()"
      ],
      "execution_count": null,
      "outputs": []
    },
    {
      "cell_type": "markdown",
      "metadata": {
        "id": "ZXmeEf7nXALD"
      },
      "source": [
        "# Исследование общего фрейма"
      ]
    },
    {
      "cell_type": "code",
      "metadata": {
        "colab": {
          "base_uri": "https://localhost:8080/"
        },
        "id": "JEnNPKfjXDTQ",
        "outputId": "e9993fb6-aac8-4fd3-885a-c5f13397d094"
      },
      "source": [
        "res_df = pd.read_csv('res.csv')"
      ],
      "execution_count": null,
      "outputs": [
        {
          "output_type": "stream",
          "text": [
            "/usr/local/lib/python3.7/dist-packages/IPython/core/interactiveshell.py:2718: DtypeWarning: Columns (2,3,4,5,6,7,8) have mixed types.Specify dtype option on import or set low_memory=False.\n",
            "  interactivity=interactivity, compiler=compiler, result=result)\n"
          ],
          "name": "stderr"
        }
      ]
    },
    {
      "cell_type": "code",
      "metadata": {
        "id": "75Fwau8E7qMF"
      },
      "source": [
        "res_df.drop(columns=['Unnamed: 0'], inplace=True)\n",
        "res_df = res_df.drop_duplicates()\n",
        "res_df = res_df.dropna(subset=['name'])\n",
        "res_df['date'] = pd.to_datetime(res_df.date)"
      ],
      "execution_count": null,
      "outputs": []
    },
    {
      "cell_type": "code",
      "metadata": {
        "colab": {
          "base_uri": "https://localhost:8080/",
          "height": 204
        },
        "id": "7qAw9amZT0Rf",
        "outputId": "8470bcb5-367a-4bb9-aac7-a2c456390f6f"
      },
      "source": [
        "res_df.head()"
      ],
      "execution_count": null,
      "outputs": [
        {
          "output_type": "execute_result",
          "data": {
            "text/html": [
              "<div>\n",
              "<style scoped>\n",
              "    .dataframe tbody tr th:only-of-type {\n",
              "        vertical-align: middle;\n",
              "    }\n",
              "\n",
              "    .dataframe tbody tr th {\n",
              "        vertical-align: top;\n",
              "    }\n",
              "\n",
              "    .dataframe thead th {\n",
              "        text-align: right;\n",
              "    }\n",
              "</style>\n",
              "<table border=\"1\" class=\"dataframe\">\n",
              "  <thead>\n",
              "    <tr style=\"text-align: right;\">\n",
              "      <th></th>\n",
              "      <th>name</th>\n",
              "      <th>date</th>\n",
              "      <th>flight_number</th>\n",
              "      <th>city_from</th>\n",
              "      <th>airport_from</th>\n",
              "      <th>city_to</th>\n",
              "      <th>airport_to</th>\n",
              "      <th>fare</th>\n",
              "    </tr>\n",
              "  </thead>\n",
              "  <tbody>\n",
              "    <tr>\n",
              "      <th>0</th>\n",
              "      <td>SAVELII RUSANOV</td>\n",
              "      <td>NaT</td>\n",
              "      <td>SU1369</td>\n",
              "      <td>NaN</td>\n",
              "      <td>NaN</td>\n",
              "      <td>Moscow</td>\n",
              "      <td>NaN</td>\n",
              "      <td>NaN</td>\n",
              "    </tr>\n",
              "    <tr>\n",
              "      <th>1</th>\n",
              "      <td>LEV ISAEV</td>\n",
              "      <td>NaT</td>\n",
              "      <td>SU1180</td>\n",
              "      <td>NaN</td>\n",
              "      <td>NaN</td>\n",
              "      <td>Volgograd</td>\n",
              "      <td>NaN</td>\n",
              "      <td>NaN</td>\n",
              "    </tr>\n",
              "    <tr>\n",
              "      <th>2</th>\n",
              "      <td>NIKOLAI NIKOLSKII</td>\n",
              "      <td>NaT</td>\n",
              "      <td>SU1180</td>\n",
              "      <td>NaN</td>\n",
              "      <td>NaN</td>\n",
              "      <td>Volgograd</td>\n",
              "      <td>NaN</td>\n",
              "      <td>NaN</td>\n",
              "    </tr>\n",
              "    <tr>\n",
              "      <th>3</th>\n",
              "      <td>ANATOLII SHILOV</td>\n",
              "      <td>NaT</td>\n",
              "      <td>SU1180</td>\n",
              "      <td>NaN</td>\n",
              "      <td>NaN</td>\n",
              "      <td>Volgograd</td>\n",
              "      <td>NaN</td>\n",
              "      <td>NaN</td>\n",
              "    </tr>\n",
              "    <tr>\n",
              "      <th>4</th>\n",
              "      <td>MIROSLAVA SEMENOVA</td>\n",
              "      <td>NaT</td>\n",
              "      <td>SU6284</td>\n",
              "      <td>NaN</td>\n",
              "      <td>NaN</td>\n",
              "      <td>Moscow</td>\n",
              "      <td>NaN</td>\n",
              "      <td>NaN</td>\n",
              "    </tr>\n",
              "  </tbody>\n",
              "</table>\n",
              "</div>"
            ],
            "text/plain": [
              "                 name date flight_number  ...    city_to airport_to fare\n",
              "0     SAVELII RUSANOV  NaT        SU1369  ...     Moscow        NaN  NaN\n",
              "1           LEV ISAEV  NaT        SU1180  ...  Volgograd        NaN  NaN\n",
              "2   NIKOLAI NIKOLSKII  NaT        SU1180  ...  Volgograd        NaN  NaN\n",
              "3     ANATOLII SHILOV  NaT        SU1180  ...  Volgograd        NaN  NaN\n",
              "4  MIROSLAVA SEMENOVA  NaT        SU6284  ...     Moscow        NaN  NaN\n",
              "\n",
              "[5 rows x 8 columns]"
            ]
          },
          "metadata": {
            "tags": []
          },
          "execution_count": 24
        }
      ]
    },
    {
      "cell_type": "markdown",
      "metadata": {
        "id": "Mjq71rEzoTo3"
      },
      "source": [
        "### Обработка людей с летавших из Москвы в Москву"
      ]
    },
    {
      "cell_type": "code",
      "metadata": {
        "id": "XzUc3aYX4I5F"
      },
      "source": [
        "from_msc_df = res_df[(res_df.city_from == 'Moscow') | (res_df.airport_from.isin(['SVO', 'VKO', 'DME']))]\n",
        "to_msc_df = res_df[(res_df.city_to == 'Moscow') | (res_df.airport_to.isin(['SVO', 'VKO', 'DME']))]"
      ],
      "execution_count": null,
      "outputs": []
    },
    {
      "cell_type": "code",
      "metadata": {
        "id": "-RiUmmk45Iad"
      },
      "source": [
        "msc_df = pd.concat([from_msc_df, to_msc_df])\n",
        "msc_visiters_df = res_df[(res_df.name.isin(from_msc_df.name) & res_df.name.isin(to_msc_df.name))]"
      ],
      "execution_count": null,
      "outputs": []
    },
    {
      "cell_type": "code",
      "metadata": {
        "id": "DF8TBeac7EpJ",
        "colab": {
          "base_uri": "https://localhost:8080/",
          "height": 204
        },
        "outputId": "a147d413-6607-4a7b-a127-810b554e4f40"
      },
      "source": [
        "msc_visiters_df.head()"
      ],
      "execution_count": null,
      "outputs": [
        {
          "output_type": "execute_result",
          "data": {
            "text/html": [
              "<div>\n",
              "<style scoped>\n",
              "    .dataframe tbody tr th:only-of-type {\n",
              "        vertical-align: middle;\n",
              "    }\n",
              "\n",
              "    .dataframe tbody tr th {\n",
              "        vertical-align: top;\n",
              "    }\n",
              "\n",
              "    .dataframe thead th {\n",
              "        text-align: right;\n",
              "    }\n",
              "</style>\n",
              "<table border=\"1\" class=\"dataframe\">\n",
              "  <thead>\n",
              "    <tr style=\"text-align: right;\">\n",
              "      <th></th>\n",
              "      <th>name</th>\n",
              "      <th>date</th>\n",
              "      <th>flight_number</th>\n",
              "      <th>city_from</th>\n",
              "      <th>airport_from</th>\n",
              "      <th>city_to</th>\n",
              "      <th>airport_to</th>\n",
              "      <th>fare</th>\n",
              "    </tr>\n",
              "  </thead>\n",
              "  <tbody>\n",
              "    <tr>\n",
              "      <th>0</th>\n",
              "      <td>SAVELII RUSANOV</td>\n",
              "      <td>NaT</td>\n",
              "      <td>SU1369</td>\n",
              "      <td>NaN</td>\n",
              "      <td>NaN</td>\n",
              "      <td>Moscow</td>\n",
              "      <td>NaN</td>\n",
              "      <td>NaN</td>\n",
              "    </tr>\n",
              "    <tr>\n",
              "      <th>1</th>\n",
              "      <td>LEV ISAEV</td>\n",
              "      <td>NaT</td>\n",
              "      <td>SU1180</td>\n",
              "      <td>NaN</td>\n",
              "      <td>NaN</td>\n",
              "      <td>Volgograd</td>\n",
              "      <td>NaN</td>\n",
              "      <td>NaN</td>\n",
              "    </tr>\n",
              "    <tr>\n",
              "      <th>2</th>\n",
              "      <td>NIKOLAI NIKOLSKII</td>\n",
              "      <td>NaT</td>\n",
              "      <td>SU1180</td>\n",
              "      <td>NaN</td>\n",
              "      <td>NaN</td>\n",
              "      <td>Volgograd</td>\n",
              "      <td>NaN</td>\n",
              "      <td>NaN</td>\n",
              "    </tr>\n",
              "    <tr>\n",
              "      <th>4</th>\n",
              "      <td>MIROSLAVA SEMENOVA</td>\n",
              "      <td>NaT</td>\n",
              "      <td>SU6284</td>\n",
              "      <td>NaN</td>\n",
              "      <td>NaN</td>\n",
              "      <td>Moscow</td>\n",
              "      <td>NaN</td>\n",
              "      <td>NaN</td>\n",
              "    </tr>\n",
              "    <tr>\n",
              "      <th>5</th>\n",
              "      <td>ARTEM KAPUSTIN</td>\n",
              "      <td>NaT</td>\n",
              "      <td>SU6284</td>\n",
              "      <td>NaN</td>\n",
              "      <td>NaN</td>\n",
              "      <td>Moscow</td>\n",
              "      <td>NaN</td>\n",
              "      <td>NaN</td>\n",
              "    </tr>\n",
              "  </tbody>\n",
              "</table>\n",
              "</div>"
            ],
            "text/plain": [
              "                 name date flight_number  ...    city_to airport_to fare\n",
              "0     SAVELII RUSANOV  NaT        SU1369  ...     Moscow        NaN  NaN\n",
              "1           LEV ISAEV  NaT        SU1180  ...  Volgograd        NaN  NaN\n",
              "2   NIKOLAI NIKOLSKII  NaT        SU1180  ...  Volgograd        NaN  NaN\n",
              "4  MIROSLAVA SEMENOVA  NaT        SU6284  ...     Moscow        NaN  NaN\n",
              "5      ARTEM KAPUSTIN  NaT        SU6284  ...     Moscow        NaN  NaN\n",
              "\n",
              "[5 rows x 8 columns]"
            ]
          },
          "metadata": {
            "tags": []
          },
          "execution_count": 96
        }
      ]
    },
    {
      "cell_type": "code",
      "metadata": {
        "colab": {
          "base_uri": "https://localhost:8080/",
          "height": 424
        },
        "id": "-poCIlPxXQpu",
        "outputId": "d7187a14-cc41-49ca-dfce-4cefc7fef4fc"
      },
      "source": [
        "msc_df.sort_values(by=['date', 'airport_from'])"
      ],
      "execution_count": null,
      "outputs": [
        {
          "output_type": "execute_result",
          "data": {
            "text/html": [
              "<div>\n",
              "<style scoped>\n",
              "    .dataframe tbody tr th:only-of-type {\n",
              "        vertical-align: middle;\n",
              "    }\n",
              "\n",
              "    .dataframe tbody tr th {\n",
              "        vertical-align: top;\n",
              "    }\n",
              "\n",
              "    .dataframe thead th {\n",
              "        text-align: right;\n",
              "    }\n",
              "</style>\n",
              "<table border=\"1\" class=\"dataframe\">\n",
              "  <thead>\n",
              "    <tr style=\"text-align: right;\">\n",
              "      <th></th>\n",
              "      <th>name</th>\n",
              "      <th>date</th>\n",
              "      <th>flight_number</th>\n",
              "      <th>city_from</th>\n",
              "      <th>airport_from</th>\n",
              "      <th>city_to</th>\n",
              "      <th>airport_to</th>\n",
              "      <th>fare</th>\n",
              "    </tr>\n",
              "  </thead>\n",
              "  <tbody>\n",
              "    <tr>\n",
              "      <th>1610626</th>\n",
              "      <td>MARAT BIRJUKOV</td>\n",
              "      <td>01.01.2017</td>\n",
              "      <td>NaN</td>\n",
              "      <td>NaN</td>\n",
              "      <td>AAQ</td>\n",
              "      <td>NaN</td>\n",
              "      <td>SVO</td>\n",
              "      <td>NaN</td>\n",
              "    </tr>\n",
              "    <tr>\n",
              "      <th>1610627</th>\n",
              "      <td>ALEKSANDRA OVSJANNIKOVA</td>\n",
              "      <td>01.01.2017</td>\n",
              "      <td>NaN</td>\n",
              "      <td>NaN</td>\n",
              "      <td>AAQ</td>\n",
              "      <td>NaN</td>\n",
              "      <td>SVO</td>\n",
              "      <td>NaN</td>\n",
              "    </tr>\n",
              "    <tr>\n",
              "      <th>1610628</th>\n",
              "      <td>LJUBOV RUSANOVA</td>\n",
              "      <td>01.01.2017</td>\n",
              "      <td>NaN</td>\n",
              "      <td>NaN</td>\n",
              "      <td>AAQ</td>\n",
              "      <td>NaN</td>\n",
              "      <td>SVO</td>\n",
              "      <td>NaN</td>\n",
              "    </tr>\n",
              "    <tr>\n",
              "      <th>1610630</th>\n",
              "      <td>INNA ZHILINA</td>\n",
              "      <td>01.01.2017</td>\n",
              "      <td>NaN</td>\n",
              "      <td>NaN</td>\n",
              "      <td>AAQ</td>\n",
              "      <td>NaN</td>\n",
              "      <td>SVO</td>\n",
              "      <td>NaN</td>\n",
              "    </tr>\n",
              "    <tr>\n",
              "      <th>1610632</th>\n",
              "      <td>OLEG SELIVANOV</td>\n",
              "      <td>01.01.2017</td>\n",
              "      <td>NaN</td>\n",
              "      <td>NaN</td>\n",
              "      <td>AAQ</td>\n",
              "      <td>NaN</td>\n",
              "      <td>SVO</td>\n",
              "      <td>NaN</td>\n",
              "    </tr>\n",
              "    <tr>\n",
              "      <th>...</th>\n",
              "      <td>...</td>\n",
              "      <td>...</td>\n",
              "      <td>...</td>\n",
              "      <td>...</td>\n",
              "      <td>...</td>\n",
              "      <td>...</td>\n",
              "      <td>...</td>\n",
              "      <td>...</td>\n",
              "    </tr>\n",
              "    <tr>\n",
              "      <th>1672352</th>\n",
              "      <td>VASILINA NOVIKOVA</td>\n",
              "      <td>31.12.2017</td>\n",
              "      <td>NaN</td>\n",
              "      <td>NaN</td>\n",
              "      <td>SVX</td>\n",
              "      <td>NaN</td>\n",
              "      <td>SVO</td>\n",
              "      <td>NaN</td>\n",
              "    </tr>\n",
              "    <tr>\n",
              "      <th>1678834</th>\n",
              "      <td>ELIZAVETA LATYSHEVA</td>\n",
              "      <td>31.12.2017</td>\n",
              "      <td>NaN</td>\n",
              "      <td>NaN</td>\n",
              "      <td>SVX</td>\n",
              "      <td>NaN</td>\n",
              "      <td>SVO</td>\n",
              "      <td>NaN</td>\n",
              "    </tr>\n",
              "    <tr>\n",
              "      <th>1678835</th>\n",
              "      <td>ALBINA POLIKARPOVA</td>\n",
              "      <td>31.12.2017</td>\n",
              "      <td>NaN</td>\n",
              "      <td>NaN</td>\n",
              "      <td>SVX</td>\n",
              "      <td>NaN</td>\n",
              "      <td>SVO</td>\n",
              "      <td>NaN</td>\n",
              "    </tr>\n",
              "    <tr>\n",
              "      <th>1690894</th>\n",
              "      <td>AGATA KIREEVA</td>\n",
              "      <td>31.12.2017</td>\n",
              "      <td>NaN</td>\n",
              "      <td>NaN</td>\n",
              "      <td>UFA</td>\n",
              "      <td>NaN</td>\n",
              "      <td>SVO</td>\n",
              "      <td>NaN</td>\n",
              "    </tr>\n",
              "    <tr>\n",
              "      <th>1664472</th>\n",
              "      <td>ALENA PUGACHEVA</td>\n",
              "      <td>31.12.2017</td>\n",
              "      <td>NaN</td>\n",
              "      <td>NaN</td>\n",
              "      <td>UUS</td>\n",
              "      <td>NaN</td>\n",
              "      <td>SVO</td>\n",
              "      <td>NaN</td>\n",
              "    </tr>\n",
              "  </tbody>\n",
              "</table>\n",
              "<p>661522 rows × 8 columns</p>\n",
              "</div>"
            ],
            "text/plain": [
              "                            name        date  ... airport_to fare\n",
              "1610626           MARAT BIRJUKOV  01.01.2017  ...        SVO  NaN\n",
              "1610627  ALEKSANDRA OVSJANNIKOVA  01.01.2017  ...        SVO  NaN\n",
              "1610628          LJUBOV RUSANOVA  01.01.2017  ...        SVO  NaN\n",
              "1610630             INNA ZHILINA  01.01.2017  ...        SVO  NaN\n",
              "1610632           OLEG SELIVANOV  01.01.2017  ...        SVO  NaN\n",
              "...                          ...         ...  ...        ...  ...\n",
              "1672352        VASILINA NOVIKOVA  31.12.2017  ...        SVO  NaN\n",
              "1678834      ELIZAVETA LATYSHEVA  31.12.2017  ...        SVO  NaN\n",
              "1678835       ALBINA POLIKARPOVA  31.12.2017  ...        SVO  NaN\n",
              "1690894            AGATA KIREEVA  31.12.2017  ...        SVO  NaN\n",
              "1664472          ALENA PUGACHEVA  31.12.2017  ...        SVO  NaN\n",
              "\n",
              "[661522 rows x 8 columns]"
            ]
          },
          "metadata": {
            "tags": []
          },
          "execution_count": 34
        }
      ]
    },
    {
      "cell_type": "markdown",
      "metadata": {
        "id": "WFf8-R2rqF5Q"
      },
      "source": [
        "## Отсеивание тех, кто мало летал"
      ]
    },
    {
      "cell_type": "code",
      "metadata": {
        "id": "UejAzLBebQhN"
      },
      "source": [
        "import matplotlib.pyplot as plt"
      ],
      "execution_count": null,
      "outputs": []
    },
    {
      "cell_type": "code",
      "metadata": {
        "colab": {
          "base_uri": "https://localhost:8080/",
          "height": 356
        },
        "id": "wOTKSDohbETT",
        "outputId": "8f6b5493-e018-4091-a481-04efbc74df29"
      },
      "source": [
        "plt.figure(figsize=(3,2), dpi=150)\n",
        "plt.title('Распределения количества полётов')\n",
        "res_df.fillna(value=datetime.datetime(year=2007, month=1, day=1)).groupby('name').agg({'date' : 'count'}).date.hist()"
      ],
      "execution_count": null,
      "outputs": [
        {
          "output_type": "execute_result",
          "data": {
            "text/plain": [
              "<matplotlib.axes._subplots.AxesSubplot at 0x7f3616009890>"
            ]
          },
          "metadata": {
            "tags": []
          },
          "execution_count": 57
        },
        {
          "output_type": "display_data",
          "data": {
            "image/png": "[encoded data removed]",
            "text/plain": [
              "<Figure size 450x300 with 1 Axes>"
            ]
          },
          "metadata": {
            "tags": [],
            "needs_background": "light"
          }
        }
      ]
    },
    {
      "cell_type": "markdown",
      "metadata": {
        "id": "M2FNedH6bFo6"
      },
      "source": [
        "На основании интуиции и данного распределения количества полётов решили взять в качестве порого 50"
      ]
    },
    {
      "cell_type": "code",
      "metadata": {
        "id": "2QmzeD9KXQ92",
        "colab": {
          "base_uri": "https://localhost:8080/"
        },
        "outputId": "e3d6977e-ab30-468d-8391-005a45525736"
      },
      "source": [
        "temp_df = msc_visiters_df.groupby('name').count().sort_values(by='date')\n",
        "\n",
        "filt_msc_visiters_df = msc_visiters_df[msc_visiters_df.name.isin(temp_df[temp_df['date'] > 50].index)]\n",
        "print(f'Количство полётов часто летающих людей: {len(filt_msc_visiters_df)}')"
      ],
      "execution_count": null,
      "outputs": [
        {
          "output_type": "stream",
          "text": [
            "Количство полётов часто летающих людей: 558615\n"
          ],
          "name": "stdout"
        }
      ]
    },
    {
      "cell_type": "code",
      "metadata": {
        "id": "xzVTtiyZ3g2M",
        "colab": {
          "base_uri": "https://localhost:8080/"
        },
        "outputId": "899e011f-3281-4bfe-b111-ff6c60ba3e73"
      },
      "source": [
        "suspicious_people = set(filt_msc_visiters_df.name.unique())\n",
        "print(f'Количество часто летающих: {len(suspicious_people)}')"
      ],
      "execution_count": null,
      "outputs": [
        {
          "output_type": "stream",
          "text": [
            "Количество часто летающих: 7835\n"
          ],
          "name": "stdout"
        }
      ]
    },
    {
      "cell_type": "code",
      "metadata": {
        "colab": {
          "base_uri": "https://localhost:8080/"
        },
        "id": "0Tkzl9jvMqS3",
        "outputId": "5da272b2-444f-4561-e17a-0f2b8b7ca7c6"
      },
      "source": [
        "suspicious_people"
      ],
      "execution_count": null,
      "outputs": [
        {
          "output_type": "execute_result",
          "data": {
            "text/plain": [
              "{'SEMEN KOROLKOV',\n",
              " 'EVA KALACHEVA',\n",
              " 'ALBERT EGOROV',\n",
              " 'GERMAN KOLOSOV',\n",
              " 'SERGEY DOBRYNIN',\n",
              " 'ARSEN KUDRYASHOV',\n",
              " 'YAROMIR SHESTAKOV',\n",
              " 'FEDOR ARTAMONOV',\n",
              " 'LILIYA VORONINA',\n",
              " 'VERONIKA SHEVELEVA',\n",
              " 'FILIPP SAVELEV',\n",
              " 'MIKHAIL USOV',\n",
              " 'VITALINA MAKEEVA',\n",
              " 'DANIEL TEREKHOV',\n",
              " 'EVELINA TITOVA',\n",
              " 'MATVEI MEDVEDEV',\n",
              " 'KIRILL KAPUSTIN',\n",
              " 'SEMEN TRIFONOV',\n",
              " 'OLGA BELYAKOVA',\n",
              " 'ANTONINA MELNIKOVA',\n",
              " 'ALINA OZEROVA',\n",
              " 'SEMEN PONOMAREV',\n",
              " 'ALINA POPOVA',\n",
              " 'VASILISA GORLOVA',\n",
              " 'PAVEL LYKOV',\n",
              " 'ELVIRA SAFONOVA',\n",
              " 'VITALIY ZLOBIN',\n",
              " 'FEDOR SIDOROV',\n",
              " 'SOFIA BOLSHAKOVA',\n",
              " 'ANNA TOKAREVA',\n",
              " 'VADIM SVESHNIKOV',\n",
              " 'DENIS AGAPOV',\n",
              " 'IGOR EGOROV',\n",
              " 'NADEZHDA VOLOSHINA',\n",
              " 'VLADIMIR SINITCYN',\n",
              " 'MELANIIA NECHAEVA',\n",
              " 'MILANA KRYUKOVA',\n",
              " 'SVIATOGOR TIKHONOV',\n",
              " 'ALISA LOSEVA',\n",
              " 'RINAT SAVELEV',\n",
              " 'PETR ZLOBIN',\n",
              " 'ADEL NOSOV',\n",
              " 'OLEG FEDOROV',\n",
              " 'BOGDAN SHIROKOV',\n",
              " 'STANISLAV KORNEV',\n",
              " 'NINA SAVITSKAYA',\n",
              " 'DENIS IGNATEV',\n",
              " 'INNA KOCHERGINA',\n",
              " 'SAVVA NESTEROV',\n",
              " 'LEV PANFILOV',\n",
              " 'VARVARA MINAEVA',\n",
              " 'LARISA EVDOKIMOVA',\n",
              " 'ANZHELIKA SAVINA',\n",
              " 'ELINA ERMAKOVA',\n",
              " 'SNEZHANA MAKAROVA',\n",
              " 'MAKAR GOLOVIN',\n",
              " 'NATASHA ROZANOVA',\n",
              " 'EVELINA KOROLKOVA',\n",
              " 'ARIANA PARAMONOVA',\n",
              " 'VSEVOLOD KOSAREV',\n",
              " 'ELINA LOPATINA',\n",
              " 'VALENTINA EGOROVA',\n",
              " 'LYUDMILA LITVINOVA',\n",
              " 'RUSLAN MALTSEV',\n",
              " 'LARISA VOLKOVA',\n",
              " 'ANGELINA SOBOLEVA',\n",
              " 'NINA MIKHEEVA',\n",
              " 'NATALIYA NOSOVA',\n",
              " 'LYUDMILA KOROLEVA',\n",
              " 'OLGA PUGACHEVA',\n",
              " 'FEDOR VOROBEV',\n",
              " 'GALINA DUBININA',\n",
              " 'MARIYA KOLPAKOVA',\n",
              " 'ALLA DOBRYNINA',\n",
              " 'KAROLINA DAVYDOVA',\n",
              " 'LARISA CHEBOTAREVA',\n",
              " 'MIROSLAVA KOLOSOVA',\n",
              " 'LILIYA BESPALOVA',\n",
              " 'REGINA DEGTYAREVA',\n",
              " 'SAMIRA ZHDANOVA',\n",
              " 'NADEZHDA ZOTOVA',\n",
              " 'KAMILLA ZHILINA',\n",
              " 'VALENTINA NIKULINA',\n",
              " 'ELISEY ZOTOV',\n",
              " 'VITALINA ZYKOVA',\n",
              " 'LARISA NIKONOVA',\n",
              " 'VASILINA TIKHONOVA',\n",
              " 'SOFIA MIKHEEVA',\n",
              " 'ALBERT PIROGOV',\n",
              " 'STEPAN NECHAEV',\n",
              " 'NATASHA MUKHINA',\n",
              " 'MAYYA LEBEDEVA',\n",
              " 'VALENTINA MATVEEVA',\n",
              " 'ARTEM PANKRATOV',\n",
              " 'MARSEL KONSTANTINOV',\n",
              " 'MILENA IGNATOVA',\n",
              " 'ESENIYA KULAKOVA',\n",
              " 'ALENA LEBEDEVA',\n",
              " 'NIKITA SEREBRYAKOV',\n",
              " 'VLAD LAPTEV',\n",
              " 'DMITRII KONDRATEV',\n",
              " 'AMINA BESSONOVA',\n",
              " 'DARYA BLINOVA',\n",
              " 'ARINA MELNIKOVA',\n",
              " 'LYUDMILA SUVOROVA',\n",
              " 'NELLI KORNEVA',\n",
              " 'EVGENIYA BOGDANOVA',\n",
              " 'MARSEL VORONOV',\n",
              " 'PAVEL LARIN',\n",
              " 'YANA DANILOVA',\n",
              " 'VITALINA DUBROVINA',\n",
              " 'ANZHELIKA DOLGOVA',\n",
              " 'POLINA LEBEDEVA',\n",
              " 'VIOLETTA KORNEEVA',\n",
              " 'MILANA ZOLOTOVA',\n",
              " 'SVYATOSLAV LEBEDEV',\n",
              " 'YAROMIR SVIRIDOV',\n",
              " 'ANZHELIKA LATYSHEVA',\n",
              " 'VLADISLAV PANOV',\n",
              " 'BOGDAN DUBOV',\n",
              " 'DANILA NOSOV',\n",
              " 'ELENA MAKEEVA',\n",
              " 'MIRON VORONIN',\n",
              " 'AMINA GORBACHEVA',\n",
              " 'PAVEL DEMIDOV',\n",
              " 'EGOR LAZAREV',\n",
              " 'ELIZAVETA DROZDOVA',\n",
              " 'ARTEM VAVILOV',\n",
              " 'POLINA LARIONOVA',\n",
              " 'KARINA CHEBOTAREVA',\n",
              " 'DMITRIY ANANEV',\n",
              " 'ALINA BONDAREVA',\n",
              " 'ALEKSEY KOSAREV',\n",
              " 'ADELINA ZUBOVA',\n",
              " 'AYDAR ARTEMOV',\n",
              " 'GLEB GLEBOV',\n",
              " 'TIKHON ANOKHIN',\n",
              " 'DARINA PANKRATOVA',\n",
              " 'LYUDMILA SHEVELEVA',\n",
              " 'ALLA GORBACHEVA',\n",
              " 'KIRA AGAPOVA',\n",
              " 'DANIEL ZYKOV',\n",
              " 'MARK RYABININ',\n",
              " 'YAN KISELEV',\n",
              " 'YULIANA TROFIMOVA',\n",
              " 'ARIANA ARKHIPOVA',\n",
              " 'MIROSLAVA VINOGRADOVA',\n",
              " 'MIKHAIL BELOV',\n",
              " 'MILANA MARKELOVA',\n",
              " 'ARTEMIY ISAEV',\n",
              " 'VALENTINA STARIKOVA',\n",
              " 'OLEG ANTIPOV',\n",
              " 'NIKOLAY MESHKOV',\n",
              " 'VLADA SELIVANOVA',\n",
              " 'ARIANA LARIONOVA',\n",
              " 'ANTONINA FOKINA',\n",
              " 'LEV ISAEV',\n",
              " 'ELIZAVETA ARTEMOVA',\n",
              " 'NADEZHDA RAKOVA',\n",
              " 'GERMAN PARAMONOV',\n",
              " 'NATASHA DUBOVA',\n",
              " 'MILENA NECHAEVA',\n",
              " 'ZAKHAR USPENSKIY',\n",
              " 'STANISLAV NIKIFOROV',\n",
              " 'ALLA LVOVA',\n",
              " 'LYUBOV LATYSHEVA',\n",
              " 'KIRA GAVRILOVA',\n",
              " 'MARSEL TOLKACHEV',\n",
              " 'VLADISLAVA ELIZAROVA',\n",
              " 'GLEB LEVIN',\n",
              " 'PETR SHEVELEV',\n",
              " 'ANNA MALININA',\n",
              " 'DEMID STOLYAROV',\n",
              " 'STEPAN VASILEV',\n",
              " 'VALERIY OSTROVSKIY',\n",
              " 'KIRILL KUZMIN',\n",
              " 'MIROSLAVA LARINA',\n",
              " 'MARSEL POLYAKOV',\n",
              " 'DIANA ELIZAROVA',\n",
              " 'VERA BOGOMOLOVA',\n",
              " 'NADEZHDA ANIKINA',\n",
              " 'DMITRIY MOSKVIN',\n",
              " 'MELANIYA KUDRYASHOVA',\n",
              " 'ROMAN ZUBKOV',\n",
              " 'YULIANA ANDREEVA',\n",
              " 'ANTONINA LARINA',\n",
              " 'ALISA BORISOVA',\n",
              " 'DAMIR SHCHUKIN',\n",
              " 'ZARINA SERGEEVA',\n",
              " 'ARTEM ELISEEV',\n",
              " 'VLAD UVAROV',\n",
              " 'DANIL DANILOV',\n",
              " 'VLADIMIR BEZRUKOV',\n",
              " 'EKATERINA TIMOFEEVA',\n",
              " 'ZAKHAR KIREEV',\n",
              " 'VASILISA FEDOSOVA',\n",
              " 'VLADA NOVIKOVA',\n",
              " 'LEV PROKOFEV',\n",
              " 'ELIZAVETA GORBACHEVA',\n",
              " 'NADEZHDA DEMENTEVA',\n",
              " 'RODION STAROSTIN',\n",
              " 'ELINA SUDAKOVA',\n",
              " 'MAKAR KALMYKOV',\n",
              " 'ANASTASIYA BELOUSOVA',\n",
              " 'KAROLINA GORSHKOVA',\n",
              " 'ANTON KULAGIN',\n",
              " 'MELANIYA GONCHAROVA',\n",
              " 'NATALYA DEMIDOVA',\n",
              " 'ADEL NOSKOV',\n",
              " 'TIMUR KULESHOV',\n",
              " 'LEV SUBBOTIN',\n",
              " 'LILIYA MAKEEVA',\n",
              " 'LARISA DEMIDOVA',\n",
              " 'MIROSLAV FADEEV',\n",
              " 'NADEZHDA KOROLEVA',\n",
              " 'YAROMIR KUKUSHKIN',\n",
              " 'VASILISA LAVRENTEVA',\n",
              " 'ELINA EMELYANOVA',\n",
              " 'ELIZAVETA BOGDANOVA',\n",
              " 'ALEKSANDR BABUSHKIN',\n",
              " 'ANTONINA NOSOVA',\n",
              " 'MIRON LAVROV',\n",
              " 'ANGELINA PANFILOVA',\n",
              " 'NAZAR TOLKACHEV',\n",
              " 'DENIS LAVROV',\n",
              " 'RODION KOCHETKOV',\n",
              " 'NELLI DOROKHOVA',\n",
              " 'NATALIYA KASYANOVA',\n",
              " 'RINAT FILIPPOV',\n",
              " 'KAROLINA PANINA',\n",
              " 'RINAT SAMSONOV',\n",
              " 'MARAT ZHILIN',\n",
              " 'STEFANIIA KONDRATEVA',\n",
              " 'SOFIYA MALYSHEVA',\n",
              " 'ALIYA SHAPOVALOVA',\n",
              " 'ILDAR OREKHOV',\n",
              " 'MARSEL NOSOV',\n",
              " 'SEMEN EZHOV',\n",
              " 'NELLI GONCHAROVA',\n",
              " 'VERONIKA BABUSHKINA',\n",
              " 'RODION CHIZHOV',\n",
              " 'VITALINA KRASNOVA',\n",
              " 'ARSEN BELOV',\n",
              " 'IGOR SAMSONOV',\n",
              " 'ELENA SAFONOVA',\n",
              " 'KAROLINA GROMOVA',\n",
              " 'MILANA KOTOVA',\n",
              " 'VITALINA PANOVA',\n",
              " 'DAVID ALEKHIN',\n",
              " 'KIRILL VLASOV',\n",
              " 'MARIYA DEMYANOVA',\n",
              " 'ANGELINA TKACHEVA',\n",
              " 'ROMAN PROKOFEV',\n",
              " 'GEORGIY GRIGOREV',\n",
              " 'ZAKHAR ZYKOV',\n",
              " 'PETR BIRYUKOV',\n",
              " 'OKSANA KONOVALOVA',\n",
              " 'VERONIKA NOSOVA',\n",
              " 'ODISSEI CHEBOTAREV',\n",
              " 'MADINA CHERKASOVA',\n",
              " 'ALBINA SEDOVA',\n",
              " 'KIRILL MININ',\n",
              " 'EVGENIY CHERKASOV',\n",
              " 'ELMIRA STARIKOVA',\n",
              " 'EGOR ERMOLAEV',\n",
              " 'VLADISLAV EREMEEV',\n",
              " 'DANIEL BULATOV',\n",
              " 'LEONID FEDOROV',\n",
              " 'MILANA FETISOVA',\n",
              " 'TIMUR RUMIANTCEV',\n",
              " 'ELINA KUDRYAVTSEVA',\n",
              " 'STEPAN GORDEEV',\n",
              " 'ARTEM MALAKHOV',\n",
              " 'FEDOR KHUDYAKOV',\n",
              " 'DARINA SOMOVA',\n",
              " 'VLADISLAVA SAVINA',\n",
              " 'DANILA LUKIANOV',\n",
              " 'ANNA KONDRATOVA',\n",
              " 'REGINA KAPUSTINA',\n",
              " 'MARK KHARITONOV',\n",
              " 'LIUBOV DEMIDOVA',\n",
              " 'VLADISLAVA EFIMOVA',\n",
              " 'ARTUR ANISIMOV',\n",
              " 'SOFIYA GOLOVANOVA',\n",
              " 'YULIANA BOGDANOVA',\n",
              " 'KIRA GALKINA',\n",
              " 'PLATON SNEGIREV',\n",
              " 'MILANA KAPUSTINA',\n",
              " 'ELMIRA KIRILLOVA',\n",
              " 'KRISTINA USHAKOVA',\n",
              " 'VLADIMIR VLADIMIROV',\n",
              " 'NIKA KOROTKOVA',\n",
              " 'ODISSEY NOSOV',\n",
              " 'DAVID MASLOV',\n",
              " 'ELINA ZELENINA',\n",
              " 'ALBINA KONSTANTINOVA',\n",
              " 'VLAD KUROCHKIN',\n",
              " 'TIKHON FEDOSOV',\n",
              " 'DAMIR LATYSHEV',\n",
              " 'ILIA BOLDYREV',\n",
              " 'SABINA ODINTSOVA',\n",
              " 'LYUDMILA GORSHKOVA',\n",
              " 'SAMIR GRISHIN',\n",
              " 'AGATA POSTNIKOVA',\n",
              " 'VLADISLAVA PASTUKHOVA',\n",
              " 'EMIL MARKIN',\n",
              " 'MARGARITA LOGINOVA',\n",
              " 'DAVID MUKHIN',\n",
              " 'KIRA SUKHOVA',\n",
              " 'ALEKSEY AVDEEV',\n",
              " 'LIANA ZOLOTOVA',\n",
              " 'VLADISLAVA ZVEREVA',\n",
              " 'OLGA BUROVA',\n",
              " 'FEDOR ZHILIN',\n",
              " 'DAMIR VASILEV',\n",
              " 'ADEL EVSEEV',\n",
              " 'INNA ZUEVA',\n",
              " 'OLEG ZORIN',\n",
              " 'ANASTASIYA ERMAKOVA',\n",
              " 'REGINA KOROTKOVA',\n",
              " 'SAMIR GRIBOV',\n",
              " 'VALERIY POKROVSKIY',\n",
              " 'ZARINA MUKHINA',\n",
              " 'AGATA NOSOVA',\n",
              " 'RADMIR KLIMOV',\n",
              " 'KRISTINA PUGACHEVA',\n",
              " 'MILENA SOTNIKOVA',\n",
              " 'ZAKHAR ILINSKIY',\n",
              " 'ULYANA ZUBKOVA',\n",
              " 'TATYANA VASILEVA',\n",
              " 'SABINA ISAEVA',\n",
              " 'TIMOFEY LVOV',\n",
              " 'MARGARITA IGNATEVA',\n",
              " 'RINAT TERENTEV',\n",
              " 'MIRON VESHNYAKOV',\n",
              " 'MARK EFIMOV',\n",
              " 'VSEVOLOD LAPIN',\n",
              " 'NATALIA TIMOFEEVA',\n",
              " 'ROMAN NIKIFOROV',\n",
              " 'VIKTOR OREKHOV',\n",
              " 'ILYA NIKOLSKIY',\n",
              " 'LEV EFIMOV',\n",
              " 'ALENA TKACHEVA',\n",
              " 'LILIYA BLINOVA',\n",
              " 'PLATON RUSAKOV',\n",
              " 'IGNAT SOBOLEV',\n",
              " 'EVELINA PROKOFEVA',\n",
              " 'DARINA POLIKARPOVA',\n",
              " 'VITALIY ZOLOTOV',\n",
              " 'ALLA SUDAKOVA',\n",
              " 'FEDOR ZHAROV',\n",
              " 'RUSLAN ZHUKOV',\n",
              " 'VALERIYA KHOKHLOVA',\n",
              " 'MIKHAIL MININ',\n",
              " 'MIROSLAVA KARPOVA',\n",
              " 'VERONIKA FEDOTOVA',\n",
              " 'VIOLETTA MIRONOVA',\n",
              " 'ROSTISLAV BORISOV',\n",
              " 'SAMIRA SIMONOVA',\n",
              " 'TIMOFEY MALTSEV',\n",
              " 'PETR KALUGIN',\n",
              " 'VITALINA FILIMONOVA',\n",
              " 'MARIYA LYKOVA',\n",
              " 'MARGARITA CHIZHOVA',\n",
              " 'MIRON KOMISSAROV',\n",
              " 'STEPAN ZHURAVLEV',\n",
              " 'KONSTANTIN BOGOMOLOV',\n",
              " 'MIROSLAV MARKOV',\n",
              " 'VLADA SEROVA',\n",
              " 'ELMIRA LUKINA',\n",
              " 'AGATA CHEREPANOVA',\n",
              " 'MARGARITA ALESHINA',\n",
              " 'RUSTAM GORSHKOV',\n",
              " 'DAVID SHAROV',\n",
              " 'RADMIR GOLUBEV',\n",
              " 'KIRILL GLEBOV',\n",
              " 'NIKA BARANOVA',\n",
              " 'KRISTINA OSIPOVA',\n",
              " 'ADEL SHULGIN',\n",
              " 'STEPAN VINOKUROV',\n",
              " 'GEORGIY CHERNOV',\n",
              " 'MARSEL ZOLOTOV',\n",
              " 'YANA BORODINA',\n",
              " 'DANIIL FOMIN',\n",
              " 'VIKTOR VLASOV',\n",
              " 'NINA MARKELOVA',\n",
              " 'GERMAN SUKHAREV',\n",
              " 'DEMID NAUMOV',\n",
              " 'ALISA PANINA',\n",
              " 'NATASHA NAZAROVA',\n",
              " 'AMIR SHULGIN',\n",
              " 'ADEL BYKOV',\n",
              " 'OLESYA PROKOFEVA',\n",
              " 'MARYANA PAVLOVSKAYA',\n",
              " 'TIMUR VAVILOV',\n",
              " 'GALINA SAMOYLOVA',\n",
              " 'MIRON KAPUSTIN',\n",
              " 'MIROSLAVA SHMELEVA',\n",
              " 'LEV GUBANOV',\n",
              " 'ZLATA ZUBOVA',\n",
              " 'ROSTISLAV SELEZNEV',\n",
              " 'PLATON KOPYLOV',\n",
              " 'IRINA GUBANOVA',\n",
              " 'PETR EFREMOV',\n",
              " 'KIRA SUKHANOVA',\n",
              " 'MADINA LOBANOVA',\n",
              " 'ODISSEY BAZHENOV',\n",
              " 'AMELIYA BLOKHINA',\n",
              " 'MILANA KOPYLOVA',\n",
              " 'VLADIMIR EREMIN',\n",
              " 'KAROLINA BLINOVA',\n",
              " 'SVETLANA KUZNETSOVA',\n",
              " 'DANIL ZINOVEV',\n",
              " 'BORIS YAKOVLEV',\n",
              " 'YAROSLAV CHEBOTAREV',\n",
              " 'ROSTISLAV TARASOV',\n",
              " 'VERA ISAEVA',\n",
              " 'VIOLETTA ZYKOVA',\n",
              " 'STEPAN KOSHELEV',\n",
              " 'NIKOLAI ZLOBIN',\n",
              " 'RADMIR ZHURAVLEV',\n",
              " 'SEMEN VESHNYAKOV',\n",
              " 'LARISA KOLESNIKOVA',\n",
              " 'RUSTAM ZAKHAROV',\n",
              " 'EMIL NOSKOV',\n",
              " 'VERA MASLOVA',\n",
              " 'VALENTINA KONOVALOVA',\n",
              " 'SAVVA GREKOV',\n",
              " 'ARTEMIY TROITSKIY',\n",
              " 'VARVARA VOLOSHINA',\n",
              " 'MARGARITA VORONKOVA',\n",
              " 'FEDOR DOROFEEV',\n",
              " 'SAVVA KULIKOV',\n",
              " 'SABINA SEROVA',\n",
              " 'ALBINA MOISEEVA',\n",
              " 'GERMAN KAZAKOV',\n",
              " 'RINAT SPIRIDONOV',\n",
              " 'VASILII VERESHCHAGIN',\n",
              " 'EVA KOPYLOVA',\n",
              " 'PAVEL GERASIMOV',\n",
              " 'FILIPP BARSUKOV',\n",
              " 'KONSTANTIN ZORIN',\n",
              " 'RINAT MESHKOV',\n",
              " 'TIMUR VISHNEVSKII',\n",
              " 'EMIL ERSHOV',\n",
              " 'LYUBOV SYCHEVA',\n",
              " 'NIKA KOZINA',\n",
              " 'DANIL CHERNYSHEV',\n",
              " 'STEPAN KONDRATEV',\n",
              " 'POLINA VOLKOVA',\n",
              " 'SNEZHANA EZHOVA',\n",
              " 'SVETLANA SPIRIDONOVA',\n",
              " 'VSEVOLOD EZHOV',\n",
              " 'RINAT KORNILOV',\n",
              " 'AMINA NIKULINA',\n",
              " 'DANIL KAPUSTIN',\n",
              " 'DANIL IGNATOV',\n",
              " 'STANISLAV KUROCHKIN',\n",
              " 'SABINA TARASOVA',\n",
              " 'KRISTINA ALESHINA',\n",
              " 'DANILA ERMILOV',\n",
              " 'ANASTASIYA LOSEVA',\n",
              " 'ODISSEY STEPANOV',\n",
              " 'KAROLINA RYZHOVA',\n",
              " 'AMINA MEDVEDEVA',\n",
              " 'ALINA FEDOSEEVA',\n",
              " 'TIMOFEY KAZANTSEV',\n",
              " 'OLEG ZAYTSEV',\n",
              " 'ILDAR CHERKASOV',\n",
              " 'FILIPP MERKULOV',\n",
              " 'MAKAR RUMIANTCEV',\n",
              " 'MELANIYA KOMAROVA',\n",
              " 'VIKTOR LEONTEV',\n",
              " 'ARIANA PROKOFEVA',\n",
              " 'VIKTORIYA AGEEVA',\n",
              " 'SAMIR KOCHERGIN',\n",
              " 'BOGDAN KORNILOV',\n",
              " 'EGOR KOLOSOV',\n",
              " 'MILANA DRUZHININA',\n",
              " 'SOFIYA DOLGOVA',\n",
              " 'GALINA ISAEVA',\n",
              " 'DIANA PLATONOVA',\n",
              " 'SNEZHANA LARIONOVA',\n",
              " 'DANIIL SHILOV',\n",
              " 'BOGDAN NIKITIN',\n",
              " 'NIKITA UTKIN',\n",
              " 'OLEG SHAPOVALOV',\n",
              " 'ALINA PLOTNIKOVA',\n",
              " 'VERA TUMANOVA',\n",
              " 'YAN KHOKHLOV',\n",
              " 'AMELIIA SVIRIDOVA',\n",
              " 'ADEL ZVEREV',\n",
              " 'PLATON LAPSHIN',\n",
              " 'DARYA RYZHOVA',\n",
              " 'SAMIRA SHAPOSHNIKOVA',\n",
              " 'GRIGORIY DENISOV',\n",
              " 'ARSEN SAZONOV',\n",
              " 'ALIYA MASLOVA',\n",
              " 'KAMILLA PUGACHEVA',\n",
              " 'MILENA KUZNETSOVA',\n",
              " 'ANTONINA GOLOVANOVA',\n",
              " 'ALLA KOROLKOVA',\n",
              " 'VIOLETTA MELNIKOVA',\n",
              " 'NADEZHDA FROLOVA',\n",
              " 'ADELINA PROKOFEVA',\n",
              " 'ZARINA KONDRASHOVA',\n",
              " 'OLESYA LAPSHINA',\n",
              " 'MARSEL GLADKOV',\n",
              " 'AMINA MITROFANOVA',\n",
              " 'EKATERINA ERMOLAEVA',\n",
              " 'DIANA SOMOVA',\n",
              " 'SABINA AKSENOVA',\n",
              " 'ARTEM BIRYUKOV',\n",
              " 'SNEZHANA MINAEVA',\n",
              " 'VIKTOR ANISIMOV',\n",
              " 'DAVID SIDOROV',\n",
              " 'EVA RAKOVA',\n",
              " 'SEMEN ERMOLAEV',\n",
              " 'VLADA AGEEVA',\n",
              " 'KRISTINA GORDEEVA',\n",
              " 'GLEB SHCHEGLOV',\n",
              " 'KRISTINA SHILOVA',\n",
              " 'VERA DOROFEEVA',\n",
              " 'YURIY USTINOV',\n",
              " 'ANTON SHAROV',\n",
              " 'SERGEI GUSHCHIN',\n",
              " 'LEONID DYAKOV',\n",
              " 'GALINA VOROBEVA',\n",
              " 'STEPAN EVSEEV',\n",
              " 'GERMAN MALAKHOV',\n",
              " 'VLADIMIR MALININ',\n",
              " 'ANTON MAKEEV',\n",
              " 'PETR RAKOV',\n",
              " 'ADELINA GERASIMOVA',\n",
              " 'ELIZAVETA TRIFONOVA',\n",
              " 'RUSTAM SEMIN',\n",
              " 'VASILINA VOLOSHINA',\n",
              " 'EVA EREMEEVA',\n",
              " 'ALISA RYZHOVA',\n",
              " 'VIOLETTA KOSHELEVA',\n",
              " 'ANASTASIYA VDOVINA',\n",
              " 'VADIM ILIN',\n",
              " 'RADMIR AGAPOV',\n",
              " 'DEMID VLASOV',\n",
              " 'KARINA PONOMAREVA',\n",
              " 'VERONIKA GLADKOVA',\n",
              " 'AMALIYA RUSAKOVA',\n",
              " 'VLADISLAVA EFREMOVA',\n",
              " 'ARTUR SIZOV',\n",
              " 'VERONIKA BLOKHINA',\n",
              " 'MAKAR PETROVSKII',\n",
              " 'VADIM MUKHIN',\n",
              " 'MARGARITA IGNATOVA',\n",
              " 'NAZAR SHIRYAEV',\n",
              " 'LARISA LAZAREVA',\n",
              " 'SEMEN BULATOV',\n",
              " 'MILANA SUBBOTINA',\n",
              " 'TAMARA OREKHOVA',\n",
              " 'ILDAR GORBACHEV',\n",
              " 'VERONIKA TOLKACHEVA',\n",
              " 'ANZHELIKA VLASOVA',\n",
              " 'ELINA CHERNYKH',\n",
              " 'AMELIYA MERKULOVA',\n",
              " 'MAKAR ALESHIN',\n",
              " 'GLEB OVSYANNIKOV',\n",
              " 'SEMEN VOLKOV',\n",
              " 'ELENA GRIGOREVA',\n",
              " 'EMILIYA BOGDANOVA',\n",
              " 'ANASTASIYA RYABININA',\n",
              " 'VIOLETTA PARAMONOVA',\n",
              " 'TIMUR MAYOROV',\n",
              " 'ARTEMIY KUZMIN',\n",
              " 'IGNAT RUDAKOV',\n",
              " 'GRIGORIY POLYAKOV',\n",
              " 'MARSEL BLINOV',\n",
              " 'ANTONINA KONSTANTINOVA',\n",
              " 'SVETLANA NOSOVA',\n",
              " 'NIKITA MOROZOV',\n",
              " 'NIKITA CHUMAKOV',\n",
              " 'VALENTINA GORSHKOVA',\n",
              " 'EVGENIY SUKHAREV',\n",
              " 'ROSTISLAV KOSTIN',\n",
              " 'ELINA SHULGINA',\n",
              " 'ALISA DOLGOVA',\n",
              " 'ADEL VAVILOV',\n",
              " 'PLATON SHAROV',\n",
              " 'PETR KAZAKOV',\n",
              " 'ARTEM LAPIN',\n",
              " 'EVGENIYA LAPTEVA',\n",
              " 'POLINA OREKHOVA',\n",
              " 'NAZAR KUZNETCOV',\n",
              " 'RUSTAM PANTELEEV',\n",
              " 'IGNAT TEREKHOV',\n",
              " 'ROBERT SVESHNIKOV',\n",
              " 'LILIYA PONOMAREVA',\n",
              " 'EDUARD MASLOV',\n",
              " 'ALENA DRUZHININA',\n",
              " 'ANASTASIYA ZOTOVA',\n",
              " 'VASILISA ANTIPOVA',\n",
              " 'KAROLINA MASLENNIKOVA',\n",
              " 'DAVID KOCHERGIN',\n",
              " 'DANIIL KOLESOV',\n",
              " 'REGINA LAZAREVA',\n",
              " 'EDUARD NIKOLSKIY',\n",
              " 'REGINA NIKITINA',\n",
              " 'MAKAR LAZAREV',\n",
              " 'VIOLETTA GROMOVA',\n",
              " 'MATVEY POLIKARPOV',\n",
              " 'NATASHA ELIZAROVA',\n",
              " 'ALINA BORODINA',\n",
              " 'DEMID BUROV',\n",
              " 'ELVIRA SUKHAREVA',\n",
              " 'MIROSLAV LAZAREV',\n",
              " 'YURIY SMIRNOV',\n",
              " 'ROMAN LARIONOV',\n",
              " 'VIOLETTA LAPSHINA',\n",
              " 'EGOR SUKHOV',\n",
              " 'ALISA SUSLOVA',\n",
              " 'RODION TROFIMOV',\n",
              " 'PETR STARIKOV',\n",
              " 'NAZAR KONSTANTINOV',\n",
              " 'ANTONINA KOMISSAROVA',\n",
              " 'LIANA SURKOVA',\n",
              " 'TIMUR ABRAMOV',\n",
              " 'VERA BULATOVA',\n",
              " 'STEPAN KARASEV',\n",
              " 'RADMIR ZUEV',\n",
              " 'KRISTINA MURAVEVA',\n",
              " 'MAKAR BASHIROV',\n",
              " 'SAVVA GONCHAROV',\n",
              " 'PAVEL KONDRATOV',\n",
              " 'AMINA SOMOVA',\n",
              " 'SNEZHANA BAZHENOVA',\n",
              " 'ALBINA ZHDANOVA',\n",
              " 'SVETLANA SUBBOTINA',\n",
              " 'NIKA SOROKINA',\n",
              " 'ARINA LOPATINA',\n",
              " 'ROBERT ERMOLAEV',\n",
              " 'TATYANA KOSHELEVA',\n",
              " 'ULYANA CHERNAYA',\n",
              " 'INNA KUDRYASHOVA',\n",
              " 'TIMUR ALEKHIN',\n",
              " 'LARISA MAKEEVA',\n",
              " 'DENIS MASLENNIKOV',\n",
              " 'GALINA KUROCHKINA',\n",
              " 'MARIIA ROZHKOVA',\n",
              " 'ANATOLII BORODIN',\n",
              " 'AMIR ORLOV',\n",
              " 'ADEL KOSHELEV',\n",
              " 'DAVID EZHOV',\n",
              " 'NIKITA SOMOV',\n",
              " 'TAMARA SEMENOVA',\n",
              " 'RODION RODIONOV',\n",
              " 'VASILISA GRIBOVA',\n",
              " 'ALENA SEDOVA',\n",
              " 'OLEG STARIKOV',\n",
              " 'RODION NAUMOV',\n",
              " 'MARINA KONDRATEVA',\n",
              " 'ARINA SOKOLOVA',\n",
              " 'ALINA ERMOLAEVA',\n",
              " 'LARISA VDOVINA',\n",
              " 'NIKA NEFEDOVA',\n",
              " 'LEONID DROZDOV',\n",
              " 'LEV PETUKHOV',\n",
              " 'VALENTINA SALNIKOVA',\n",
              " 'RADMIR KUZNETCOV',\n",
              " 'ANTON LEVIN',\n",
              " 'MAKAR EGOROV',\n",
              " 'RUSLAN KUZNETSOV',\n",
              " 'FILIPP DAVYDOV',\n",
              " 'EGOR KOROVIN',\n",
              " 'VSEVOLOD CHESNOKOV',\n",
              " 'ANNA AGAPOVA',\n",
              " 'NADEZHDA ERMOLOVA',\n",
              " 'IVAN BULGAKOV',\n",
              " 'DANILA IGNATOV',\n",
              " 'SAVVA PROKHOROV',\n",
              " 'KRISTINA AVDEEVA',\n",
              " 'STEFANIYA MININA',\n",
              " 'LILIYA MURAVEVA',\n",
              " 'EGOR SIZOV',\n",
              " 'FILIPP IZMAYLOV',\n",
              " 'AMIR KRASNOV',\n",
              " 'ROBERT FILATOV',\n",
              " 'MILENA ANIKINA',\n",
              " 'GERMAN NECHAEV',\n",
              " 'VERONIKA GORDEEVA',\n",
              " 'ARSEN SHEVELEV',\n",
              " 'OLGA EMELYANOVA',\n",
              " 'DAVID CHEREPANOV',\n",
              " 'DIANA SHCHEGLOVA',\n",
              " 'SEMEN LEONTEV',\n",
              " 'IGNAT BELOUSOV',\n",
              " 'DARINA KOSHELEVA',\n",
              " 'NATALYA KONDRASHOVA',\n",
              " 'NATALIYA BLINOVA',\n",
              " 'NADEZHDA MERKULOVA',\n",
              " 'MADINA SEROVA',\n",
              " 'MARAT MIKHAYLOV',\n",
              " 'ELENA SHMELEVA',\n",
              " 'ELENA LOSEVA',\n",
              " 'ADELINA OSIPOVA',\n",
              " 'STEFANIYA KUPRIYANOVA',\n",
              " 'FILIPP SAZONOV',\n",
              " 'GORDEY OZEROV',\n",
              " 'VERA RUDNEVA',\n",
              " 'ARINA PUGACHEVA',\n",
              " 'RUSTAM VORONOV',\n",
              " 'AGATA RODINA',\n",
              " 'MARSEL BARANOV',\n",
              " 'NINA KONDRASHOVA',\n",
              " 'KAMILLA SELIVANOVA',\n",
              " 'SNEZHANA MIKHAYLOVA',\n",
              " 'ARSEN SHCHERBAKOV',\n",
              " 'VERONIKA DOLGOVA',\n",
              " 'VLADIMIR PIMENOV',\n",
              " 'SAVELIY KOMISSAROV',\n",
              " 'ALINA SEMINA',\n",
              " 'DENIS NIKULIN',\n",
              " 'ANASTASIYA BASOVA',\n",
              " 'ALBERT NESTEROV',\n",
              " 'ADELINA SOTNIKOVA',\n",
              " 'VLADISLAVA TITOVA',\n",
              " 'YULIYA DOROKHOVA',\n",
              " 'EKATERINA ANISIMOVA',\n",
              " 'POLINA SOMOVA',\n",
              " 'IRINA VINOKUROVA',\n",
              " 'TAMERLAN CHEBOTAREV',\n",
              " 'VIOLETTA USHAKOVA',\n",
              " 'ILDAR NOSKOV',\n",
              " 'AMINA ORLOVA',\n",
              " 'VIOLETTA MUKHINA',\n",
              " 'MATVEY KARPOV',\n",
              " 'EMIL KRAVTSOV',\n",
              " 'SNEZHANA FILIMONOVA',\n",
              " 'ELENA BELIKOVA',\n",
              " 'OLESYA KULIKOVA',\n",
              " 'TAMARA BORISOVA',\n",
              " 'NINA PANKOVA',\n",
              " 'VITALINA ZUBOVA',\n",
              " 'SABINA CHEREPANOVA',\n",
              " 'ELENA NAUMOVA',\n",
              " 'EGOR MASLOV',\n",
              " 'ZAKHAR TOKAREV',\n",
              " 'ANNA BONDAREVA',\n",
              " 'VADIM SAZONOV',\n",
              " 'ALENA LEONOVA',\n",
              " 'EVELINA LARIONOVA',\n",
              " 'ALLA DMITRIEVA',\n",
              " 'ARSENIY MARKIN',\n",
              " 'VIKTOR TARASOV',\n",
              " 'TAMARA TKACHEVA',\n",
              " 'PLATON LOPATIN',\n",
              " 'KONSTANTIN IGNATEV',\n",
              " 'DARYA CHERNOVA',\n",
              " 'ULYANA SHCHERBAKOVA',\n",
              " 'YAROMIR OKULOV',\n",
              " 'VYACHESLAV PIROGOV',\n",
              " 'AMELIYA MOROZOVA',\n",
              " 'EGOR GROMOV',\n",
              " 'REGINA GONCHAROVA',\n",
              " 'VASILIY TRETYAKOV',\n",
              " 'SABINA BORODINA',\n",
              " 'KAMILLA OVCHINNIKOVA',\n",
              " 'ZLATA CHERNYKH',\n",
              " 'VIKTORIYA AKIMOVA',\n",
              " 'KIRA KORCHAGINA',\n",
              " 'MAKAR KOROTKOV',\n",
              " 'MADINA OKULOVA',\n",
              " 'MIROSLAVA KONDRASHOVA',\n",
              " 'PLATON ERMILOV',\n",
              " 'MIKHAIL GONCHAROV',\n",
              " 'SABINA UVAROVA',\n",
              " 'MARGARITA LATYSHEVA',\n",
              " 'STEFANIYA MOROZOVA',\n",
              " 'BOGDAN ISAKOV',\n",
              " 'ZAKHAR LEBEDEV',\n",
              " 'ANTON SVIRIDOV',\n",
              " 'SAMIR KISELEV',\n",
              " 'OLGA GORLOVA',\n",
              " 'IVAN LARIONOV',\n",
              " 'TATYANA NIKITINA',\n",
              " 'DANIIL PROKHOROV',\n",
              " 'MARSEL MALYSHEV',\n",
              " 'KSENIYA ALESHINA',\n",
              " 'EMIL FILIPPOV',\n",
              " 'AMIR ANIKIN',\n",
              " 'ANATOLIY DANILOV',\n",
              " 'ANTON BELKIN',\n",
              " 'ANGELINA KORNEVA',\n",
              " 'MILENA DOROFEEVA',\n",
              " 'VALENTINA KONDRASHOVA',\n",
              " 'IRINA MARKINA',\n",
              " 'VASILIY STARIKOV',\n",
              " 'MIROSLAVA LAPSHINA',\n",
              " 'ELINA SNEGIREVA',\n",
              " 'MIROSLAV SHESTAKOV',\n",
              " 'EGOR ZOLOTOV',\n",
              " 'LYUBOV ZAVYALOVA',\n",
              " 'MIROSLAV MOROZOV',\n",
              " 'KIRILL BELOV',\n",
              " 'RODION SEVASTYANOV',\n",
              " 'TAMARA POLIKARPOVA',\n",
              " 'LIANA VDOVINA',\n",
              " 'NAZAR CHUMAKOV',\n",
              " 'NINA SHIROKOVA',\n",
              " 'ARINA KOLESOVA',\n",
              " 'TIKHON NIKONOV',\n",
              " 'SAMIRA ERMOLAEVA',\n",
              " 'RUSTAM GUSEV',\n",
              " 'MARK LITVINOV',\n",
              " 'NATASHA NEKRASOVA',\n",
              " 'ANGELINA ANTIPOVA',\n",
              " 'SEMEN DEMIN',\n",
              " 'ROSTISLAV GULYAEV',\n",
              " 'NADEZHDA IVANOVA',\n",
              " 'VLADA LEBEDEVA',\n",
              " 'TATYANA LAPTEVA',\n",
              " 'IVAN KUZIN',\n",
              " 'IGNAT KOLTSOV',\n",
              " 'ZLATA SAMOYLOVA',\n",
              " 'IGOR USHAKOV',\n",
              " 'IGOR OVSYANNIKOV',\n",
              " 'LIDIIA KHOKHLOVA',\n",
              " 'PAVEL GRIGOREV',\n",
              " 'ALEKSANDR NESTEROV',\n",
              " 'VASILINA SOBOLEVA',\n",
              " 'RAMIL BASOV',\n",
              " 'ANZHELIKA TRETYAKOVA',\n",
              " 'STANISLAV SUVOROV',\n",
              " 'DANILA GALKIN',\n",
              " 'PAVEL LAVROV',\n",
              " 'YURIY GOLUBEV',\n",
              " 'ADELINA SIZOVA',\n",
              " 'DANILA GORBUNOV',\n",
              " 'DANIIL MIKHEEV',\n",
              " 'ALIYA MESHKOVA',\n",
              " 'NAZAR BOGDANOV',\n",
              " 'EVA AGEEVA',\n",
              " 'ROMAN KOLPAKOV',\n",
              " 'VITALIY PANOV',\n",
              " 'MIROSLAVA KHARITONOVA',\n",
              " 'SNEZHANA MALININA',\n",
              " 'VITALINA ASTAKHOVA',\n",
              " 'PAVEL BELIAEV',\n",
              " 'ELISEI ZOTOV',\n",
              " 'ANNA RUDAKOVA',\n",
              " 'MIKHAIL ZUBKOV',\n",
              " 'KRISTINA SOKOLOVA',\n",
              " 'KAMILLA BLOKHINA',\n",
              " 'GORDEY SERGEEV',\n",
              " 'ROBERT NOSKOV',\n",
              " 'KARINA GOROKHOVA',\n",
              " 'MARGARITA SUSLOVA',\n",
              " 'SNEZHANA KRUGLOVA',\n",
              " 'SAMIRA BLINOVA',\n",
              " 'ADELINA ALEKSANDROVA',\n",
              " 'LARISA KARPOVA',\n",
              " 'TAMERLAN DANILOV',\n",
              " 'ULYANA BARANOVA',\n",
              " 'TATYANA TITOVA',\n",
              " 'YULIYA PASTUKHOVA',\n",
              " 'STEPAN DEMIDOV',\n",
              " 'LARISA ZAVYALOVA',\n",
              " 'MILANA SURKOVA',\n",
              " 'EMIL SHUVALOV',\n",
              " 'SVYATOGOR BULATOV',\n",
              " 'KRISTINA BLINOVA',\n",
              " 'ILDAR GLEBOV',\n",
              " 'DIANA STARIKOVA',\n",
              " 'VLAD GOLUBEV',\n",
              " 'MARINA KAZANTSEVA',\n",
              " 'ALISA SALNIKOVA',\n",
              " 'VASILII TITOV',\n",
              " 'FILIPP MASLENNIKOV',\n",
              " 'DARINA ABRAMOVA',\n",
              " 'DARINA FOMINA',\n",
              " 'SVIATOSLAV ANTIPOV',\n",
              " 'PETR KOCHETOV',\n",
              " 'NATASHA BOBROVA',\n",
              " 'MARSEL IGNATOV',\n",
              " 'NATASHA BESSONOVA',\n",
              " 'VITALIY OREKHOV',\n",
              " 'NAZAR MORGUNOV',\n",
              " 'KIRILL NIKONOV',\n",
              " 'TAMARA KUKUSHKINA',\n",
              " 'MARK SUDAKOV',\n",
              " 'PLATON DOROFEEV',\n",
              " 'RINAT RAKOV',\n",
              " 'ZARINA SYCHEVA',\n",
              " 'DMITRIY AGEEV',\n",
              " 'OLESYA ZOLOTOVA',\n",
              " 'IURII EREMIN',\n",
              " 'YANA AVDEEVA',\n",
              " 'VLADA PARAMONOVA',\n",
              " 'NELLI KOVALEVA',\n",
              " 'AMIR KORCHAGIN',\n",
              " 'VIKTOR PARFENOV',\n",
              " 'ZARINA DENISOVA',\n",
              " 'ARINA SHCHEGLOVA',\n",
              " 'ALBERT NECHAEV',\n",
              " 'FILIPP PANKOV',\n",
              " 'MIRON SVESHNIKOV',\n",
              " 'RAMIL PANKRATOV',\n",
              " 'PETR CHERKASOV',\n",
              " 'ZLATA MOSKVINA',\n",
              " 'RODION MINAEV',\n",
              " 'STEFANIYA DEMENTEVA',\n",
              " 'EVA KULAKOVA',\n",
              " 'SVETLANA SHEVELEVA',\n",
              " 'TAMARA MASLENNIKOVA',\n",
              " 'NADEZHDA KOSHELEVA',\n",
              " 'VYACHESLAV ANISIMOV',\n",
              " 'MARINA FILIPPOVA',\n",
              " 'VIKTOR GLEBOV',\n",
              " 'ALBINA GREKOVA',\n",
              " 'ALINA KULESHOVA',\n",
              " 'ANTON KORSHUNOV',\n",
              " 'BOGDAN CHIZHOV',\n",
              " 'RAMIL SOLOVEV',\n",
              " 'OLEG ILIN',\n",
              " 'BORIS MESHKOV',\n",
              " 'BORIS KOROLEV',\n",
              " 'RUSLAN BASOV',\n",
              " 'MIRON SIMONOV',\n",
              " 'AMALIYA ANIKINA',\n",
              " 'SAVVA ASTAKHOV',\n",
              " 'VYACHESLAV MELNIKOV',\n",
              " 'VLADIMIR CHERNYSHEV',\n",
              " 'REGINA KLIMOVA',\n",
              " 'RODION CHEBOTAREV',\n",
              " 'LIDIYA PETROVSKAYA',\n",
              " 'IRINA BOLSHAKOVA',\n",
              " 'ROBERT KULAGIN',\n",
              " 'NELLI VORONKOVA',\n",
              " 'GALINA TUMANOVA',\n",
              " 'ARINA KORNILOVA',\n",
              " 'MIRON KOCHETOV',\n",
              " 'MELANIYA GRIBOVA',\n",
              " 'VSEVOLOD RUMYANTSEV',\n",
              " 'ESENIIA BELOUSOVA',\n",
              " 'ELENA STARIKOVA',\n",
              " 'OLEG KOROLKOV',\n",
              " 'MIRON EROFEEV',\n",
              " 'RUSTAM PLOTNIKOV',\n",
              " 'ARIANA OVSYANNIKOVA',\n",
              " 'FEDOR CHEBOTAREV',\n",
              " 'KARINA ROZHKOVA',\n",
              " 'YAN AFANASEV',\n",
              " 'DENIS FILIMONOV',\n",
              " 'NIKA KORNILOVA',\n",
              " 'DMITRIY ILIN',\n",
              " 'AGATA SHULGINA',\n",
              " 'SAMIR ZHDANOV',\n",
              " 'SNEZHANA KONSTANTINOVA',\n",
              " 'GLEB PANKRATOV',\n",
              " 'LARISA USOVA',\n",
              " 'VERA IGNATOVA',\n",
              " 'MARINA VORONKOVA',\n",
              " 'ANTON FILIMONOV',\n",
              " 'KAROLINA EFREMOVA',\n",
              " 'AGATA ASTAFEVA',\n",
              " 'IVAN NIKONOV',\n",
              " 'NATALYA GONCHAROVA',\n",
              " 'MIKHAIL STAROSTIN',\n",
              " 'ARTEMIY SHILOV',\n",
              " 'VLADISLAVA DUBROVINA',\n",
              " 'ANZHELIKA KUZMINA',\n",
              " 'KAMILLA VORONKOVA',\n",
              " 'NIKITA MUKHIN',\n",
              " 'DAVID SOMOV',\n",
              " 'EKATERINA AGAFONOVA',\n",
              " 'OLEG PAKHOMOV',\n",
              " 'ALISA BUROVA',\n",
              " 'RAMIL NIKULIN',\n",
              " 'KRISTINA VOROBEVA',\n",
              " 'DANILA KRYLOV',\n",
              " 'ANTON KOCHETOV',\n",
              " 'OLGA STEPANOVA',\n",
              " 'BOGDAN BOCHAROV',\n",
              " 'AMINA OZEROVA',\n",
              " 'ANZHELIKA KOROLKOVA',\n",
              " 'ELENA KARPOVA',\n",
              " 'SVETLANA MESHKOVA',\n",
              " 'NIKOLAY KHUDYAKOV',\n",
              " 'NELLI VOROBEVA',\n",
              " 'ELENA NOSKOVA',\n",
              " 'VASILINA SHISHKINA',\n",
              " 'IGOR ROZHKOV',\n",
              " 'LEONID PROKOFEV',\n",
              " 'MARIANA STAROSTINA',\n",
              " 'NATASHA EGOROVA',\n",
              " 'MIRON ROZHKOV',\n",
              " 'IVAN EREMEEV',\n",
              " 'EMIL TIKHONOV',\n",
              " 'ADELINA VDOVINA',\n",
              " 'NIKITA NEFEDOV',\n",
              " 'GORDEY KHOMYAKOV',\n",
              " 'GLEB LOPATIN',\n",
              " 'NIKITA DMITRIEV',\n",
              " ...}"
            ]
          },
          "metadata": {
            "tags": []
          },
          "execution_count": 273
        }
      ]
    },
    {
      "cell_type": "markdown",
      "metadata": {
        "id": "isqg3Dg85GnZ"
      },
      "source": [
        "## Проверка suspicious_people"
      ]
    },
    {
      "cell_type": "code",
      "metadata": {
        "id": "d679azn95Pfw",
        "colab": {
          "base_uri": "https://localhost:8080/",
          "height": 235
        },
        "outputId": "aa312607-6e2a-448c-bd90-f7dfba6b54a0"
      },
      "source": [
        "qwe = filt_msc_visiters_df.groupby('date').agg({'name': set})\n",
        "qwe.head()"
      ],
      "execution_count": null,
      "outputs": [
        {
          "output_type": "execute_result",
          "data": {
            "text/html": [
              "<div>\n",
              "<style scoped>\n",
              "    .dataframe tbody tr th:only-of-type {\n",
              "        vertical-align: middle;\n",
              "    }\n",
              "\n",
              "    .dataframe tbody tr th {\n",
              "        vertical-align: top;\n",
              "    }\n",
              "\n",
              "    .dataframe thead th {\n",
              "        text-align: right;\n",
              "    }\n",
              "</style>\n",
              "<table border=\"1\" class=\"dataframe\">\n",
              "  <thead>\n",
              "    <tr style=\"text-align: right;\">\n",
              "      <th></th>\n",
              "      <th>name</th>\n",
              "    </tr>\n",
              "    <tr>\n",
              "      <th>date</th>\n",
              "      <th></th>\n",
              "    </tr>\n",
              "  </thead>\n",
              "  <tbody>\n",
              "    <tr>\n",
              "      <th>2017-01-01 00:00:00</th>\n",
              "      <td>{ADEL BELOUSOV, EVA PIMENOVA, KRISTINA BLINOVA...</td>\n",
              "    </tr>\n",
              "    <tr>\n",
              "      <th>2017-01-01 00:05:00</th>\n",
              "      <td>{KONSTANTIN BOCHAROV}</td>\n",
              "    </tr>\n",
              "    <tr>\n",
              "      <th>2017-01-01 00:10:00</th>\n",
              "      <td>{ALISA SUSLOVA, RADMIR GUSEV}</td>\n",
              "    </tr>\n",
              "    <tr>\n",
              "      <th>2017-01-01 00:50:00</th>\n",
              "      <td>{KIRA TITOVA, ADEL KOMISSAROV, GLEB EREMIN, VA...</td>\n",
              "    </tr>\n",
              "    <tr>\n",
              "      <th>2017-01-01 01:45:00</th>\n",
              "      <td>{ARSEN SIZOV, MARK MURATOV, OLEG ZIMIN, SVETLA...</td>\n",
              "    </tr>\n",
              "  </tbody>\n",
              "</table>\n",
              "</div>"
            ],
            "text/plain": [
              "                                                                  name\n",
              "date                                                                  \n",
              "2017-01-01 00:00:00  {ADEL BELOUSOV, EVA PIMENOVA, KRISTINA BLINOVA...\n",
              "2017-01-01 00:05:00                              {KONSTANTIN BOCHAROV}\n",
              "2017-01-01 00:10:00                      {ALISA SUSLOVA, RADMIR GUSEV}\n",
              "2017-01-01 00:50:00  {KIRA TITOVA, ADEL KOMISSAROV, GLEB EREMIN, VA...\n",
              "2017-01-01 01:45:00  {ARSEN SIZOV, MARK MURATOV, OLEG ZIMIN, SVETLA..."
            ]
          },
          "metadata": {
            "tags": []
          },
          "execution_count": 29
        }
      ]
    },
    {
      "cell_type": "code",
      "metadata": {
        "id": "RFaeZ0zw6ozv"
      },
      "source": [
        "def threshold_suspicious_in(x):\n",
        "    \"\"\"Полёты в которых было от дву подозрительны людей\"\"\"\n",
        "    temp = suspicious_people & x\n",
        "    if len(temp) >= 2:\n",
        "        return temp"
      ],
      "execution_count": null,
      "outputs": []
    },
    {
      "cell_type": "code",
      "metadata": {
        "id": "6sAEdNKG52Av"
      },
      "source": [
        "suspicious = qwe.applymap(threshold_suspicious_in)\n",
        "suspicious = suspicious[~suspicious.name.isna()]"
      ],
      "execution_count": null,
      "outputs": []
    },
    {
      "cell_type": "code",
      "metadata": {
        "colab": {
          "base_uri": "https://localhost:8080/",
          "height": 204
        },
        "id": "MQsn_mnDOnzI",
        "outputId": "d87509e6-2731-4f3b-af79-67d16094986c"
      },
      "source": [
        "suspicious_statistic = filt_msc_visiters_df[filt_msc_visiters_df.name.isin(suspicious_people)].sort_values(by=['date', 'airport_from', 'airport_to', 'flight_number'])\n",
        "suspicious_statistic = suspicious_statistic.drop_duplicates(subset=['name', 'date'])\n",
        "suspicious_statistic.head()"
      ],
      "execution_count": null,
      "outputs": [
        {
          "output_type": "execute_result",
          "data": {
            "text/html": [
              "<div>\n",
              "<style scoped>\n",
              "    .dataframe tbody tr th:only-of-type {\n",
              "        vertical-align: middle;\n",
              "    }\n",
              "\n",
              "    .dataframe tbody tr th {\n",
              "        vertical-align: top;\n",
              "    }\n",
              "\n",
              "    .dataframe thead th {\n",
              "        text-align: right;\n",
              "    }\n",
              "</style>\n",
              "<table border=\"1\" class=\"dataframe\">\n",
              "  <thead>\n",
              "    <tr style=\"text-align: right;\">\n",
              "      <th></th>\n",
              "      <th>name</th>\n",
              "      <th>date</th>\n",
              "      <th>flight_number</th>\n",
              "      <th>city_from</th>\n",
              "      <th>airport_from</th>\n",
              "      <th>city_to</th>\n",
              "      <th>airport_to</th>\n",
              "      <th>fare</th>\n",
              "    </tr>\n",
              "  </thead>\n",
              "  <tbody>\n",
              "    <tr>\n",
              "      <th>821037</th>\n",
              "      <td>TAMARA BORISOVA</td>\n",
              "      <td>2017-01-01</td>\n",
              "      <td>SU1143</td>\n",
              "      <td>Anapa</td>\n",
              "      <td>AAQ</td>\n",
              "      <td>Moscow</td>\n",
              "      <td>SVO</td>\n",
              "      <td>NaN</td>\n",
              "    </tr>\n",
              "    <tr>\n",
              "      <th>861242</th>\n",
              "      <td>TAMERLAN BELOUSOV</td>\n",
              "      <td>2017-01-01</td>\n",
              "      <td>SU1143</td>\n",
              "      <td>Anapa</td>\n",
              "      <td>AAQ</td>\n",
              "      <td>Moscow</td>\n",
              "      <td>SVO</td>\n",
              "      <td>NaN</td>\n",
              "    </tr>\n",
              "    <tr>\n",
              "      <th>1117798</th>\n",
              "      <td>NATALIYA KOROVINA</td>\n",
              "      <td>2017-01-01</td>\n",
              "      <td>SU1143</td>\n",
              "      <td>Anapa</td>\n",
              "      <td>AAQ</td>\n",
              "      <td>Moscow</td>\n",
              "      <td>SVO</td>\n",
              "      <td>NaN</td>\n",
              "    </tr>\n",
              "    <tr>\n",
              "      <th>1149066</th>\n",
              "      <td>AMELIYA BAZHENOVA</td>\n",
              "      <td>2017-01-01</td>\n",
              "      <td>SU1143</td>\n",
              "      <td>Anapa</td>\n",
              "      <td>AAQ</td>\n",
              "      <td>Moscow</td>\n",
              "      <td>SVO</td>\n",
              "      <td>NaN</td>\n",
              "    </tr>\n",
              "    <tr>\n",
              "      <th>1005223</th>\n",
              "      <td>MIRON MAKEEV</td>\n",
              "      <td>2017-01-01</td>\n",
              "      <td>SU1145</td>\n",
              "      <td>Anapa</td>\n",
              "      <td>AAQ</td>\n",
              "      <td>Moscow</td>\n",
              "      <td>SVO</td>\n",
              "      <td>NaN</td>\n",
              "    </tr>\n",
              "  </tbody>\n",
              "</table>\n",
              "</div>"
            ],
            "text/plain": [
              "                      name       date flight_number  ... city_to airport_to fare\n",
              "821037     TAMARA BORISOVA 2017-01-01        SU1143  ...  Moscow        SVO  NaN\n",
              "861242   TAMERLAN BELOUSOV 2017-01-01        SU1143  ...  Moscow        SVO  NaN\n",
              "1117798  NATALIYA KOROVINA 2017-01-01        SU1143  ...  Moscow        SVO  NaN\n",
              "1149066  AMELIYA BAZHENOVA 2017-01-01        SU1143  ...  Moscow        SVO  NaN\n",
              "1005223       MIRON MAKEEV 2017-01-01        SU1145  ...  Moscow        SVO  NaN\n",
              "\n",
              "[5 rows x 8 columns]"
            ]
          },
          "metadata": {
            "tags": []
          },
          "execution_count": 32
        }
      ]
    },
    {
      "cell_type": "code",
      "metadata": {
        "id": "QuvvnkIEOxpk"
      },
      "source": [
        "def get_cross(record):\n",
        "    temp = for_check.apply(lambda x: len(record & x))\n",
        "    temp = temp[temp > 2]  # минимальное количество совместных полётов\n",
        "    temp = temp.reset_index()\n",
        "    temp = temp.agg(tuple, axis=1)\n",
        "    return list(temp)"
      ],
      "execution_count": null,
      "outputs": []
    },
    {
      "cell_type": "markdown",
      "metadata": {
        "id": "ocQ9YCCQNTte"
      },
      "source": [
        "* name : Tamara\n",
        "* flighs :\n",
        "* {Vitalina: {frozenset({Timestamp('2017-01-01 00:00:00'), 'AAQ', 'SVO'})}\n"
      ]
    },
    {
      "cell_type": "code",
      "metadata": {
        "id": "ZNxmhMMoLx2Z"
      },
      "source": [
        "temp = suspicious_statistic.set_index('name')[['date', 'airport_from', 'airport_to']].agg(frozenset, axis=1)\n",
        "for_check = temp.groupby('name').agg(set)"
      ],
      "execution_count": null,
      "outputs": []
    },
    {
      "cell_type": "code",
      "metadata": {
        "id": "bH01HafLQODh"
      },
      "source": [
        "super_df = for_check.apply(get_cross)"
      ],
      "execution_count": null,
      "outputs": []
    },
    {
      "cell_type": "code",
      "metadata": {
        "id": "7qIH0fOcaTNd"
      },
      "source": [
        "# Отсеивание записей где только полёт с самим собой пересечение с самим собой\n",
        "super_filtered_df = super_df[super_df.apply(lambda x: False if len(x) == 1 else True)]\n",
        "\n",
        "super_filtered_df = super_filtered_df.apply(lambda x: sorted(x, key = lambda a: a[1], reverse=True))"
      ],
      "execution_count": null,
      "outputs": []
    },
    {
      "cell_type": "code",
      "metadata": {
        "id": "gHa8w1bP4lMf"
      },
      "source": [
        "checked = set()\n",
        "\n",
        "records = []\n",
        "\n",
        "for name in super_filtered_df.index:\n",
        "    if name not in checked:\n",
        "        checked.add(name)\n",
        "        old_record = super_filtered_df[name]\n",
        "        ex_name = old_record[1][0]\n",
        "\n",
        "        ex_record = super_filtered_df[ex_name]  # запись потенциального дубликата\n",
        "        if old_record[1][1] == ex_record[1][1]:\n",
        "            # В качестве альтернативы ratio\n",
        "            if Levenshtein.distance(name, ex_name) < 3:\n",
        "                checked.add(ex_name)\n",
        "\n",
        "                res_record = {'name': name,\n",
        "                            'flights': []}\n",
        "                res_record['flights'].append((name, old_record[0][1] + ex_record[0][1]))\n",
        "                \n",
        "                flights = [(old_record[0])]\n",
        "\n",
        "                for i in range(2,len(old_record)):\n",
        "                    flights.append(old_record[i])\n",
        "                        \n",
        "                for i in range(2,len(ex_record)):\n",
        "                    for j in range(len(flights)):\n",
        "                        if flights[j][0] == ex_record[i][0]:  # Если запись была в полётах первой копии, то сложить\n",
        "                            flights[j] = (flights[j][0], flights[j][1] + ex_record[i][1])\n",
        "                            break\n",
        "                    else:  # если такой человек не летал с первой \"копией\", то добавить в массив\n",
        "                        flights.append(ex_record[i])\n",
        "\n",
        "                res_record['flights'] = flights\n",
        "\n",
        "                records.append(res_record)\n",
        "                continue\n",
        "        res_record = {'name': name,\n",
        "                      'flights': old_record}\n",
        "        records.append(res_record)\n",
        "    \n",
        "\n"
      ],
      "execution_count": null,
      "outputs": []
    },
    {
      "cell_type": "code",
      "metadata": {
        "id": "i6w5JL17-OG1"
      },
      "source": [
        "s = pd.DataFrame(records)\n",
        "s = s.set_index('name')\n",
        "# Удаление тех, у кого исчезли совместные полёты (летал только со своей копией)\n",
        "s = s[s.flights.apply(lambda x: False if len(x) == 1 else True)]"
      ],
      "execution_count": null,
      "outputs": []
    },
    {
      "cell_type": "code",
      "metadata": {
        "colab": {
          "base_uri": "https://localhost:8080/",
          "height": 450
        },
        "id": "xKuo8Ne_Kysh",
        "outputId": "ad5927a0-b716-49fc-fe56-4098fa77181f"
      },
      "source": [
        "s"
      ],
      "execution_count": null,
      "outputs": [
        {
          "output_type": "execute_result",
          "data": {
            "text/html": [
              "<div>\n",
              "<style scoped>\n",
              "    .dataframe tbody tr th:only-of-type {\n",
              "        vertical-align: middle;\n",
              "    }\n",
              "\n",
              "    .dataframe tbody tr th {\n",
              "        vertical-align: top;\n",
              "    }\n",
              "\n",
              "    .dataframe thead th {\n",
              "        text-align: right;\n",
              "    }\n",
              "</style>\n",
              "<table border=\"1\" class=\"dataframe\">\n",
              "  <thead>\n",
              "    <tr style=\"text-align: right;\">\n",
              "      <th></th>\n",
              "      <th>flights</th>\n",
              "    </tr>\n",
              "    <tr>\n",
              "      <th>name</th>\n",
              "      <th></th>\n",
              "    </tr>\n",
              "  </thead>\n",
              "  <tbody>\n",
              "    <tr>\n",
              "      <th>ADEL KOMAROV</th>\n",
              "      <td>[(ADEL KOMAROV, 92), (OKSANA BARANOVA, 3)]</td>\n",
              "    </tr>\n",
              "    <tr>\n",
              "      <th>ADEL KONSTANTINOV</th>\n",
              "      <td>[(ADEL KONSTANTINOV, 48), (MARSEL BELYAEV, 4)]</td>\n",
              "    </tr>\n",
              "    <tr>\n",
              "      <th>ADEL KOSHELEV</th>\n",
              "      <td>[(ADEL KOSHELEV, 60), (ROMAN FADEEV, 3)]</td>\n",
              "    </tr>\n",
              "    <tr>\n",
              "      <th>ADEL RUSAKOV</th>\n",
              "      <td>[(ADEL RUSAKOV, 72), (ANGELINA LOBANOVA, 3)]</td>\n",
              "    </tr>\n",
              "    <tr>\n",
              "      <th>ADEL SNEGIREV</th>\n",
              "      <td>[(ADEL SNEGIREV, 70), (KRISTINA MOISEEVA, 4), ...</td>\n",
              "    </tr>\n",
              "    <tr>\n",
              "      <th>...</th>\n",
              "      <td>...</td>\n",
              "    </tr>\n",
              "    <tr>\n",
              "      <th>ZARINA SOKOLOVA</th>\n",
              "      <td>[(ZARINA SOKOLOVA, 42), (RINAT SIZOV, 4), (BOG...</td>\n",
              "    </tr>\n",
              "    <tr>\n",
              "      <th>ZARINA TIMOFEEVA</th>\n",
              "      <td>[(ZARINA TIMOFEEVA, 53), (RADMIR VINOGRADOV, 3)]</td>\n",
              "    </tr>\n",
              "    <tr>\n",
              "      <th>ZLATA EFIMOVA</th>\n",
              "      <td>[(ZLATA EFIMOVA, 90), (RODION GROMOV, 3)]</td>\n",
              "    </tr>\n",
              "    <tr>\n",
              "      <th>ZLATA LOGINOVA</th>\n",
              "      <td>[(ZLATA LOGINOVA, 67), (MADINA RUDAKOVA, 3)]</td>\n",
              "    </tr>\n",
              "    <tr>\n",
              "      <th>ZLATA ZOTOVA</th>\n",
              "      <td>[(ZLATA ZOTOVA, 70), (FILIPP GLUSHKOV, 3)]</td>\n",
              "    </tr>\n",
              "  </tbody>\n",
              "</table>\n",
              "<p>916 rows × 1 columns</p>\n",
              "</div>"
            ],
            "text/plain": [
              "                                                             flights\n",
              "name                                                                \n",
              "ADEL KOMAROV              [(ADEL KOMAROV, 92), (OKSANA BARANOVA, 3)]\n",
              "ADEL KONSTANTINOV     [(ADEL KONSTANTINOV, 48), (MARSEL BELYAEV, 4)]\n",
              "ADEL KOSHELEV               [(ADEL KOSHELEV, 60), (ROMAN FADEEV, 3)]\n",
              "ADEL RUSAKOV            [(ADEL RUSAKOV, 72), (ANGELINA LOBANOVA, 3)]\n",
              "ADEL SNEGIREV      [(ADEL SNEGIREV, 70), (KRISTINA MOISEEVA, 4), ...\n",
              "...                                                              ...\n",
              "ZARINA SOKOLOVA    [(ZARINA SOKOLOVA, 42), (RINAT SIZOV, 4), (BOG...\n",
              "ZARINA TIMOFEEVA    [(ZARINA TIMOFEEVA, 53), (RADMIR VINOGRADOV, 3)]\n",
              "ZLATA EFIMOVA              [(ZLATA EFIMOVA, 90), (RODION GROMOV, 3)]\n",
              "ZLATA LOGINOVA          [(ZLATA LOGINOVA, 67), (MADINA RUDAKOVA, 3)]\n",
              "ZLATA ZOTOVA              [(ZLATA ZOTOVA, 70), (FILIPP GLUSHKOV, 3)]\n",
              "\n",
              "[916 rows x 1 columns]"
            ]
          },
          "metadata": {
            "tags": []
          },
          "execution_count": 46
        }
      ]
    },
    {
      "cell_type": "code",
      "metadata": {
        "id": "5EmlkNADIPhV"
      },
      "source": [
        "s.to_csv('qwe.csv')"
      ],
      "execution_count": null,
      "outputs": []
    },
    {
      "cell_type": "code",
      "metadata": {
        "colab": {
          "base_uri": "https://localhost:8080/",
          "height": 455
        },
        "id": "i2Xh9xqid9pH",
        "outputId": "60b54008-0e05-475a-a72c-6489968b2057"
      },
      "source": [
        "res_df.groupby('name').agg({'date' : ['count', 'min', 'max']}).reset_index().sort_values(by=('date', 'count'), ascending=False)"
      ],
      "execution_count": null,
      "outputs": [
        {
          "output_type": "execute_result",
          "data": {
            "text/html": [
              "<div>\n",
              "<style scoped>\n",
              "    .dataframe tbody tr th:only-of-type {\n",
              "        vertical-align: middle;\n",
              "    }\n",
              "\n",
              "    .dataframe tbody tr th {\n",
              "        vertical-align: top;\n",
              "    }\n",
              "\n",
              "    .dataframe thead tr th {\n",
              "        text-align: left;\n",
              "    }\n",
              "</style>\n",
              "<table border=\"1\" class=\"dataframe\">\n",
              "  <thead>\n",
              "    <tr>\n",
              "      <th></th>\n",
              "      <th>name</th>\n",
              "      <th colspan=\"3\" halign=\"left\">date</th>\n",
              "    </tr>\n",
              "    <tr>\n",
              "      <th></th>\n",
              "      <th></th>\n",
              "      <th>count</th>\n",
              "      <th>min</th>\n",
              "      <th>max</th>\n",
              "    </tr>\n",
              "  </thead>\n",
              "  <tbody>\n",
              "    <tr>\n",
              "      <th>138630</th>\n",
              "      <td>MARAT TITOV</td>\n",
              "      <td>179</td>\n",
              "      <td>2017-01-06 00:00:00</td>\n",
              "      <td>2017-12-29 00:00:00</td>\n",
              "    </tr>\n",
              "    <tr>\n",
              "      <th>24729</th>\n",
              "      <td>ARINA BOCHAROVA</td>\n",
              "      <td>174</td>\n",
              "      <td>2017-01-01 00:00:00</td>\n",
              "      <td>2017-12-29 00:00:00</td>\n",
              "    </tr>\n",
              "    <tr>\n",
              "      <th>180305</th>\n",
              "      <td>POLINA POPOVA</td>\n",
              "      <td>174</td>\n",
              "      <td>2017-01-01 14:30:00</td>\n",
              "      <td>2017-12-22 00:00:00</td>\n",
              "    </tr>\n",
              "    <tr>\n",
              "      <th>241374</th>\n",
              "      <td>VIKTOR MASLOV</td>\n",
              "      <td>171</td>\n",
              "      <td>2017-01-01 00:00:00</td>\n",
              "      <td>2017-12-29 00:00:00</td>\n",
              "    </tr>\n",
              "    <tr>\n",
              "      <th>22056</th>\n",
              "      <td>ANTON ANDRIANOV</td>\n",
              "      <td>167</td>\n",
              "      <td>2017-01-02 00:00:00</td>\n",
              "      <td>2017-12-29 00:00:00</td>\n",
              "    </tr>\n",
              "    <tr>\n",
              "      <th>...</th>\n",
              "      <td>...</td>\n",
              "      <td>...</td>\n",
              "      <td>...</td>\n",
              "      <td>...</td>\n",
              "    </tr>\n",
              "    <tr>\n",
              "      <th>2569</th>\n",
              "      <td>AGATA ISAKOVA</td>\n",
              "      <td>121</td>\n",
              "      <td>2017-01-01 00:00:00</td>\n",
              "      <td>2017-12-31 00:00:00</td>\n",
              "    </tr>\n",
              "    <tr>\n",
              "      <th>246831</th>\n",
              "      <td>VLADA SHUBINA</td>\n",
              "      <td>121</td>\n",
              "      <td>2017-01-04 00:00:00</td>\n",
              "      <td>2017-12-26 06:35:00</td>\n",
              "    </tr>\n",
              "    <tr>\n",
              "      <th>101962</th>\n",
              "      <td>KARINA OKULOVA</td>\n",
              "      <td>121</td>\n",
              "      <td>2017-01-02 00:00:00</td>\n",
              "      <td>2017-12-29 00:00:00</td>\n",
              "    </tr>\n",
              "    <tr>\n",
              "      <th>197073</th>\n",
              "      <td>SAVVA AVDEEV</td>\n",
              "      <td>121</td>\n",
              "      <td>2017-01-15 00:00:00</td>\n",
              "      <td>2017-12-31 15:55:00</td>\n",
              "    </tr>\n",
              "    <tr>\n",
              "      <th>101750</th>\n",
              "      <td>KARINA GLEBOVA</td>\n",
              "      <td>121</td>\n",
              "      <td>2017-01-03 00:00:00</td>\n",
              "      <td>2017-12-24 00:00:00</td>\n",
              "    </tr>\n",
              "  </tbody>\n",
              "</table>\n",
              "<p>100 rows × 4 columns</p>\n",
              "</div>"
            ],
            "text/plain": [
              "                   name  date                                        \n",
              "                        count                 min                 max\n",
              "138630      MARAT TITOV   179 2017-01-06 00:00:00 2017-12-29 00:00:00\n",
              "24729   ARINA BOCHAROVA   174 2017-01-01 00:00:00 2017-12-29 00:00:00\n",
              "180305    POLINA POPOVA   174 2017-01-01 14:30:00 2017-12-22 00:00:00\n",
              "241374    VIKTOR MASLOV   171 2017-01-01 00:00:00 2017-12-29 00:00:00\n",
              "22056   ANTON ANDRIANOV   167 2017-01-02 00:00:00 2017-12-29 00:00:00\n",
              "...                 ...   ...                 ...                 ...\n",
              "2569      AGATA ISAKOVA   121 2017-01-01 00:00:00 2017-12-31 00:00:00\n",
              "246831    VLADA SHUBINA   121 2017-01-04 00:00:00 2017-12-26 06:35:00\n",
              "101962   KARINA OKULOVA   121 2017-01-02 00:00:00 2017-12-29 00:00:00\n",
              "197073     SAVVA AVDEEV   121 2017-01-15 00:00:00 2017-12-31 15:55:00\n",
              "101750   KARINA GLEBOVA   121 2017-01-03 00:00:00 2017-12-24 00:00:00\n",
              "\n",
              "[100 rows x 4 columns]"
            ]
          },
          "metadata": {
            "tags": []
          },
          "execution_count": 74
        }
      ]
    },
    {
      "cell_type": "code",
      "metadata": {
        "colab": {
          "base_uri": "https://localhost:8080/",
          "height": 282
        },
        "id": "PlVYylEca2Ug",
        "outputId": "e5f23726-5cc8-45ac-e44f-017c5d42356f"
      },
      "source": [
        ""
      ],
      "execution_count": null,
      "outputs": [
        {
          "output_type": "execute_result",
          "data": {
            "text/plain": [
              "<matplotlib.axes._subplots.AxesSubplot at 0x7f3614127a10>"
            ]
          },
          "metadata": {
            "tags": []
          },
          "execution_count": 47
        },
        {
          "output_type": "display_data",
          "data": {
            "image/png": "[encoded data removed]",
            "text/plain": [
              "<Figure size 432x288 with 1 Axes>"
            ]
          },
          "metadata": {
            "tags": [],
            "needs_background": "light"
          }
        }
      ]
    },
    {
      "cell_type": "code",
      "metadata": {
        "id": "n4mWwou6hYY9"
      },
      "source": [
        "datetime.datetime(year=2007, month=1, day=1)"
      ],
      "execution_count": null,
      "outputs": []
    },
    {
      "cell_type": "code",
      "metadata": {
        "colab": {
          "base_uri": "https://localhost:8080/",
          "height": 282
        },
        "id": "OWI8mbZvggNO",
        "outputId": "77842e27-5162-42cd-ec55-25168e132c15"
      },
      "source": [
        "res_df.fillna(value=datetime.datetime(year=2007, month=1, day=1)).groupby('name').agg({'date' : 'count'}).date.hist()"
      ],
      "execution_count": null,
      "outputs": [
        {
          "output_type": "execute_result",
          "data": {
            "text/plain": [
              "<matplotlib.axes._subplots.AxesSubplot at 0x7f934fcf05d0>"
            ]
          },
          "metadata": {
            "tags": []
          },
          "execution_count": 78
        },
        {
          "output_type": "display_data",
          "data": {
            "image/png": "[encoded data removed]",
            "text/plain": [
              "<Figure size 432x288 with 1 Axes>"
            ]
          },
          "metadata": {
            "tags": [],
            "needs_background": "light"
          }
        }
      ]
    },
    {
      "cell_type": "code",
      "metadata": {
        "id": "rwPgkkEJh8l5"
      },
      "source": [
        "qwe = res_df.fillna(value=datetime.datetime(year=2007, month=1, day=1)).groupby('name').agg({'date' : 'count'})"
      ],
      "execution_count": null,
      "outputs": []
    },
    {
      "cell_type": "code",
      "metadata": {
        "colab": {
          "base_uri": "https://localhost:8080/"
        },
        "id": "XeclGp1wi9cO",
        "outputId": "37585271-98d0-43d7-d7ff-8aae665e5135"
      },
      "source": [
        "res_df.name.describe()  # 2483163"
      ],
      "execution_count": null,
      "outputs": [
        {
          "output_type": "execute_result",
          "data": {
            "text/plain": [
              "count         2483163\n",
              "unique         263966\n",
              "top       MARAT TITOV\n",
              "freq              191\n",
              "Name: name, dtype: object"
            ]
          },
          "metadata": {
            "tags": []
          },
          "execution_count": 90
        }
      ]
    },
    {
      "cell_type": "code",
      "metadata": {
        "colab": {
          "base_uri": "https://localhost:8080/"
        },
        "id": "SCGcpBTSiPiu",
        "outputId": "8b763dce-3ba3-46e5-badd-15b0c381842f"
      },
      "source": [
        "len(qwe[qwe['date'] <= 6])"
      ],
      "execution_count": null,
      "outputs": [
        {
          "output_type": "execute_result",
          "data": {
            "text/plain": [
              "188189"
            ]
          },
          "metadata": {
            "tags": []
          },
          "execution_count": 137
        }
      ]
    },
    {
      "cell_type": "code",
      "metadata": {
        "colab": {
          "base_uri": "https://localhost:8080/"
        },
        "id": "MhD5bm30l-zd",
        "outputId": "67325781-df58-4071-e199-d46db4a3390e"
      },
      "source": [
        "qwe.index"
      ],
      "execution_count": null,
      "outputs": [
        {
          "output_type": "execute_result",
          "data": {
            "text/plain": [
              "Index(['ABRAMOV AL'BERT', 'ABRAMOV ALEKSEI', 'ABRAMOV ALEXEY R',\n",
              "       'ABRAMOV ANATOLII', 'ABRAMOV ANATOLIY', 'ABRAMOV ANATOLIY M',\n",
              "       'ABRAMOV ANTON', 'ABRAMOV ARTEM', 'ABRAMOV ARTEM I', 'ABRAMOV ARTEM M',\n",
              "       ...\n",
              "       'ZYKOVA VITALINA I', 'ZYKOVA VITALINA P', 'ZYKOVA VITALINA V',\n",
              "       'ZYKOVA VLADA', 'ZYKOVA VLADA B', 'ZYKOVA VLADISLAVA',\n",
              "       'ZYKOVA YULIYA G', 'ZYKOVA ZARINA', 'ZYKOVA ZLATA', 'ZYKOVA ZLATA D'],\n",
              "      dtype='object', name='name', length=263966)"
            ]
          },
          "metadata": {
            "tags": []
          },
          "execution_count": 149
        }
      ]
    },
    {
      "cell_type": "code",
      "metadata": {
        "id": "ts4TMO8el57b"
      },
      "source": [
        "filtered_df = res_df[res_df.name.isin(qwe[qwe['date'] > 2])]"
      ],
      "execution_count": null,
      "outputs": []
    },
    {
      "cell_type": "code",
      "metadata": {
        "id": "8QH8k3HexAKX"
      },
      "source": [
        ""
      ],
      "execution_count": null,
      "outputs": []
    },
    {
      "cell_type": "code",
      "metadata": {
        "colab": {
          "base_uri": "https://localhost:8080/"
        },
        "id": "dsEBDfyonwqJ",
        "outputId": "9299b30f-1074-4a5d-8ad3-c30b691d1533"
      },
      "source": [
        "filtered_df.airport_from.isna()"
      ],
      "execution_count": null,
      "outputs": [
        {
          "output_type": "execute_result",
          "data": {
            "text/plain": [
              "148047"
            ]
          },
          "metadata": {
            "tags": []
          },
          "execution_count": 152
        }
      ]
    },
    {
      "cell_type": "code",
      "metadata": {
        "colab": {
          "base_uri": "https://localhost:8080/",
          "height": 455
        },
        "id": "3RYrRchDxBjA",
        "outputId": "1184b37b-dbd5-4671-f5b6-930a5e05be4b"
      },
      "source": [
        "qwe = filtered_df.groupby('flight_number').count()\n",
        "qwe[qwe.name < 2]"
      ],
      "execution_count": null,
      "outputs": [
        {
          "output_type": "execute_result",
          "data": {
            "text/html": [
              "<div>\n",
              "<style scoped>\n",
              "    .dataframe tbody tr th:only-of-type {\n",
              "        vertical-align: middle;\n",
              "    }\n",
              "\n",
              "    .dataframe tbody tr th {\n",
              "        vertical-align: top;\n",
              "    }\n",
              "\n",
              "    .dataframe thead th {\n",
              "        text-align: right;\n",
              "    }\n",
              "</style>\n",
              "<table border=\"1\" class=\"dataframe\">\n",
              "  <thead>\n",
              "    <tr style=\"text-align: right;\">\n",
              "      <th></th>\n",
              "      <th>name</th>\n",
              "      <th>date</th>\n",
              "      <th>city_from</th>\n",
              "      <th>airport_from</th>\n",
              "      <th>city_to</th>\n",
              "      <th>airport_to</th>\n",
              "      <th>fare</th>\n",
              "    </tr>\n",
              "    <tr>\n",
              "      <th>flight_number</th>\n",
              "      <th></th>\n",
              "      <th></th>\n",
              "      <th></th>\n",
              "      <th></th>\n",
              "      <th></th>\n",
              "      <th></th>\n",
              "      <th></th>\n",
              "    </tr>\n",
              "  </thead>\n",
              "  <tbody>\n",
              "    <tr>\n",
              "      <th>AF3568</th>\n",
              "      <td>1</td>\n",
              "      <td>1</td>\n",
              "      <td>1</td>\n",
              "      <td>1</td>\n",
              "      <td>1</td>\n",
              "      <td>1</td>\n",
              "      <td>0</td>\n",
              "    </tr>\n",
              "    <tr>\n",
              "      <th>AF3597</th>\n",
              "      <td>1</td>\n",
              "      <td>1</td>\n",
              "      <td>1</td>\n",
              "      <td>1</td>\n",
              "      <td>1</td>\n",
              "      <td>1</td>\n",
              "      <td>0</td>\n",
              "    </tr>\n",
              "    <tr>\n",
              "      <th>AF3617</th>\n",
              "      <td>1</td>\n",
              "      <td>1</td>\n",
              "      <td>1</td>\n",
              "      <td>1</td>\n",
              "      <td>1</td>\n",
              "      <td>1</td>\n",
              "      <td>0</td>\n",
              "    </tr>\n",
              "    <tr>\n",
              "      <th>AF3627</th>\n",
              "      <td>1</td>\n",
              "      <td>1</td>\n",
              "      <td>1</td>\n",
              "      <td>1</td>\n",
              "      <td>1</td>\n",
              "      <td>1</td>\n",
              "      <td>0</td>\n",
              "    </tr>\n",
              "    <tr>\n",
              "      <th>AF3631</th>\n",
              "      <td>1</td>\n",
              "      <td>1</td>\n",
              "      <td>1</td>\n",
              "      <td>1</td>\n",
              "      <td>1</td>\n",
              "      <td>1</td>\n",
              "      <td>0</td>\n",
              "    </tr>\n",
              "    <tr>\n",
              "      <th>...</th>\n",
              "      <td>...</td>\n",
              "      <td>...</td>\n",
              "      <td>...</td>\n",
              "      <td>...</td>\n",
              "      <td>...</td>\n",
              "      <td>...</td>\n",
              "      <td>...</td>\n",
              "    </tr>\n",
              "    <tr>\n",
              "      <th>MU9916</th>\n",
              "      <td>1</td>\n",
              "      <td>1</td>\n",
              "      <td>1</td>\n",
              "      <td>1</td>\n",
              "      <td>1</td>\n",
              "      <td>1</td>\n",
              "      <td>0</td>\n",
              "    </tr>\n",
              "    <tr>\n",
              "      <th>SV1806</th>\n",
              "      <td>1</td>\n",
              "      <td>1</td>\n",
              "      <td>1</td>\n",
              "      <td>1</td>\n",
              "      <td>1</td>\n",
              "      <td>1</td>\n",
              "      <td>0</td>\n",
              "    </tr>\n",
              "    <tr>\n",
              "      <th>SV20</th>\n",
              "      <td>1</td>\n",
              "      <td>1</td>\n",
              "      <td>1</td>\n",
              "      <td>1</td>\n",
              "      <td>1</td>\n",
              "      <td>1</td>\n",
              "      <td>0</td>\n",
              "    </tr>\n",
              "    <tr>\n",
              "      <th>SV2503</th>\n",
              "      <td>1</td>\n",
              "      <td>1</td>\n",
              "      <td>1</td>\n",
              "      <td>1</td>\n",
              "      <td>1</td>\n",
              "      <td>1</td>\n",
              "      <td>0</td>\n",
              "    </tr>\n",
              "    <tr>\n",
              "      <th>VN3796</th>\n",
              "      <td>1</td>\n",
              "      <td>1</td>\n",
              "      <td>1</td>\n",
              "      <td>1</td>\n",
              "      <td>1</td>\n",
              "      <td>1</td>\n",
              "      <td>0</td>\n",
              "    </tr>\n",
              "  </tbody>\n",
              "</table>\n",
              "<p>402 rows × 7 columns</p>\n",
              "</div>"
            ],
            "text/plain": [
              "               name  date  city_from  airport_from  city_to  airport_to  fare\n",
              "flight_number                                                                \n",
              "AF3568            1     1          1             1        1           1     0\n",
              "AF3597            1     1          1             1        1           1     0\n",
              "AF3617            1     1          1             1        1           1     0\n",
              "AF3627            1     1          1             1        1           1     0\n",
              "AF3631            1     1          1             1        1           1     0\n",
              "...             ...   ...        ...           ...      ...         ...   ...\n",
              "MU9916            1     1          1             1        1           1     0\n",
              "SV1806            1     1          1             1        1           1     0\n",
              "SV20              1     1          1             1        1           1     0\n",
              "SV2503            1     1          1             1        1           1     0\n",
              "VN3796            1     1          1             1        1           1     0\n",
              "\n",
              "[402 rows x 7 columns]"
            ]
          },
          "metadata": {
            "tags": []
          },
          "execution_count": 166
        }
      ]
    },
    {
      "cell_type": "code",
      "metadata": {
        "colab": {
          "base_uri": "https://localhost:8080/"
        },
        "id": "uGqgARPdx-6X",
        "outputId": "03fe6fcd-e961-4700-ee4b-bc36f0de0059"
      },
      "source": [
        "filtered_df.flight_number.nunique()"
      ],
      "execution_count": null,
      "outputs": [
        {
          "output_type": "execute_result",
          "data": {
            "text/plain": [
              "23852"
            ]
          },
          "metadata": {
            "tags": []
          },
          "execution_count": 165
        }
      ]
    },
    {
      "cell_type": "code",
      "metadata": {
        "colab": {
          "base_uri": "https://localhost:8080/",
          "height": 455
        },
        "id": "hLzoWiWaklWP",
        "outputId": "9f9faf23-14eb-4abe-ee97-0c0b7c80dbd7"
      },
      "source": [
        "filtered_df.groupby(['date', 'flight_number']).count().sort_values('name', ascending=False)"
      ],
      "execution_count": null,
      "outputs": [
        {
          "output_type": "execute_result",
          "data": {
            "text/html": [
              "<div>\n",
              "<style scoped>\n",
              "    .dataframe tbody tr th:only-of-type {\n",
              "        vertical-align: middle;\n",
              "    }\n",
              "\n",
              "    .dataframe tbody tr th {\n",
              "        vertical-align: top;\n",
              "    }\n",
              "\n",
              "    .dataframe thead th {\n",
              "        text-align: right;\n",
              "    }\n",
              "</style>\n",
              "<table border=\"1\" class=\"dataframe\">\n",
              "  <thead>\n",
              "    <tr style=\"text-align: right;\">\n",
              "      <th></th>\n",
              "      <th></th>\n",
              "      <th>name</th>\n",
              "      <th>city_from</th>\n",
              "      <th>airport_from</th>\n",
              "      <th>city_to</th>\n",
              "      <th>airport_to</th>\n",
              "      <th>fare</th>\n",
              "    </tr>\n",
              "    <tr>\n",
              "      <th>date</th>\n",
              "      <th>flight_number</th>\n",
              "      <th></th>\n",
              "      <th></th>\n",
              "      <th></th>\n",
              "      <th></th>\n",
              "      <th></th>\n",
              "      <th></th>\n",
              "    </tr>\n",
              "  </thead>\n",
              "  <tbody>\n",
              "    <tr>\n",
              "      <th rowspan=\"5\" valign=\"top\">2017-01-01</th>\n",
              "      <th>SU1491</th>\n",
              "      <td>56</td>\n",
              "      <td>56</td>\n",
              "      <td>56</td>\n",
              "      <td>56</td>\n",
              "      <td>56</td>\n",
              "      <td>0</td>\n",
              "    </tr>\n",
              "    <tr>\n",
              "      <th>VN64</th>\n",
              "      <td>52</td>\n",
              "      <td>52</td>\n",
              "      <td>52</td>\n",
              "      <td>52</td>\n",
              "      <td>52</td>\n",
              "      <td>0</td>\n",
              "    </tr>\n",
              "    <tr>\n",
              "      <th>SU4606</th>\n",
              "      <td>47</td>\n",
              "      <td>47</td>\n",
              "      <td>47</td>\n",
              "      <td>47</td>\n",
              "      <td>47</td>\n",
              "      <td>0</td>\n",
              "    </tr>\n",
              "    <tr>\n",
              "      <th>SU4600</th>\n",
              "      <td>44</td>\n",
              "      <td>44</td>\n",
              "      <td>44</td>\n",
              "      <td>44</td>\n",
              "      <td>44</td>\n",
              "      <td>0</td>\n",
              "    </tr>\n",
              "    <tr>\n",
              "      <th>SU1459</th>\n",
              "      <td>43</td>\n",
              "      <td>43</td>\n",
              "      <td>43</td>\n",
              "      <td>43</td>\n",
              "      <td>43</td>\n",
              "      <td>0</td>\n",
              "    </tr>\n",
              "    <tr>\n",
              "      <th>...</th>\n",
              "      <th>...</th>\n",
              "      <td>...</td>\n",
              "      <td>...</td>\n",
              "      <td>...</td>\n",
              "      <td>...</td>\n",
              "      <td>...</td>\n",
              "      <td>...</td>\n",
              "    </tr>\n",
              "    <tr>\n",
              "      <th rowspan=\"4\" valign=\"top\">2017-06-02</th>\n",
              "      <th>DL2558</th>\n",
              "      <td>1</td>\n",
              "      <td>1</td>\n",
              "      <td>1</td>\n",
              "      <td>1</td>\n",
              "      <td>1</td>\n",
              "      <td>0</td>\n",
              "    </tr>\n",
              "    <tr>\n",
              "      <th>DL2480</th>\n",
              "      <td>1</td>\n",
              "      <td>1</td>\n",
              "      <td>1</td>\n",
              "      <td>1</td>\n",
              "      <td>1</td>\n",
              "      <td>0</td>\n",
              "    </tr>\n",
              "    <tr>\n",
              "      <th>DL2464</th>\n",
              "      <td>1</td>\n",
              "      <td>1</td>\n",
              "      <td>1</td>\n",
              "      <td>1</td>\n",
              "      <td>1</td>\n",
              "      <td>0</td>\n",
              "    </tr>\n",
              "    <tr>\n",
              "      <th>DL2453</th>\n",
              "      <td>1</td>\n",
              "      <td>1</td>\n",
              "      <td>1</td>\n",
              "      <td>1</td>\n",
              "      <td>1</td>\n",
              "      <td>0</td>\n",
              "    </tr>\n",
              "    <tr>\n",
              "      <th>2018-01-01</th>\n",
              "      <th>VN931</th>\n",
              "      <td>1</td>\n",
              "      <td>1</td>\n",
              "      <td>1</td>\n",
              "      <td>1</td>\n",
              "      <td>1</td>\n",
              "      <td>0</td>\n",
              "    </tr>\n",
              "  </tbody>\n",
              "</table>\n",
              "<p>390992 rows × 6 columns</p>\n",
              "</div>"
            ],
            "text/plain": [
              "                          name  city_from  ...  airport_to  fare\n",
              "date       flight_number                   ...                  \n",
              "2017-01-01 SU1491           56         56  ...          56     0\n",
              "           VN64             52         52  ...          52     0\n",
              "           SU4606           47         47  ...          47     0\n",
              "           SU4600           44         44  ...          44     0\n",
              "           SU1459           43         43  ...          43     0\n",
              "...                        ...        ...  ...         ...   ...\n",
              "2017-06-02 DL2558            1          1  ...           1     0\n",
              "           DL2480            1          1  ...           1     0\n",
              "           DL2464            1          1  ...           1     0\n",
              "           DL2453            1          1  ...           1     0\n",
              "2018-01-01 VN931             1          1  ...           1     0\n",
              "\n",
              "[390992 rows x 6 columns]"
            ]
          },
          "metadata": {
            "tags": []
          },
          "execution_count": 158
        }
      ]
    },
    {
      "cell_type": "code",
      "metadata": {
        "id": "BSeh-Ll1xvQL"
      },
      "source": [
        ""
      ],
      "execution_count": null,
      "outputs": []
    },
    {
      "cell_type": "code",
      "metadata": {
        "colab": {
          "base_uri": "https://localhost:8080/",
          "height": 597
        },
        "id": "kE4BeA9ni1cw",
        "outputId": "8b5d41c5-9a2f-4aaa-ea61-8d3fbf22f20b"
      },
      "source": [
        "res_df.sort_values(by=['flight_number', 'date'])"
      ],
      "execution_count": null,
      "outputs": [
        {
          "output_type": "execute_result",
          "data": {
            "text/html": [
              "<div>\n",
              "<style scoped>\n",
              "    .dataframe tbody tr th:only-of-type {\n",
              "        vertical-align: middle;\n",
              "    }\n",
              "\n",
              "    .dataframe tbody tr th {\n",
              "        vertical-align: top;\n",
              "    }\n",
              "\n",
              "    .dataframe thead th {\n",
              "        text-align: right;\n",
              "    }\n",
              "</style>\n",
              "<table border=\"1\" class=\"dataframe\">\n",
              "  <thead>\n",
              "    <tr style=\"text-align: right;\">\n",
              "      <th></th>\n",
              "      <th>name</th>\n",
              "      <th>date</th>\n",
              "      <th>flight_number</th>\n",
              "      <th>city_from</th>\n",
              "      <th>airport_from</th>\n",
              "      <th>city_to</th>\n",
              "      <th>airport_to</th>\n",
              "      <th>fare</th>\n",
              "    </tr>\n",
              "  </thead>\n",
              "  <tbody>\n",
              "    <tr>\n",
              "      <th>300019</th>\n",
              "      <td>ALINA ARTAMONOVA</td>\n",
              "      <td>2017-02-28 00:00:00</td>\n",
              "      <td>AF10</td>\n",
              "      <td>Paris</td>\n",
              "      <td>CDG</td>\n",
              "      <td>New York NY</td>\n",
              "      <td>JFK</td>\n",
              "      <td>NaN</td>\n",
              "    </tr>\n",
              "    <tr>\n",
              "      <th>1227034</th>\n",
              "      <td>SEMEN VOROB'EV</td>\n",
              "      <td>2017-03-05 00:00:00</td>\n",
              "      <td>AF10</td>\n",
              "      <td>Paris</td>\n",
              "      <td>CDG</td>\n",
              "      <td>New York NY</td>\n",
              "      <td>JFK</td>\n",
              "      <td>NaN</td>\n",
              "    </tr>\n",
              "    <tr>\n",
              "      <th>1090678</th>\n",
              "      <td>YURIY KOLESNIKOV</td>\n",
              "      <td>2017-04-12 00:00:00</td>\n",
              "      <td>AF10</td>\n",
              "      <td>Paris</td>\n",
              "      <td>CDG</td>\n",
              "      <td>New York NY</td>\n",
              "      <td>JFK</td>\n",
              "      <td>NaN</td>\n",
              "    </tr>\n",
              "    <tr>\n",
              "      <th>896039</th>\n",
              "      <td>ALEXEY KASATKIN</td>\n",
              "      <td>2017-05-21 00:00:00</td>\n",
              "      <td>AF10</td>\n",
              "      <td>Paris</td>\n",
              "      <td>CDG</td>\n",
              "      <td>New York NY</td>\n",
              "      <td>JFK</td>\n",
              "      <td>NaN</td>\n",
              "    </tr>\n",
              "    <tr>\n",
              "      <th>636727</th>\n",
              "      <td>ROSTISLAV BYCHKOV</td>\n",
              "      <td>2017-05-26 00:00:00</td>\n",
              "      <td>AF10</td>\n",
              "      <td>Paris</td>\n",
              "      <td>CDG</td>\n",
              "      <td>New York NY</td>\n",
              "      <td>JFK</td>\n",
              "      <td>NaN</td>\n",
              "    </tr>\n",
              "    <tr>\n",
              "      <th>...</th>\n",
              "      <td>...</td>\n",
              "      <td>...</td>\n",
              "      <td>...</td>\n",
              "      <td>...</td>\n",
              "      <td>...</td>\n",
              "      <td>...</td>\n",
              "      <td>...</td>\n",
              "      <td>...</td>\n",
              "    </tr>\n",
              "    <tr>\n",
              "      <th>444799</th>\n",
              "      <td>SAMIR NIKULIN</td>\n",
              "      <td>2018-01-01 23:35:00</td>\n",
              "      <td>NaN</td>\n",
              "      <td>PARIS</td>\n",
              "      <td>CDG</td>\n",
              "      <td>RIO DE JANEIRO</td>\n",
              "      <td>GIG</td>\n",
              "      <td>Y</td>\n",
              "    </tr>\n",
              "    <tr>\n",
              "      <th>444828</th>\n",
              "      <td>IAROMIR BASHIROV</td>\n",
              "      <td>2018-01-01 23:35:00</td>\n",
              "      <td>NaN</td>\n",
              "      <td>ROME</td>\n",
              "      <td>FCO</td>\n",
              "      <td>MOSCOW</td>\n",
              "      <td>SVO</td>\n",
              "      <td>Y</td>\n",
              "    </tr>\n",
              "    <tr>\n",
              "      <th>444998</th>\n",
              "      <td>SHISHKINA AMINA</td>\n",
              "      <td>2018-01-01 23:50:00</td>\n",
              "      <td>NaN</td>\n",
              "      <td>JEDDAH</td>\n",
              "      <td>JED</td>\n",
              "      <td>CASABLANCA</td>\n",
              "      <td>CMN</td>\n",
              "      <td>P</td>\n",
              "    </tr>\n",
              "    <tr>\n",
              "      <th>443982</th>\n",
              "      <td>YAN L PAVLOVSKIY</td>\n",
              "      <td>2018-01-01 23:55:00</td>\n",
              "      <td>NaN</td>\n",
              "      <td>SAINT PETERSBURG</td>\n",
              "      <td>LED</td>\n",
              "      <td>MOSCOW</td>\n",
              "      <td>SVO</td>\n",
              "      <td>Y</td>\n",
              "    </tr>\n",
              "    <tr>\n",
              "      <th>443999</th>\n",
              "      <td>YAROMIR Y EVSEEV</td>\n",
              "      <td>2018-01-01 23:55:00</td>\n",
              "      <td>NaN</td>\n",
              "      <td>SAINT PETERSBURG</td>\n",
              "      <td>LED</td>\n",
              "      <td>KALININGRAD</td>\n",
              "      <td>KGD</td>\n",
              "      <td>Y</td>\n",
              "    </tr>\n",
              "  </tbody>\n",
              "</table>\n",
              "<p>2483163 rows × 8 columns</p>\n",
              "</div>"
            ],
            "text/plain": [
              "                      name                date  ... airport_to fare\n",
              "300019    ALINA ARTAMONOVA 2017-02-28 00:00:00  ...        JFK  NaN\n",
              "1227034     SEMEN VOROB'EV 2017-03-05 00:00:00  ...        JFK  NaN\n",
              "1090678   YURIY KOLESNIKOV 2017-04-12 00:00:00  ...        JFK  NaN\n",
              "896039     ALEXEY KASATKIN 2017-05-21 00:00:00  ...        JFK  NaN\n",
              "636727   ROSTISLAV BYCHKOV 2017-05-26 00:00:00  ...        JFK  NaN\n",
              "...                    ...                 ...  ...        ...  ...\n",
              "444799       SAMIR NIKULIN 2018-01-01 23:35:00  ...        GIG    Y\n",
              "444828    IAROMIR BASHIROV 2018-01-01 23:35:00  ...        SVO    Y\n",
              "444998     SHISHKINA AMINA 2018-01-01 23:50:00  ...        CMN    P\n",
              "443982    YAN L PAVLOVSKIY 2018-01-01 23:55:00  ...        SVO    Y\n",
              "443999    YAROMIR Y EVSEEV 2018-01-01 23:55:00  ...        KGD    Y\n",
              "\n",
              "[2483163 rows x 8 columns]"
            ]
          },
          "metadata": {
            "tags": []
          },
          "execution_count": 85
        }
      ]
    },
    {
      "cell_type": "code",
      "metadata": {
        "colab": {
          "base_uri": "https://localhost:8080/",
          "height": 424
        },
        "id": "AqW2s3b3ecgs",
        "outputId": "d5422c92-3bfd-45a3-94dd-63e3252a1189"
      },
      "source": [
        "res_df[res_df.name == 'MARAT TITOV'].sort_values(by=['name', 'date'])"
      ],
      "execution_count": null,
      "outputs": [
        {
          "output_type": "execute_result",
          "data": {
            "text/html": [
              "<div>\n",
              "<style scoped>\n",
              "    .dataframe tbody tr th:only-of-type {\n",
              "        vertical-align: middle;\n",
              "    }\n",
              "\n",
              "    .dataframe tbody tr th {\n",
              "        vertical-align: top;\n",
              "    }\n",
              "\n",
              "    .dataframe thead th {\n",
              "        text-align: right;\n",
              "    }\n",
              "</style>\n",
              "<table border=\"1\" class=\"dataframe\">\n",
              "  <thead>\n",
              "    <tr style=\"text-align: right;\">\n",
              "      <th></th>\n",
              "      <th>name</th>\n",
              "      <th>date</th>\n",
              "      <th>flight_number</th>\n",
              "      <th>city_from</th>\n",
              "      <th>airport_from</th>\n",
              "      <th>city_to</th>\n",
              "      <th>airport_to</th>\n",
              "      <th>fare</th>\n",
              "    </tr>\n",
              "  </thead>\n",
              "  <tbody>\n",
              "    <tr>\n",
              "      <th>458649</th>\n",
              "      <td>MARAT TITOV</td>\n",
              "      <td>2017-01-06 00:00:00</td>\n",
              "      <td>SU5652</td>\n",
              "      <td>Khabarovsk</td>\n",
              "      <td>KHV</td>\n",
              "      <td>Irkutsk</td>\n",
              "      <td>IKT</td>\n",
              "      <td>NaN</td>\n",
              "    </tr>\n",
              "    <tr>\n",
              "      <th>113442</th>\n",
              "      <td>MARAT TITOV</td>\n",
              "      <td>2017-01-06 00:00:00</td>\n",
              "      <td>NaN</td>\n",
              "      <td>NaN</td>\n",
              "      <td>VOZ</td>\n",
              "      <td>NaN</td>\n",
              "      <td>SVO</td>\n",
              "      <td>YFLXTY</td>\n",
              "    </tr>\n",
              "    <tr>\n",
              "      <th>128697</th>\n",
              "      <td>MARAT TITOV</td>\n",
              "      <td>2017-01-06 00:00:00</td>\n",
              "      <td>NaN</td>\n",
              "      <td>NaN</td>\n",
              "      <td>KHV</td>\n",
              "      <td>NaN</td>\n",
              "      <td>IKT</td>\n",
              "      <td>YGRPJO</td>\n",
              "    </tr>\n",
              "    <tr>\n",
              "      <th>277718</th>\n",
              "      <td>MARAT TITOV</td>\n",
              "      <td>2017-01-06 21:40:00</td>\n",
              "      <td>NaN</td>\n",
              "      <td>KHABAROVSK</td>\n",
              "      <td>KHV</td>\n",
              "      <td>IRKUTSK</td>\n",
              "      <td>IKT</td>\n",
              "      <td>Y</td>\n",
              "    </tr>\n",
              "    <tr>\n",
              "      <th>458654</th>\n",
              "      <td>MARAT TITOV</td>\n",
              "      <td>2017-01-09 00:00:00</td>\n",
              "      <td>SU1441</td>\n",
              "      <td>Irkutsk</td>\n",
              "      <td>IKT</td>\n",
              "      <td>Moscow</td>\n",
              "      <td>SVO</td>\n",
              "      <td>NaN</td>\n",
              "    </tr>\n",
              "    <tr>\n",
              "      <th>...</th>\n",
              "      <td>...</td>\n",
              "      <td>...</td>\n",
              "      <td>...</td>\n",
              "      <td>...</td>\n",
              "      <td>...</td>\n",
              "      <td>...</td>\n",
              "      <td>...</td>\n",
              "      <td>...</td>\n",
              "    </tr>\n",
              "    <tr>\n",
              "      <th>96596</th>\n",
              "      <td>MARAT TITOV</td>\n",
              "      <td>NaT</td>\n",
              "      <td>SU1491</td>\n",
              "      <td>NaN</td>\n",
              "      <td>NaN</td>\n",
              "      <td>Moscow</td>\n",
              "      <td>NaN</td>\n",
              "      <td>NaN</td>\n",
              "    </tr>\n",
              "    <tr>\n",
              "      <th>125781</th>\n",
              "      <td>MARAT TITOV</td>\n",
              "      <td>NaT</td>\n",
              "      <td>SU1373</td>\n",
              "      <td>NaN</td>\n",
              "      <td>NaN</td>\n",
              "      <td>Moscow</td>\n",
              "      <td>NaN</td>\n",
              "      <td>NaN</td>\n",
              "    </tr>\n",
              "    <tr>\n",
              "      <th>128460</th>\n",
              "      <td>MARAT TITOV</td>\n",
              "      <td>NaT</td>\n",
              "      <td>SU1441</td>\n",
              "      <td>NaN</td>\n",
              "      <td>NaN</td>\n",
              "      <td>Moscow</td>\n",
              "      <td>NaN</td>\n",
              "      <td>NaN</td>\n",
              "    </tr>\n",
              "    <tr>\n",
              "      <th>131320</th>\n",
              "      <td>MARAT TITOV</td>\n",
              "      <td>NaT</td>\n",
              "      <td>SU1162</td>\n",
              "      <td>NaN</td>\n",
              "      <td>NaN</td>\n",
              "      <td>Rostov</td>\n",
              "      <td>NaN</td>\n",
              "      <td>NaN</td>\n",
              "    </tr>\n",
              "    <tr>\n",
              "      <th>141123</th>\n",
              "      <td>MARAT TITOV</td>\n",
              "      <td>NaT</td>\n",
              "      <td>SU1274</td>\n",
              "      <td>NaN</td>\n",
              "      <td>NaN</td>\n",
              "      <td>Krasnodar</td>\n",
              "      <td>NaN</td>\n",
              "      <td>NaN</td>\n",
              "    </tr>\n",
              "  </tbody>\n",
              "</table>\n",
              "<p>191 rows × 8 columns</p>\n",
              "</div>"
            ],
            "text/plain": [
              "               name                date  ... airport_to    fare\n",
              "458649  MARAT TITOV 2017-01-06 00:00:00  ...        IKT     NaN\n",
              "113442  MARAT TITOV 2017-01-06 00:00:00  ...        SVO  YFLXTY\n",
              "128697  MARAT TITOV 2017-01-06 00:00:00  ...        IKT  YGRPJO\n",
              "277718  MARAT TITOV 2017-01-06 21:40:00  ...        IKT       Y\n",
              "458654  MARAT TITOV 2017-01-09 00:00:00  ...        SVO     NaN\n",
              "...             ...                 ...  ...        ...     ...\n",
              "96596   MARAT TITOV                 NaT  ...        NaN     NaN\n",
              "125781  MARAT TITOV                 NaT  ...        NaN     NaN\n",
              "128460  MARAT TITOV                 NaT  ...        NaN     NaN\n",
              "131320  MARAT TITOV                 NaT  ...        NaN     NaN\n",
              "141123  MARAT TITOV                 NaT  ...        NaN     NaN\n",
              "\n",
              "[191 rows x 8 columns]"
            ]
          },
          "metadata": {
            "tags": []
          },
          "execution_count": 62
        }
      ]
    },
    {
      "cell_type": "markdown",
      "metadata": {
        "id": "9V_cCJkflGj8"
      },
      "source": [
        "## Тест гипотез"
      ]
    },
    {
      "cell_type": "code",
      "metadata": {
        "colab": {
          "base_uri": "https://localhost:8080/"
        },
        "id": "3sXWWPlU8afJ",
        "outputId": "70baa6fc-6c84-485f-b6c6-572595220681"
      },
      "source": [
        "sirena_exp_df.PaxAdditionalInfo.unique()  # можно отсечь с младенцами"
      ],
      "execution_count": null,
      "outputs": [
        {
          "output_type": "execute_result",
          "data": {
            "text/plain": [
              "array(['S', '9', 'F', '#', nan, '8', '7', '2', 'Assistance Required6',\n",
              "       '6', '4', 'Assistance Required2', 'E', 'Assistance RequiredF', '0',\n",
              "       '3', 'Assistance Required', '1', 'Assistance Required#', 'U', 'K',\n",
              "       '5', 'D', 'Travel with infant', 'B', 'Assistance Required3', 'T',\n",
              "       'Travel with infant2', 'Travel with infantF',\n",
              "       'Travel with infant9', 'Assistance Required7',\n",
              "       'Assistance Required4', 'Assistance Required1',\n",
              "       'Assistance RequiredB', 'Assistance Required8',\n",
              "       'Assistance RequiredU', 'Travel with infant#',\n",
              "       'Travel with infant3', 'Assistance Required9',\n",
              "       'Assistance Required5', 'Assistance Required0',\n",
              "       'Assistance RequiredS', 'Assistance RequiredD',\n",
              "       'Assistance RequiredE', 'Travel with infant6',\n",
              "       'Assistance RequiredK', 'Travel with infant4',\n",
              "       'Travel with infant0', 'Assistance RequiredT',\n",
              "       'Travel with infant8', 'Travel with infantD',\n",
              "       'Travel with infant5', 'Travel with infantS',\n",
              "       'Travel with infant7', 'Travel with infantB',\n",
              "       'Travel with infant1', 'Travel with infantE',\n",
              "       'Travel with infantT', 'Travel with infantU'], dtype=object)"
            ]
          },
          "metadata": {
            "tags": []
          },
          "execution_count": 20
        }
      ]
    },
    {
      "cell_type": "code",
      "metadata": {
        "colab": {
          "base_uri": "https://localhost:8080/"
        },
        "id": "2hlRdTQ-T8Yt",
        "outputId": "161615ba-8f4a-4876-fd2e-81850a817287"
      },
      "source": [
        "sum(sirena_exp_df.PaxAdditionalInfo == 'Assistance Required7')"
      ],
      "execution_count": null,
      "outputs": [
        {
          "output_type": "execute_result",
          "data": {
            "text/plain": [
              "84"
            ]
          },
          "metadata": {
            "tags": []
          },
          "execution_count": 29
        }
      ]
    },
    {
      "cell_type": "code",
      "metadata": {
        "id": "3GZF6KfMTcEB"
      },
      "source": [
        "c = sirena_exp_df[(\n",
        "              (sirena_exp_df.PaxAdditionalInfo.str.startswith('Assistance Required')) |\n",
        "              (sirena_exp_df.PaxAdditionalInfo.str.startswith('Travel with infant'))\n",
        "              )].card"
      ],
      "execution_count": null,
      "outputs": []
    },
    {
      "cell_type": "code",
      "metadata": {
        "colab": {
          "base_uri": "https://localhost:8080/"
        },
        "id": "S-eGd1ASSDTf",
        "outputId": "7c8fac55-08ca-4ac8-e51f-d5e4aca846a6"
      },
      "source": [
        "sirena_exp_df['card'].dropna()"
      ],
      "execution_count": null,
      "outputs": [
        {
          "output_type": "execute_result",
          "data": {
            "text/plain": [
              "0          FF 38116280\n",
              "1         FF 284903754\n",
              "3         FF 884556993\n",
              "4         FF 183142068\n",
              "5         FF 553284496\n",
              "              ...     \n",
              "155736    FF 331396957\n",
              "155742    FF 724472352\n",
              "155753    FF 261604825\n",
              "155754    FF 902862806\n",
              "155756    FF 520710243\n",
              "Name: card, Length: 51917, dtype: object"
            ]
          },
          "metadata": {
            "tags": []
          },
          "execution_count": 25
        }
      ]
    },
    {
      "cell_type": "code",
      "metadata": {
        "colab": {
          "base_uri": "https://localhost:8080/"
        },
        "id": "g0MUuQakNmzu",
        "outputId": "5890163d-4171-4910-a3a1-7fa8969eb6d9"
      },
      "source": [
        "z.apply(translit, language_code='ru', reversed = True).str.upper().apply(lambda x: ' '.join(x.split()[-2::-1]))"
      ],
      "execution_count": null,
      "outputs": [
        {
          "output_type": "execute_result",
          "data": {
            "text/plain": [
              "0               IL'DAR OZEROV\n",
              "1               SAMIR KOLOSOV\n",
              "2           SNEZHANA IGNATOVA\n",
              "3               PLATON ZHAROV\n",
              "4          NIKOLAJ NIKOL'SKIJ\n",
              "                 ...         \n",
              "155752    MIROSLAV EMEL'JANOV\n",
              "155753        ARTEMIJ TARASOV\n",
              "155754          BORIS GOROHOV\n",
              "155755        RAMIL' DOROFEEV\n",
              "155756    VARVARA SHAPOVALOVA\n",
              "Name: PaxName, Length: 155757, dtype: object"
            ]
          },
          "metadata": {
            "tags": []
          },
          "execution_count": 61
        }
      ]
    },
    {
      "cell_type": "code",
      "metadata": {
        "colab": {
          "base_uri": "https://localhost:8080/",
          "height": 135
        },
        "id": "d_31CHXxOd1H",
        "outputId": "b2e98026-940c-499b-d284-c103b8e0f71e"
      },
      "source": [
        "# sk_exchange_df.fare.isin(['FORFAIT', 'IT']))"
      ],
      "execution_count": null,
      "outputs": [
        {
          "output_type": "error",
          "ename": "SyntaxError",
          "evalue": "ignored",
          "traceback": [
            "\u001b[0;36m  File \u001b[0;32m\"<ipython-input-23-810c26fb2b6a>\"\u001b[0;36m, line \u001b[0;32m1\u001b[0m\n\u001b[0;31m    sk_exchange_df.fare.isin(['FORFAIT', 'IT']))\u001b[0m\n\u001b[0m                                               ^\u001b[0m\n\u001b[0;31mSyntaxError\u001b[0m\u001b[0;31m:\u001b[0m invalid syntax\n"
          ]
        }
      ]
    },
    {
      "cell_type": "code",
      "metadata": {
        "id": "KIbMN6RFOn8P"
      },
      "source": [
        "sk_exchange_df.fare.unique()"
      ],
      "execution_count": null,
      "outputs": []
    },
    {
      "cell_type": "code",
      "metadata": {
        "id": "LhIqxu2YIu2Z"
      },
      "source": [
        "sk_exchange_df[sk_exchange_df.flight=CZ4301]"
      ],
      "execution_count": null,
      "outputs": []
    },
    {
      "cell_type": "code",
      "metadata": {
        "id": "BR7t4GBkLl1m"
      },
      "source": [
        "point_agg_df[point_agg_df]"
      ],
      "execution_count": null,
      "outputs": []
    },
    {
      "cell_type": "code",
      "metadata": {
        "id": "-q66IvYuQ988"
      },
      "source": [
        "board_pass_df['date'] = pd.to_datetime(board_pass_df['date'])"
      ],
      "execution_count": null,
      "outputs": []
    },
    {
      "cell_type": "code",
      "metadata": {
        "id": "Yvaa_fmPQEHj"
      },
      "source": [
        "board_pass_df.merge(point_agg_df, left_on=['name', 'date'], \n",
        "                    right_on = [point_agg_df['first_name'] + ' ' + point_agg_df['last_name'],\n",
        "                                'activity_date']).head()"
      ],
      "execution_count": null,
      "outputs": []
    },
    {
      "cell_type": "code",
      "metadata": {
        "id": "7Rv-gapaQPeK"
      },
      "source": [
        "point_agg_df.activity_date"
      ],
      "execution_count": null,
      "outputs": []
    },
    {
      "cell_type": "code",
      "metadata": {
        "id": "XoPpSOLiQfJb"
      },
      "source": [
        "pd.to_datetime(board_pass_df.date)"
      ],
      "execution_count": null,
      "outputs": []
    },
    {
      "cell_type": "code",
      "metadata": {
        "colab": {
          "base_uri": "https://localhost:8080/"
        },
        "id": "gk4ygt4h9rj8",
        "outputId": "57cf66e4-9385-4fb3-dba6-df108c235234"
      },
      "source": [
        "sk_timetable_df.Flight"
      ],
      "execution_count": null,
      "outputs": [
        {
          "output_type": "execute_result",
          "data": {
            "text/plain": [
              "0         KL1328\n",
              "1         KL1334\n",
              "2         KL1336\n",
              "3         KL1336\n",
              "4         KL1336\n",
              "           ...  \n",
              "212006    CZ6702\n",
              "212007    MF8540\n",
              "212008    MF8544\n",
              "212009    MF8539\n",
              "212010    MF8543\n",
              "Name: Flight, Length: 212011, dtype: object"
            ]
          },
          "metadata": {
            "tags": []
          },
          "execution_count": 135
        }
      ]
    },
    {
      "cell_type": "code",
      "metadata": {
        "colab": {
          "base_uri": "https://localhost:8080/"
        },
        "id": "TfFt3d3P9qNb",
        "outputId": "bcdce6d6-1d14-49da-ca88-fae28a1be945"
      },
      "source": [
        "sk_timetable_df.columns"
      ],
      "execution_count": null,
      "outputs": [
        {
          "output_type": "execute_result",
          "data": {
            "text/plain": [
              "Index(['Validity', 'Days', 'Dep_Time', 'Arr_Time', 'Flight', 'Aircraft',\n",
              "       'Travel_Time', 'city_from', 'country_from', 'airport_from', 'city_to',\n",
              "       'country_to', 'airport_to'],\n",
              "      dtype='object')"
            ]
          },
          "metadata": {
            "tags": []
          },
          "execution_count": 138
        }
      ]
    },
    {
      "cell_type": "markdown",
      "metadata": {
        "id": "zLliZC0Ja3Ir"
      },
      "source": [
        "# Сизифов труд"
      ]
    },
    {
      "cell_type": "code",
      "metadata": {
        "id": "BXQAFr_qO0sY"
      },
      "source": [
        "date_time_str = '18 Nov 19'\n",
        "\n",
        "date_time_obj = datetime.strptime(date_time_str, '%d %b %y')\n",
        "\n",
        "\n",
        "print( \"The type of the date is now\",  type(date_time_obj))\n",
        "print( \"The date is\", date_time_obj)"
      ],
      "execution_count": null,
      "outputs": []
    },
    {
      "cell_type": "code",
      "metadata": {
        "id": "HuWZ6NefO5F3"
      },
      "source": [
        "res_with_fligts_df = res_df.merge(sk_timetable_df, left_on=['city_from', 'city_to','airport_from','airport_to'], \n",
        "                    right_on = ['city_from', 'city_to','airport_from','airport_to'])\n",
        "res_with_fligts_df = res_with_fligts_df.drop(columns=[ 'Days', 'Dep_Time', 'Arr_Time',\n",
        "        'Travel_Time', 'country_from', 'country_to'])"
      ],
      "execution_count": null,
      "outputs": []
    },
    {
      "cell_type": "code",
      "metadata": {
        "id": "4NbiESwkQKCX"
      },
      "source": [
        "def get_fly_try(x):\n",
        "    try:\n",
        "        x = x.replace('.1', '')\n",
        "        a = datetime.datetime.strptime(f'{x.split(\"-\")[0]} 17', '%d %b %y')\n",
        "        b = datetime.datetime.strptime(f'{x.split(\"-\")[1]} 17', ' %d %b %y')\n",
        "        if a > b:\n",
        "            b = datetime.datetime.strptime(f'{x.split(\"-\")[1]} 18', ' %d %b %y')\n",
        "        q = {'start_flight': a,\n",
        "             'end_flight': b}\n",
        "    except Exception as e:\n",
        "\n",
        "        print(f'{e}  with {x}')\n",
        "        q = datetime.datetime(year=1092, day=1, month=1)\n",
        "        q = datetime.datetime(year=1092, day=1, month=1)\n",
        "        q = {'start_flight': q,\n",
        "             'end_flight': q}\n",
        "    return q"
      ],
      "execution_count": null,
      "outputs": []
    },
    {
      "cell_type": "code",
      "metadata": {
        "id": "cfi8ARFPO7bo"
      },
      "source": [
        "qwe = res_with_fligts_df.Validity.apply(get_fly_try)"
      ],
      "execution_count": null,
      "outputs": []
    },
    {
      "cell_type": "code",
      "metadata": {
        "id": "o_a00Nq3XqcG"
      },
      "source": [
        "temp = pd.DataFrame(list(qwe))"
      ],
      "execution_count": null,
      "outputs": []
    },
    {
      "cell_type": "code",
      "metadata": {
        "colab": {
          "base_uri": "https://localhost:8080/",
          "height": 617
        },
        "id": "3LjokykAZE3x",
        "outputId": "fa5b5c35-b310-4681-acc0-e3fb5906f9a6"
      },
      "source": [
        "pd.concat([sk_timetable_df, temp], axis=1)"
      ],
      "execution_count": null,
      "outputs": [
        {
          "output_type": "execute_result",
          "data": {
            "text/html": [
              "<div>\n",
              "<style scoped>\n",
              "    .dataframe tbody tr th:only-of-type {\n",
              "        vertical-align: middle;\n",
              "    }\n",
              "\n",
              "    .dataframe tbody tr th {\n",
              "        vertical-align: top;\n",
              "    }\n",
              "\n",
              "    .dataframe thead th {\n",
              "        text-align: right;\n",
              "    }\n",
              "</style>\n",
              "<table border=\"1\" class=\"dataframe\">\n",
              "  <thead>\n",
              "    <tr style=\"text-align: right;\">\n",
              "      <th></th>\n",
              "      <th>Validity</th>\n",
              "      <th>Days</th>\n",
              "      <th>Dep_Time</th>\n",
              "      <th>Arr_Time</th>\n",
              "      <th>Flight</th>\n",
              "      <th>Aircraft</th>\n",
              "      <th>Travel_Time</th>\n",
              "      <th>city_from</th>\n",
              "      <th>country_from</th>\n",
              "      <th>airport_from</th>\n",
              "      <th>city_to</th>\n",
              "      <th>country_to</th>\n",
              "      <th>airport_to</th>\n",
              "      <th>start_flight</th>\n",
              "      <th>end_flight</th>\n",
              "    </tr>\n",
              "  </thead>\n",
              "  <tbody>\n",
              "    <tr>\n",
              "      <th>0</th>\n",
              "      <td>01 Nov  -  31 Jan</td>\n",
              "      <td>1234567</td>\n",
              "      <td>06:00</td>\n",
              "      <td>07:25</td>\n",
              "      <td>KL1328</td>\n",
              "      <td>73W</td>\n",
              "      <td>1H25M</td>\n",
              "      <td>Aalborg</td>\n",
              "      <td>Denmark</td>\n",
              "      <td>AA</td>\n",
              "      <td>Amsterdam</td>\n",
              "      <td>Netherlands</td>\n",
              "      <td>AMS</td>\n",
              "      <td>2018-11-03 00:00:00</td>\n",
              "      <td>2018-01-26 00:00:00</td>\n",
              "    </tr>\n",
              "    <tr>\n",
              "      <th>1</th>\n",
              "      <td>01 Nov  -  31 Jan</td>\n",
              "      <td>1234567</td>\n",
              "      <td>12:10</td>\n",
              "      <td>13:35</td>\n",
              "      <td>KL1334</td>\n",
              "      <td>73W</td>\n",
              "      <td>1H25M</td>\n",
              "      <td>Aalborg</td>\n",
              "      <td>Denmark</td>\n",
              "      <td>AA</td>\n",
              "      <td>Amsterdam</td>\n",
              "      <td>Netherlands</td>\n",
              "      <td>AMS</td>\n",
              "      <td>2018-11-06 00:00:00</td>\n",
              "      <td>2018-01-15 00:00:00</td>\n",
              "    </tr>\n",
              "    <tr>\n",
              "      <th>2</th>\n",
              "      <td>01 Nov  -  23 Dec</td>\n",
              "      <td>1234567</td>\n",
              "      <td>18:15</td>\n",
              "      <td>19:35</td>\n",
              "      <td>KL1336</td>\n",
              "      <td>EQV</td>\n",
              "      <td>1H20M</td>\n",
              "      <td>Aalborg</td>\n",
              "      <td>Denmark</td>\n",
              "      <td>AA</td>\n",
              "      <td>Amsterdam</td>\n",
              "      <td>Netherlands</td>\n",
              "      <td>AMS</td>\n",
              "      <td>2018-11-03 00:00:00</td>\n",
              "      <td>2018-01-26 00:00:00</td>\n",
              "    </tr>\n",
              "    <tr>\n",
              "      <th>3</th>\n",
              "      <td>26 Dec  -  06 Jan</td>\n",
              "      <td>1  34567</td>\n",
              "      <td>18:15</td>\n",
              "      <td>19:35</td>\n",
              "      <td>KL1336</td>\n",
              "      <td>EQV</td>\n",
              "      <td>1H20M</td>\n",
              "      <td>Aalborg</td>\n",
              "      <td>Denmark</td>\n",
              "      <td>AA</td>\n",
              "      <td>Amsterdam</td>\n",
              "      <td>Netherlands</td>\n",
              "      <td>AMS</td>\n",
              "      <td>2018-11-06 00:00:00</td>\n",
              "      <td>2018-01-15 00:00:00</td>\n",
              "    </tr>\n",
              "    <tr>\n",
              "      <th>4</th>\n",
              "      <td>07 Jan  -  31 Jan</td>\n",
              "      <td>1234567</td>\n",
              "      <td>18:15</td>\n",
              "      <td>19:35</td>\n",
              "      <td>KL1336</td>\n",
              "      <td>EQV</td>\n",
              "      <td>1H20M</td>\n",
              "      <td>Aalborg</td>\n",
              "      <td>Denmark</td>\n",
              "      <td>AA</td>\n",
              "      <td>Amsterdam</td>\n",
              "      <td>Netherlands</td>\n",
              "      <td>AMS</td>\n",
              "      <td>2018-11-03 00:00:00</td>\n",
              "      <td>2018-01-26 00:00:00</td>\n",
              "    </tr>\n",
              "    <tr>\n",
              "      <th>...</th>\n",
              "      <td>...</td>\n",
              "      <td>...</td>\n",
              "      <td>...</td>\n",
              "      <td>...</td>\n",
              "      <td>...</td>\n",
              "      <td>...</td>\n",
              "      <td>...</td>\n",
              "      <td>...</td>\n",
              "      <td>...</td>\n",
              "      <td>...</td>\n",
              "      <td>...</td>\n",
              "      <td>...</td>\n",
              "      <td>...</td>\n",
              "      <td>...</td>\n",
              "      <td>...</td>\n",
              "    </tr>\n",
              "    <tr>\n",
              "      <th>212006</th>\n",
              "      <td>01 Nov  -  31 Jan</td>\n",
              "      <td>5</td>\n",
              "      <td>17:30</td>\n",
              "      <td>19:10</td>\n",
              "      <td>CZ6702</td>\n",
              "      <td>EQV</td>\n",
              "      <td>1H40M</td>\n",
              "      <td>Lianyungang</td>\n",
              "      <td>China</td>\n",
              "      <td>LY</td>\n",
              "      <td>Zhoushan</td>\n",
              "      <td>China</td>\n",
              "      <td>HSN</td>\n",
              "      <td>NaN</td>\n",
              "      <td>NaN</td>\n",
              "    </tr>\n",
              "    <tr>\n",
              "      <th>212007</th>\n",
              "      <td>01 Nov  -  31 Jan</td>\n",
              "      <td>1234567</td>\n",
              "      <td>09:15</td>\n",
              "      <td>10:50</td>\n",
              "      <td>MF8540</td>\n",
              "      <td>738</td>\n",
              "      <td>1H35M</td>\n",
              "      <td>Zhoushan</td>\n",
              "      <td>China</td>\n",
              "      <td>HSN</td>\n",
              "      <td>Quanzhou</td>\n",
              "      <td>China</td>\n",
              "      <td>JJN</td>\n",
              "      <td>NaN</td>\n",
              "      <td>NaN</td>\n",
              "    </tr>\n",
              "    <tr>\n",
              "      <th>212008</th>\n",
              "      <td>01 Nov  -  31 Jan</td>\n",
              "      <td>1234567</td>\n",
              "      <td>10:15</td>\n",
              "      <td>11:50</td>\n",
              "      <td>MF8544</td>\n",
              "      <td>738</td>\n",
              "      <td>1H35M</td>\n",
              "      <td>Zhoushan</td>\n",
              "      <td>China</td>\n",
              "      <td>HSN</td>\n",
              "      <td>Quanzhou</td>\n",
              "      <td>China</td>\n",
              "      <td>JJN</td>\n",
              "      <td>NaN</td>\n",
              "      <td>NaN</td>\n",
              "    </tr>\n",
              "    <tr>\n",
              "      <th>212009</th>\n",
              "      <td>01 Nov  -  31 Jan</td>\n",
              "      <td>1234567</td>\n",
              "      <td>06:50</td>\n",
              "      <td>08:15</td>\n",
              "      <td>MF8539</td>\n",
              "      <td>738</td>\n",
              "      <td>1H25M</td>\n",
              "      <td>Quanzhou</td>\n",
              "      <td>China</td>\n",
              "      <td>JJN</td>\n",
              "      <td>Zhoushan</td>\n",
              "      <td>China</td>\n",
              "      <td>HSN</td>\n",
              "      <td>NaN</td>\n",
              "      <td>NaN</td>\n",
              "    </tr>\n",
              "    <tr>\n",
              "      <th>212010</th>\n",
              "      <td>01 Nov  -  31 Jan</td>\n",
              "      <td>1234567</td>\n",
              "      <td>07:55</td>\n",
              "      <td>09:25</td>\n",
              "      <td>MF8543</td>\n",
              "      <td>738</td>\n",
              "      <td>1H30M</td>\n",
              "      <td>Quanzhou</td>\n",
              "      <td>China</td>\n",
              "      <td>JJN</td>\n",
              "      <td>Zhoushan</td>\n",
              "      <td>China</td>\n",
              "      <td>HSN</td>\n",
              "      <td>NaN</td>\n",
              "      <td>NaN</td>\n",
              "    </tr>\n",
              "  </tbody>\n",
              "</table>\n",
              "<p>212011 rows × 15 columns</p>\n",
              "</div>"
            ],
            "text/plain": [
              "                 Validity      Days  ...         start_flight           end_flight\n",
              "0       01 Nov  -  31 Jan   1234567  ...  2018-11-03 00:00:00  2018-01-26 00:00:00\n",
              "1       01 Nov  -  31 Jan   1234567  ...  2018-11-06 00:00:00  2018-01-15 00:00:00\n",
              "2       01 Nov  -  23 Dec   1234567  ...  2018-11-03 00:00:00  2018-01-26 00:00:00\n",
              "3       26 Dec  -  06 Jan  1  34567  ...  2018-11-06 00:00:00  2018-01-15 00:00:00\n",
              "4       07 Jan  -  31 Jan   1234567  ...  2018-11-03 00:00:00  2018-01-26 00:00:00\n",
              "...                   ...       ...  ...                  ...                  ...\n",
              "212006  01 Nov  -  31 Jan         5  ...                  NaN                  NaN\n",
              "212007  01 Nov  -  31 Jan   1234567  ...                  NaN                  NaN\n",
              "212008  01 Nov  -  31 Jan   1234567  ...                  NaN                  NaN\n",
              "212009  01 Nov  -  31 Jan   1234567  ...                  NaN                  NaN\n",
              "212010  01 Nov  -  31 Jan   1234567  ...                  NaN                  NaN\n",
              "\n",
              "[212011 rows x 15 columns]"
            ]
          },
          "metadata": {
            "tags": []
          },
          "execution_count": 178
        }
      ]
    }
  ]
}