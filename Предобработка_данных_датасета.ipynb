{
  "nbformat": 4,
  "nbformat_minor": 0,
  "metadata": {
    "colab": {
      "name": "Предобработка данных датасета.ipynb",
      "provenance": [],
      "collapsed_sections": [],
      "toc_visible": true
    },
    "kernelspec": {
      "name": "python3",
      "display_name": "Python 3"
    },
    "language_info": {
      "name": "python"
    }
  },
  "cells": [
    {
      "cell_type": "markdown",
      "metadata": {
        "id": "9oLYJjSHsCOf"
      },
      "source": [
        "# JSON FrequentFlyerForum-Profiles"
      ]
    },
    {
      "cell_type": "code",
      "metadata": {
        "id": "xRCjwiaumK6q"
      },
      "source": [
        "from pydrive.auth import GoogleAuth\n",
        "from pydrive.drive import GoogleDrive\n",
        "from google.colab import auth\n",
        "from oauth2client.client import GoogleCredentials\n",
        "\n",
        "auth.authenticate_user()\n",
        "gauth = GoogleAuth()\n",
        "gauth.credentials = GoogleCredentials.get_application_default()\n",
        "drive = GoogleDrive(gauth)"
      ],
      "execution_count": null,
      "outputs": []
    },
    {
      "cell_type": "code",
      "metadata": {
        "id": "Tt8Do2cqoawq"
      },
      "source": [
        "import pandas as pd\n",
        "import json"
      ],
      "execution_count": null,
      "outputs": []
    },
    {
      "cell_type": "code",
      "metadata": {
        "id": "yQc6v3yNq8cD"
      },
      "source": [
        "# Download a file based on its file ID.\n",
        "file_id = '1rgUsPEkpNriRvdGF7ve7NKvTpHPWKizp'\n",
        "downloaded = drive.CreateFile({'id': file_id})\n",
        "downloaded.GetContentFile('FrequentFlyerForum-Profiles.json')"
      ],
      "execution_count": null,
      "outputs": []
    },
    {
      "cell_type": "code",
      "metadata": {
        "id": "cm32jXEwlKAM"
      },
      "source": [
        "with open('/content/FrequentFlyerForum-Profiles.json') as f: \n",
        "    q = json.load(f)"
      ],
      "execution_count": null,
      "outputs": []
    },
    {
      "cell_type": "code",
      "metadata": {
        "id": "V6hZjuh7tkLO",
        "colab": {
          "base_uri": "https://localhost:8080/"
        },
        "outputId": "7d3e1be4-da79-4fb1-fbf8-3c15c05c4ef2"
      },
      "source": [
        "len(q)  # Словарь из одного элемента, в котором по ключу 'Forum Profiles' лежит список"
      ],
      "execution_count": null,
      "outputs": [
        {
          "output_type": "execute_result",
          "data": {
            "text/plain": [
              "1"
            ]
          },
          "metadata": {
            "tags": []
          },
          "execution_count": 27
        }
      ]
    },
    {
      "cell_type": "code",
      "metadata": {
        "id": "bkgDStBCmFfg",
        "colab": {
          "base_uri": "https://localhost:8080/",
          "height": 204
        },
        "outputId": "b3dbb8d9-62a8-4d0e-e059-2b7c3c892723"
      },
      "source": [
        "df = pd.DataFrame(q['Forum Profiles'])\n",
        "df.head()"
      ],
      "execution_count": null,
      "outputs": [
        {
          "output_type": "execute_result",
          "data": {
            "text/html": [
              "<div>\n",
              "<style scoped>\n",
              "    .dataframe tbody tr th:only-of-type {\n",
              "        vertical-align: middle;\n",
              "    }\n",
              "\n",
              "    .dataframe tbody tr th {\n",
              "        vertical-align: top;\n",
              "    }\n",
              "\n",
              "    .dataframe thead th {\n",
              "        text-align: right;\n",
              "    }\n",
              "</style>\n",
              "<table border=\"1\" class=\"dataframe\">\n",
              "  <thead>\n",
              "    <tr style=\"text-align: right;\">\n",
              "      <th></th>\n",
              "      <th>Registered Flights</th>\n",
              "      <th>NickName</th>\n",
              "      <th>Travel Documents</th>\n",
              "      <th>Sex</th>\n",
              "      <th>Loyality Programm</th>\n",
              "      <th>Real Name</th>\n",
              "    </tr>\n",
              "  </thead>\n",
              "  <tbody>\n",
              "    <tr>\n",
              "      <th>0</th>\n",
              "      <td>[{'Date': '2017-03-04', 'Codeshare': False, 'A...</td>\n",
              "      <td>FrequentFlyer0</td>\n",
              "      <td>[{'Passports': None}]</td>\n",
              "      <td>Male</td>\n",
              "      <td>[{'Status': 'Basic', 'programm': 'KE', 'Number...</td>\n",
              "      <td>{'Last Name': None, 'First Name': None}</td>\n",
              "    </tr>\n",
              "    <tr>\n",
              "      <th>1</th>\n",
              "      <td>[{'Date': '2017-08-31', 'Codeshare': True, 'Ar...</td>\n",
              "      <td>FrequentFlyer2</td>\n",
              "      <td>[{'Passports': None}]</td>\n",
              "      <td>Male</td>\n",
              "      <td>[{'Status': 'Basic', 'programm': 'SU', 'Number...</td>\n",
              "      <td>{'Last Name': 'ZYKOV', 'First Name': 'NAZAR'}</td>\n",
              "    </tr>\n",
              "    <tr>\n",
              "      <th>2</th>\n",
              "      <td>[{'Date': '2017-09-15', 'Codeshare': True, 'Ar...</td>\n",
              "      <td>FrequentFlyer4</td>\n",
              "      <td>[{'Passports': None}]</td>\n",
              "      <td>None</td>\n",
              "      <td>[{'Status': 'Elite', 'programm': 'SU', 'Number...</td>\n",
              "      <td>{'Last Name': None, 'First Name': None}</td>\n",
              "    </tr>\n",
              "    <tr>\n",
              "      <th>3</th>\n",
              "      <td>[{'Date': '2017-09-18', 'Codeshare': True, 'Ar...</td>\n",
              "      <td>FrequentFlyer5</td>\n",
              "      <td>[{'Passports': None}]</td>\n",
              "      <td>None</td>\n",
              "      <td>[{'Status': 'Elite+', 'programm': 'FB', 'Numbe...</td>\n",
              "      <td>{'Last Name': None, 'First Name': None}</td>\n",
              "    </tr>\n",
              "    <tr>\n",
              "      <th>4</th>\n",
              "      <td>[{'Date': '2017-08-15', 'Codeshare': False, 'A...</td>\n",
              "      <td>FrequentFlyer6</td>\n",
              "      <td>[{'Passports': None}]</td>\n",
              "      <td>Male</td>\n",
              "      <td>[{'Status': 'Basic', 'programm': 'SU', 'Number...</td>\n",
              "      <td>{'Last Name': 'D'YAKOV', 'First Name': 'RUSLAN'}</td>\n",
              "    </tr>\n",
              "  </tbody>\n",
              "</table>\n",
              "</div>"
            ],
            "text/plain": [
              "                                  Registered Flights  ...                                         Real Name\n",
              "0  [{'Date': '2017-03-04', 'Codeshare': False, 'A...  ...           {'Last Name': None, 'First Name': None}\n",
              "1  [{'Date': '2017-08-31', 'Codeshare': True, 'Ar...  ...     {'Last Name': 'ZYKOV', 'First Name': 'NAZAR'}\n",
              "2  [{'Date': '2017-09-15', 'Codeshare': True, 'Ar...  ...           {'Last Name': None, 'First Name': None}\n",
              "3  [{'Date': '2017-09-18', 'Codeshare': True, 'Ar...  ...           {'Last Name': None, 'First Name': None}\n",
              "4  [{'Date': '2017-08-15', 'Codeshare': False, 'A...  ...  {'Last Name': 'D'YAKOV', 'First Name': 'RUSLAN'}\n",
              "\n",
              "[5 rows x 6 columns]"
            ]
          },
          "metadata": {
            "tags": []
          },
          "execution_count": 28
        }
      ]
    },
    {
      "cell_type": "code",
      "metadata": {
        "colab": {
          "base_uri": "https://localhost:8080/"
        },
        "id": "ok4WI9wGKnSB",
        "outputId": "f18a1baa-12a5-4665-a8ce-d28dd2ab66c1"
      },
      "source": [
        "df['Travel Documents'].transform(str).unique()  # Ни у кого не указан паспорт, атрибут можно удалить"
      ],
      "execution_count": null,
      "outputs": [
        {
          "output_type": "execute_result",
          "data": {
            "text/plain": [
              "array([\"[{'Passports': None}]\"], dtype=object)"
            ]
          },
          "metadata": {
            "tags": []
          },
          "execution_count": 56
        }
      ]
    },
    {
      "cell_type": "code",
      "metadata": {
        "colab": {
          "base_uri": "https://localhost:8080/"
        },
        "id": "tg2JsTIlNKNF",
        "outputId": "31156adc-3283-4121-e0ea-a890683b2477"
      },
      "source": [
        "df['Loyality Programm'][1]"
      ],
      "execution_count": null,
      "outputs": [
        {
          "output_type": "execute_result",
          "data": {
            "text/plain": [
              "[{'Number': ' 658121632', 'Status': 'Basic', 'programm': 'SU'},\n",
              " {'Number': ' 356246372', 'Status': 'Elite+', 'programm': 'DT'},\n",
              " {'Number': ' 388423193', 'Status': 'Basic', 'programm': 'KE'}]"
            ]
          },
          "metadata": {
            "tags": []
          },
          "execution_count": 65
        }
      ]
    },
    {
      "cell_type": "code",
      "metadata": {
        "id": "VXvncuXXMNk-"
      },
      "source": [
        "clear_df = df.drop(columns=['Travel Documents', 'Real Name', 'Loyality Programm'])"
      ],
      "execution_count": null,
      "outputs": []
    },
    {
      "cell_type": "code",
      "metadata": {
        "colab": {
          "base_uri": "https://localhost:8080/"
        },
        "id": "EGGQvvMeN5kU",
        "outputId": "93991043-783c-4f8f-cc9f-70ed537e2ece"
      },
      "source": [
        "df.NickName.transform(lambda x: x[:13]).unique()\n",
        "# Никнеймы все уникальны, можно использовать как индекс с учётом статичности данных можно выбрать часть с числом"
      ],
      "execution_count": null,
      "outputs": [
        {
          "output_type": "execute_result",
          "data": {
            "text/plain": [
              "array(['FrequentFlyer'], dtype=object)"
            ]
          },
          "metadata": {
            "tags": []
          },
          "execution_count": 34
        }
      ]
    },
    {
      "cell_type": "code",
      "metadata": {
        "id": "9k-vk7lQPfy3"
      },
      "source": [
        "clear_df['NickName'] = df.NickName.transform(lambda x: int(x[13:]))\n",
        "clear_df.set_index('NickName', inplace=True)"
      ],
      "execution_count": null,
      "outputs": []
    },
    {
      "cell_type": "code",
      "metadata": {
        "id": "sA5sgPXjmPvf"
      },
      "source": [
        "clear_df['First Name'] = df['Real Name'].transform(lambda x: x['First Name'])\n",
        "clear_df['Last Name'] = df['Real Name'].transform(lambda x: x['Last Name'])"
      ],
      "execution_count": null,
      "outputs": []
    },
    {
      "cell_type": "code",
      "metadata": {
        "colab": {
          "base_uri": "https://localhost:8080/",
          "height": 235
        },
        "id": "QKC5zPbGMHrQ",
        "outputId": "f278ca5b-b815-48e0-e186-dd8594b94cee"
      },
      "source": [
        "clear_df.head()"
      ],
      "execution_count": null,
      "outputs": [
        {
          "output_type": "execute_result",
          "data": {
            "text/html": [
              "<div>\n",
              "<style scoped>\n",
              "    .dataframe tbody tr th:only-of-type {\n",
              "        vertical-align: middle;\n",
              "    }\n",
              "\n",
              "    .dataframe tbody tr th {\n",
              "        vertical-align: top;\n",
              "    }\n",
              "\n",
              "    .dataframe thead th {\n",
              "        text-align: right;\n",
              "    }\n",
              "</style>\n",
              "<table border=\"1\" class=\"dataframe\">\n",
              "  <thead>\n",
              "    <tr style=\"text-align: right;\">\n",
              "      <th></th>\n",
              "      <th>Registered Flights</th>\n",
              "      <th>Sex</th>\n",
              "      <th>First Name</th>\n",
              "      <th>Last Name</th>\n",
              "    </tr>\n",
              "    <tr>\n",
              "      <th>NickName</th>\n",
              "      <th></th>\n",
              "      <th></th>\n",
              "      <th></th>\n",
              "      <th></th>\n",
              "    </tr>\n",
              "  </thead>\n",
              "  <tbody>\n",
              "    <tr>\n",
              "      <th>0</th>\n",
              "      <td>[{'Date': '2017-03-04', 'Codeshare': False, 'A...</td>\n",
              "      <td>Male</td>\n",
              "      <td>None</td>\n",
              "      <td>None</td>\n",
              "    </tr>\n",
              "    <tr>\n",
              "      <th>2</th>\n",
              "      <td>[{'Date': '2017-08-31', 'Codeshare': True, 'Ar...</td>\n",
              "      <td>Male</td>\n",
              "      <td>None</td>\n",
              "      <td>None</td>\n",
              "    </tr>\n",
              "    <tr>\n",
              "      <th>4</th>\n",
              "      <td>[{'Date': '2017-09-15', 'Codeshare': True, 'Ar...</td>\n",
              "      <td>None</td>\n",
              "      <td>RUSLAN</td>\n",
              "      <td>D'YAKOV</td>\n",
              "    </tr>\n",
              "    <tr>\n",
              "      <th>5</th>\n",
              "      <td>[{'Date': '2017-09-18', 'Codeshare': True, 'Ar...</td>\n",
              "      <td>None</td>\n",
              "      <td>None</td>\n",
              "      <td>None</td>\n",
              "    </tr>\n",
              "    <tr>\n",
              "      <th>6</th>\n",
              "      <td>[{'Date': '2017-08-15', 'Codeshare': False, 'A...</td>\n",
              "      <td>Male</td>\n",
              "      <td>None</td>\n",
              "      <td>None</td>\n",
              "    </tr>\n",
              "  </tbody>\n",
              "</table>\n",
              "</div>"
            ],
            "text/plain": [
              "                                         Registered Flights  ... Last Name\n",
              "NickName                                                     ...          \n",
              "0         [{'Date': '2017-03-04', 'Codeshare': False, 'A...  ...      None\n",
              "2         [{'Date': '2017-08-31', 'Codeshare': True, 'Ar...  ...      None\n",
              "4         [{'Date': '2017-09-15', 'Codeshare': True, 'Ar...  ...   D'YAKOV\n",
              "5         [{'Date': '2017-09-18', 'Codeshare': True, 'Ar...  ...      None\n",
              "6         [{'Date': '2017-08-15', 'Codeshare': False, 'A...  ...      None\n",
              "\n",
              "[5 rows x 4 columns]"
            ]
          },
          "metadata": {
            "tags": []
          },
          "execution_count": 37
        }
      ]
    },
    {
      "cell_type": "code",
      "metadata": {
        "id": "kF0RILwQmUNr"
      },
      "source": [
        "R_F_df = clear_df['Registered Flights'].reset_index()"
      ],
      "execution_count": null,
      "outputs": []
    },
    {
      "cell_type": "code",
      "metadata": {
        "id": "tQj5OKHZQzqV"
      },
      "source": [
        "r_f = []\n",
        "for NickName, row in R_F_df.iterrows():\n",
        "    for flight in row['Registered Flights']:\n",
        "        r_f.append({'NickName': NickName,\n",
        "                    'Arrival_Airport': flight['Arrival']['Airport'],\n",
        "                    'Arrival_City': flight['Arrival']['City'],\n",
        "                    'Arrival_Country': flight['Arrival']['Country'],\n",
        "                    'Departure_Airport': flight['Departure']['Airport'],\n",
        "                    'Departure_City': flight['Departure']['City'],\n",
        "                    'Departure_Country': flight['Departure']['Country'],\n",
        "                    'Date': flight['Date'],\n",
        "                    'Codeshare': flight['Codeshare'],\n",
        "                    'Flight': flight['Flight'],\n",
        "                    })"
      ],
      "execution_count": null,
      "outputs": []
    },
    {
      "cell_type": "code",
      "metadata": {
        "id": "LVBEVf6zSomq"
      },
      "source": [
        "res_df = pd.DataFrame(r_f)"
      ],
      "execution_count": null,
      "outputs": []
    },
    {
      "cell_type": "code",
      "metadata": {
        "id": "Nd0ZyltdW5Yj"
      },
      "source": [
        "merge_df = clear_df[['Sex', 'First Name', 'Last Name']]"
      ],
      "execution_count": null,
      "outputs": []
    },
    {
      "cell_type": "code",
      "metadata": {
        "id": "uGIeLg31Wx48"
      },
      "source": [
        "parsed_df = res_df.merge(merge_df, how='left', left_on='NickName', right_index=True)"
      ],
      "execution_count": null,
      "outputs": []
    },
    {
      "cell_type": "code",
      "metadata": {
        "id": "Uj7WFPAauO3p",
        "colab": {
          "base_uri": "https://localhost:8080/",
          "height": 204
        },
        "outputId": "210c5c9b-4be3-4d7d-908b-deaaa144d2d6"
      },
      "source": [
        "parsed_df.head()"
      ],
      "execution_count": null,
      "outputs": [
        {
          "output_type": "execute_result",
          "data": {
            "text/html": [
              "<div>\n",
              "<style scoped>\n",
              "    .dataframe tbody tr th:only-of-type {\n",
              "        vertical-align: middle;\n",
              "    }\n",
              "\n",
              "    .dataframe tbody tr th {\n",
              "        vertical-align: top;\n",
              "    }\n",
              "\n",
              "    .dataframe thead th {\n",
              "        text-align: right;\n",
              "    }\n",
              "</style>\n",
              "<table border=\"1\" class=\"dataframe\">\n",
              "  <thead>\n",
              "    <tr style=\"text-align: right;\">\n",
              "      <th></th>\n",
              "      <th>NickName</th>\n",
              "      <th>Arrival_Airport</th>\n",
              "      <th>Arrival_City</th>\n",
              "      <th>Arrival_Country</th>\n",
              "      <th>Departure_Airport</th>\n",
              "      <th>Departure_City</th>\n",
              "      <th>Departure_Country</th>\n",
              "      <th>Date</th>\n",
              "      <th>Codeshare</th>\n",
              "      <th>Flight</th>\n",
              "      <th>Sex</th>\n",
              "      <th>First Name</th>\n",
              "      <th>Last Name</th>\n",
              "    </tr>\n",
              "  </thead>\n",
              "  <tbody>\n",
              "    <tr>\n",
              "      <th>0</th>\n",
              "      <td>0</td>\n",
              "      <td>PIT</td>\n",
              "      <td>Pittsburgh PA</td>\n",
              "      <td>United States of</td>\n",
              "      <td>BOS</td>\n",
              "      <td>Boston MA</td>\n",
              "      <td>United States of</td>\n",
              "      <td>2017-03-04</td>\n",
              "      <td>False</td>\n",
              "      <td>DL3377</td>\n",
              "      <td>Male</td>\n",
              "      <td>None</td>\n",
              "      <td>None</td>\n",
              "    </tr>\n",
              "    <tr>\n",
              "      <th>1</th>\n",
              "      <td>0</td>\n",
              "      <td>DTW</td>\n",
              "      <td>Detroit MI</td>\n",
              "      <td>United States of</td>\n",
              "      <td>GRB</td>\n",
              "      <td>Green Bay WI</td>\n",
              "      <td>United States of</td>\n",
              "      <td>2017-07-21</td>\n",
              "      <td>False</td>\n",
              "      <td>DL3630</td>\n",
              "      <td>Male</td>\n",
              "      <td>None</td>\n",
              "      <td>None</td>\n",
              "    </tr>\n",
              "    <tr>\n",
              "      <th>2</th>\n",
              "      <td>0</td>\n",
              "      <td>LGA</td>\n",
              "      <td>New York NY</td>\n",
              "      <td>United States of</td>\n",
              "      <td>PIT</td>\n",
              "      <td>Pittsburgh PA</td>\n",
              "      <td>United States of</td>\n",
              "      <td>2017-03-22</td>\n",
              "      <td>False</td>\n",
              "      <td>DL5361</td>\n",
              "      <td>Male</td>\n",
              "      <td>None</td>\n",
              "      <td>None</td>\n",
              "    </tr>\n",
              "    <tr>\n",
              "      <th>3</th>\n",
              "      <td>0</td>\n",
              "      <td>WAW</td>\n",
              "      <td>Warsaw</td>\n",
              "      <td>Poland</td>\n",
              "      <td>SVO</td>\n",
              "      <td>Moscow</td>\n",
              "      <td>Russian Federation</td>\n",
              "      <td>2017-01-04</td>\n",
              "      <td>True</td>\n",
              "      <td>SU3702</td>\n",
              "      <td>Male</td>\n",
              "      <td>None</td>\n",
              "      <td>None</td>\n",
              "    </tr>\n",
              "    <tr>\n",
              "      <th>4</th>\n",
              "      <td>0</td>\n",
              "      <td>ATL</td>\n",
              "      <td>Atlanta GA</td>\n",
              "      <td>United States of</td>\n",
              "      <td>XNA</td>\n",
              "      <td>Fayetteville AR</td>\n",
              "      <td>United States of</td>\n",
              "      <td>2017-08-08</td>\n",
              "      <td>False</td>\n",
              "      <td>DL3412</td>\n",
              "      <td>Male</td>\n",
              "      <td>None</td>\n",
              "      <td>None</td>\n",
              "    </tr>\n",
              "  </tbody>\n",
              "</table>\n",
              "</div>"
            ],
            "text/plain": [
              "   NickName Arrival_Airport   Arrival_City  ...   Sex First Name Last Name\n",
              "0         0             PIT  Pittsburgh PA  ...  Male       None      None\n",
              "1         0             DTW     Detroit MI  ...  Male       None      None\n",
              "2         0             LGA    New York NY  ...  Male       None      None\n",
              "3         0             WAW         Warsaw  ...  Male       None      None\n",
              "4         0             ATL     Atlanta GA  ...  Male       None      None\n",
              "\n",
              "[5 rows x 13 columns]"
            ]
          },
          "metadata": {
            "tags": []
          },
          "execution_count": 43
        }
      ]
    },
    {
      "cell_type": "code",
      "metadata": {
        "id": "SwSgY2T5ccFW"
      },
      "source": [
        "parsed_df.to_csv('FrequentFlyerForum-Profiles.csv')"
      ],
      "execution_count": null,
      "outputs": []
    },
    {
      "cell_type": "markdown",
      "metadata": {
        "id": "No4_Fb-Zsbsm"
      },
      "source": [
        "# BoardingData.csv"
      ]
    },
    {
      "cell_type": "code",
      "metadata": {
        "id": "G9luOou1qrj1"
      },
      "source": [
        "file_id = '1tsdyieiuvd2_soYZfnWf2KwYfiNfZ5bG'\n",
        "downloaded = drive.CreateFile({'id': file_id})\n",
        "downloaded.GetContentFile('BoardingData.csv')"
      ],
      "execution_count": null,
      "outputs": []
    },
    {
      "cell_type": "code",
      "metadata": {
        "id": "Kqne_Ji3nhxq"
      },
      "source": [
        "bd_df = pd.read_csv(\"/content/BoardingData.csv\", sep=';')  # boarding data df "
      ],
      "execution_count": null,
      "outputs": []
    },
    {
      "cell_type": "code",
      "metadata": {
        "colab": {
          "base_uri": "https://localhost:8080/",
          "height": 258
        },
        "id": "Um1J-CWAnthq",
        "outputId": "44c95b91-b72e-47f3-c64f-2b71b07ced2c"
      },
      "source": [
        "bd_df.head()"
      ],
      "execution_count": null,
      "outputs": [
        {
          "output_type": "execute_result",
          "data": {
            "text/html": [
              "<div>\n",
              "<style scoped>\n",
              "    .dataframe tbody tr th:only-of-type {\n",
              "        vertical-align: middle;\n",
              "    }\n",
              "\n",
              "    .dataframe tbody tr th {\n",
              "        vertical-align: top;\n",
              "    }\n",
              "\n",
              "    .dataframe thead th {\n",
              "        text-align: right;\n",
              "    }\n",
              "</style>\n",
              "<table border=\"1\" class=\"dataframe\">\n",
              "  <thead>\n",
              "    <tr style=\"text-align: right;\">\n",
              "      <th></th>\n",
              "      <th>PassengerFirstName</th>\n",
              "      <th>PassengerSecondName</th>\n",
              "      <th>PassengerLastName</th>\n",
              "      <th>PassengerSex</th>\n",
              "      <th>PassengerBirthDate</th>\n",
              "      <th>PassengerDocument</th>\n",
              "      <th>BookingCode</th>\n",
              "      <th>TicketNumber</th>\n",
              "      <th>Baggage</th>\n",
              "      <th>FlightDate</th>\n",
              "      <th>FlightTime</th>\n",
              "      <th>FlightNumber</th>\n",
              "      <th>CodeShare</th>\n",
              "      <th>Destination</th>\n",
              "    </tr>\n",
              "  </thead>\n",
              "  <tbody>\n",
              "    <tr>\n",
              "      <th>0</th>\n",
              "      <td>SAVELII</td>\n",
              "      <td>VIKTOROVICH</td>\n",
              "      <td>RUSANOV</td>\n",
              "      <td>Male</td>\n",
              "      <td>03/10/1983</td>\n",
              "      <td>2879 096860</td>\n",
              "      <td>FRNINO</td>\n",
              "      <td>6625956945991971</td>\n",
              "      <td>Transit</td>\n",
              "      <td>2017-03-22</td>\n",
              "      <td>06:05</td>\n",
              "      <td>SU1369</td>\n",
              "      <td>Own</td>\n",
              "      <td>Moscow</td>\n",
              "    </tr>\n",
              "    <tr>\n",
              "      <th>1</th>\n",
              "      <td>LEV</td>\n",
              "      <td>MARKOVICH</td>\n",
              "      <td>ISAEV</td>\n",
              "      <td>Male</td>\n",
              "      <td>12/13/1975</td>\n",
              "      <td>1788 173211</td>\n",
              "      <td>Not presented</td>\n",
              "      <td>1643715499224676</td>\n",
              "      <td>Registered</td>\n",
              "      <td>2017-03-18</td>\n",
              "      <td>22:10</td>\n",
              "      <td>SU1180</td>\n",
              "      <td>Own</td>\n",
              "      <td>Volgograd</td>\n",
              "    </tr>\n",
              "    <tr>\n",
              "      <th>2</th>\n",
              "      <td>NIKOLAI</td>\n",
              "      <td>I.</td>\n",
              "      <td>NIKOLSKII</td>\n",
              "      <td>Male</td>\n",
              "      <td>12/26/1990</td>\n",
              "      <td>4396 926588</td>\n",
              "      <td>VWNYGF</td>\n",
              "      <td>6247422701565929</td>\n",
              "      <td>Transit</td>\n",
              "      <td>2017-03-18</td>\n",
              "      <td>22:10</td>\n",
              "      <td>SU1180</td>\n",
              "      <td>Own</td>\n",
              "      <td>Volgograd</td>\n",
              "    </tr>\n",
              "    <tr>\n",
              "      <th>3</th>\n",
              "      <td>ANATOLII</td>\n",
              "      <td>PETROVICH</td>\n",
              "      <td>SHILOV</td>\n",
              "      <td>Male</td>\n",
              "      <td>05/24/1997</td>\n",
              "      <td>2595 919752</td>\n",
              "      <td>WQFFUE</td>\n",
              "      <td>Not presented</td>\n",
              "      <td>Registered</td>\n",
              "      <td>2017-03-18</td>\n",
              "      <td>22:10</td>\n",
              "      <td>SU1180</td>\n",
              "      <td>Own</td>\n",
              "      <td>Volgograd</td>\n",
              "    </tr>\n",
              "    <tr>\n",
              "      <th>4</th>\n",
              "      <td>MIROSLAVA</td>\n",
              "      <td>VIACHESLAVOVNA</td>\n",
              "      <td>SEMENOVA</td>\n",
              "      <td>Female</td>\n",
              "      <td>01/31/1976</td>\n",
              "      <td>6775 516990</td>\n",
              "      <td>Not presented</td>\n",
              "      <td>Not presented</td>\n",
              "      <td>Registered</td>\n",
              "      <td>2017-03-12</td>\n",
              "      <td>11:45</td>\n",
              "      <td>SU6284</td>\n",
              "      <td>Own</td>\n",
              "      <td>Moscow</td>\n",
              "    </tr>\n",
              "  </tbody>\n",
              "</table>\n",
              "</div>"
            ],
            "text/plain": [
              "  PassengerFirstName PassengerSecondName  ... CodeShare Destination\n",
              "0            SAVELII         VIKTOROVICH  ...       Own      Moscow\n",
              "1                LEV           MARKOVICH  ...       Own   Volgograd\n",
              "2            NIKOLAI                  I.  ...       Own   Volgograd\n",
              "3           ANATOLII           PETROVICH  ...       Own   Volgograd\n",
              "4          MIROSLAVA      VIACHESLAVOVNA  ...       Own      Moscow\n",
              "\n",
              "[5 rows x 14 columns]"
            ]
          },
          "metadata": {
            "tags": []
          },
          "execution_count": 32
        }
      ]
    },
    {
      "cell_type": "markdown",
      "metadata": {
        "id": "HsByiXugSN0d"
      },
      "source": [
        "tab"
      ]
    },
    {
      "cell_type": "code",
      "metadata": {
        "id": "PTNa1r4kSPdb"
      },
      "source": [
        "file_id = '1PAh6QIzje6T9TuEl41HY06bmCkGf3TTH'\n",
        "downloaded = drive.CreateFile({'id': file_id})\n",
        "downloaded.GetContentFile('Sirena-export-fixed.tab')"
      ],
      "execution_count": null,
      "outputs": []
    },
    {
      "cell_type": "code",
      "metadata": {
        "id": "XFKgRbUMSuJ0"
      },
      "source": [
        "sirena_df = pd.read_table('Sirena-export-fixed.tab', )"
      ],
      "execution_count": null,
      "outputs": []
    },
    {
      "cell_type": "code",
      "metadata": {
        "colab": {
          "base_uri": "https://localhost:8080/",
          "height": 204
        },
        "id": "3mUt8ueoVRLM",
        "outputId": "f6264887-b51c-4008-9426-431d9810703f"
      },
      "source": [
        "sirena_df.head()"
      ],
      "execution_count": null,
      "outputs": [
        {
          "output_type": "execute_result",
          "data": {
            "text/html": [
              "<div>\n",
              "<style scoped>\n",
              "    .dataframe tbody tr th:only-of-type {\n",
              "        vertical-align: middle;\n",
              "    }\n",
              "\n",
              "    .dataframe tbody tr th {\n",
              "        vertical-align: top;\n",
              "    }\n",
              "\n",
              "    .dataframe thead th {\n",
              "        text-align: right;\n",
              "    }\n",
              "</style>\n",
              "<table border=\"1\" class=\"dataframe\">\n",
              "  <thead>\n",
              "    <tr style=\"text-align: right;\">\n",
              "      <th></th>\n",
              "      <th>PaxName                                                     PaxBirthDateDepartDate  DepartTime  ArrivalDate ArrivalTime FlightCodeShFrom  Dest  Code  e-Ticket          TravelDoc   Seat  Meal  TrvClsFare  Baggage     PaxAdditionalInfo                                           AgentInfo</th>\n",
              "    </tr>\n",
              "  </thead>\n",
              "  <tbody>\n",
              "    <tr>\n",
              "      <th>0</th>\n",
              "      <td>ОЗЕРОВ ИЛЬДАР ДАНИИЛОВИЧ                      ...</td>\n",
              "    </tr>\n",
              "    <tr>\n",
              "      <th>1</th>\n",
              "      <td>КОЛОСОВ САМИР ТАМЕРЛАНОВИЧ                    ...</td>\n",
              "    </tr>\n",
              "    <tr>\n",
              "      <th>2</th>\n",
              "      <td>ИГНАТОВА СНЕЖАНА КОНСТАНТИНОВНА               ...</td>\n",
              "    </tr>\n",
              "    <tr>\n",
              "      <th>3</th>\n",
              "      <td>ЖАРОВ ПЛАТОН АЛЬБЕРТОВИЧ                      ...</td>\n",
              "    </tr>\n",
              "    <tr>\n",
              "      <th>4</th>\n",
              "      <td>НИКОЛЬСКИЙ НИКОЛАЙ ИГОРЕВИЧ                   ...</td>\n",
              "    </tr>\n",
              "  </tbody>\n",
              "</table>\n",
              "</div>"
            ],
            "text/plain": [
              "  PaxName                                                     PaxBirthDateDepartDate  DepartTime  ArrivalDate ArrivalTime FlightCodeShFrom  Dest  Code  e-Ticket          TravelDoc   Seat  Meal  TrvClsFare  Baggage     PaxAdditionalInfo                                           AgentInfo                                                   \n",
              "0  ОЗЕРОВ ИЛЬДАР ДАНИИЛОВИЧ                      ...                                                                                                                                                                                                                                                                                              \n",
              "1  КОЛОСОВ САМИР ТАМЕРЛАНОВИЧ                    ...                                                                                                                                                                                                                                                                                              \n",
              "2  ИГНАТОВА СНЕЖАНА КОНСТАНТИНОВНА               ...                                                                                                                                                                                                                                                                                              \n",
              "3  ЖАРОВ ПЛАТОН АЛЬБЕРТОВИЧ                      ...                                                                                                                                                                                                                                                                                              \n",
              "4  НИКОЛЬСКИЙ НИКОЛАЙ ИГОРЕВИЧ                   ...                                                                                                                                                                                                                                                                                              "
            ]
          },
          "metadata": {
            "tags": []
          },
          "execution_count": 21
        }
      ]
    },
    {
      "cell_type": "markdown",
      "metadata": {
        "id": "9LYy4Q-0amzJ"
      },
      "source": [
        "В качестве разделителя используются пробелы, однако если импортировать с параметром sep=' ' будет ошибка, поскольку в пределах одного поля PaxName ФИО разделены также пробелом, однако есть разница в количестве пробелов: в ФИО 1, между столбцами 2+.\n",
        "Документ был обработан в excel"
      ]
    },
    {
      "cell_type": "markdown",
      "metadata": {
        "id": "rJUvPQbfQdBp"
      },
      "source": [
        "# SkyTeam-Exchange.csv"
      ]
    },
    {
      "cell_type": "code",
      "metadata": {
        "id": "xH8dH5oPl2X7"
      },
      "source": [
        "file_id = '19YWePJt3aR5NQNhQ_5CYQzgUsTEFuWCJ'\n",
        "downloaded = drive.CreateFile({'id': file_id})\n",
        "downloaded.GetContentFile('1.json')"
      ],
      "execution_count": null,
      "outputs": []
    },
    {
      "cell_type": "code",
      "metadata": {
        "id": "P2LNSKJumTKh"
      },
      "source": [
        "with open('/content/1.json') as f:  # я не знаю как сделать человеческое имя\n",
        "    q = json.load(f)"
      ],
      "execution_count": null,
      "outputs": []
    },
    {
      "cell_type": "code",
      "metadata": {
        "colab": {
          "base_uri": "https://localhost:8080/"
        },
        "id": "PC8s51cymxsN",
        "outputId": "5574d7a3-ed35-478c-f09f-7c20b7a27b33"
      },
      "source": [
        "len(q)"
      ],
      "execution_count": null,
      "outputs": [
        {
          "output_type": "execute_result",
          "data": {
            "text/plain": [
              "366"
            ]
          },
          "metadata": {
            "tags": []
          },
          "execution_count": 6
        }
      ]
    },
    {
      "cell_type": "code",
      "metadata": {
        "colab": {
          "base_uri": "https://localhost:8080/"
        },
        "id": "2pFKkcBsm5tN",
        "outputId": "838e1d4d-2c40-45c3-8a1e-0133f12d808c"
      },
      "source": [
        "q['2017-01-01']['AF1145']  # пример записи"
      ],
      "execution_count": null,
      "outputs": [
        {
          "output_type": "execute_result",
          "data": {
            "text/plain": [
              "{'FF': {'FB 520518073': {'CLASS': 'Y', 'FARE': 'YRSTFN'}},\n",
              " 'FROM': 'SVO',\n",
              " 'STATUS': 'LANDED',\n",
              " 'TO': 'CDG'}"
            ]
          },
          "metadata": {
            "tags": []
          },
          "execution_count": 8
        }
      ]
    },
    {
      "cell_type": "code",
      "metadata": {
        "id": "mSV9gEHhrcoX"
      },
      "source": [
        "a = []\n",
        "for i in q.keys():\n",
        "    for j in q[i].keys():\n",
        "        a.append(q[i][j]['FF'])"
      ],
      "execution_count": null,
      "outputs": []
    },
    {
      "cell_type": "code",
      "metadata": {
        "colab": {
          "base_uri": "https://localhost:8080/"
        },
        "id": "VFgnn5n6rzPC",
        "outputId": "4b22b012-c016-4dd3-eaa1-303cce939c09"
      },
      "source": [
        "len(max(a, key=len))"
      ],
      "execution_count": null,
      "outputs": [
        {
          "output_type": "execute_result",
          "data": {
            "text/plain": [
              "190"
            ]
          },
          "metadata": {
            "tags": []
          },
          "execution_count": 69
        }
      ]
    },
    {
      "cell_type": "code",
      "metadata": {
        "id": "8MAL0ZyFnfpu"
      },
      "source": [
        "flights = []\n",
        "\n",
        "for date in q.keys():\n",
        "    for flight in q[date].keys():\n",
        "        for card in q[date][flight]['FF'].keys():\n",
        "            flights.append({\n",
        "                'card': card,\n",
        "                'date': date,\n",
        "                'flight': flight,\n",
        "                'from': q[date][flight]['FROM'],\n",
        "                'to': q[date][flight]['TO'],\n",
        "                # Статус нам не нужен, мы оцениваем данные \n",
        "                'status': q[date][flight]['STATUS'],\n",
        "                'class':q[date][flight]['FF'][card]['CLASS'],\n",
        "                'fare':q[date][flight]['FF'][card]['FARE'],\n",
        "            })"
      ],
      "execution_count": null,
      "outputs": []
    },
    {
      "cell_type": "code",
      "metadata": {
        "id": "FEH095oTqeiy"
      },
      "source": [
        "file_id = '1_NU3ImudoBQRzJpRwqg9Iu7FlM-vEH0e'\n",
        "downloaded = drive.CreateFile({'id': file_id})\n",
        "downloaded.GetContentFile('DATA.csv')"
      ],
      "execution_count": null,
      "outputs": []
    },
    {
      "cell_type": "code",
      "metadata": {
        "id": "a2KvfPJVqlOY"
      },
      "source": [
        "qwe = pd.read_csv('DATA.csv')"
      ],
      "execution_count": null,
      "outputs": []
    },
    {
      "cell_type": "code",
      "metadata": {
        "colab": {
          "base_uri": "https://localhost:8080/"
        },
        "id": "mzH2FNq6qqYO",
        "outputId": "48272771-aa57-417c-eaf3-ea4e2e8e33ee"
      },
      "source": [
        "len(qwe)"
      ],
      "execution_count": null,
      "outputs": [
        {
          "output_type": "execute_result",
          "data": {
            "text/plain": [
              "1687053"
            ]
          },
          "metadata": {
            "tags": []
          },
          "execution_count": 77
        }
      ]
    },
    {
      "cell_type": "code",
      "metadata": {
        "id": "9drAcvH6vv1J"
      },
      "source": [
        "yaml_df = pd.DataFrame(flights)"
      ],
      "execution_count": null,
      "outputs": []
    },
    {
      "cell_type": "code",
      "metadata": {
        "id": "SHVYkli5v5en"
      },
      "source": [
        "yaml_df.to_csv('SkyTeam-Exchange.csv')"
      ],
      "execution_count": null,
      "outputs": []
    },
    {
      "cell_type": "code",
      "metadata": {
        "colab": {
          "base_uri": "https://localhost:8080/"
        },
        "id": "OFi2VT2JwPxG",
        "outputId": "7f499e81-6963-408b-bd01-206e62606adf"
      },
      "source": [
        "from google.colab import drive\n",
        "drive.mount('/content/drive')"
      ],
      "execution_count": null,
      "outputs": [
        {
          "output_type": "stream",
          "text": [
            "Drive already mounted at /content/drive; to attempt to forcibly remount, call drive.mount(\"/content/drive\", force_remount=True).\n"
          ],
          "name": "stdout"
        }
      ]
    },
    {
      "cell_type": "code",
      "metadata": {
        "id": "GNOXZkeaYb8s"
      },
      "source": [
        "import pandas as pd"
      ],
      "execution_count": null,
      "outputs": []
    },
    {
      "cell_type": "code",
      "metadata": {
        "id": "iHWEBYIHZaLp"
      },
      "source": [
        "temp = pd.read_table('Sirena-export-fixed.txt', encoding='UTF-16 LE')"
      ],
      "execution_count": null,
      "outputs": []
    },
    {
      "cell_type": "code",
      "metadata": {
        "id": "oiGo5RGgZs89"
      },
      "source": [
        "temp.to_csv('Sirena-export-fixed.csv', encoding='UTF-8')"
      ],
      "execution_count": null,
      "outputs": []
    },
    {
      "cell_type": "code",
      "metadata": {
        "id": "Zo8v8jcWaDLg",
        "colab": {
          "base_uri": "https://localhost:8080/",
          "height": 360
        },
        "outputId": "2e8c64b8-bc5b-4f0b-99a9-410f30c55cea"
      },
      "source": [
        "temp.head()"
      ],
      "execution_count": null,
      "outputs": [
        {
          "output_type": "execute_result",
          "data": {
            "text/html": [
              "<div>\n",
              "<style scoped>\n",
              "    .dataframe tbody tr th:only-of-type {\n",
              "        vertical-align: middle;\n",
              "    }\n",
              "\n",
              "    .dataframe tbody tr th {\n",
              "        vertical-align: top;\n",
              "    }\n",
              "\n",
              "    .dataframe thead th {\n",
              "        text-align: right;\n",
              "    }\n",
              "</style>\n",
              "<table border=\"1\" class=\"dataframe\">\n",
              "  <thead>\n",
              "    <tr style=\"text-align: right;\">\n",
              "      <th></th>\n",
              "      <th>PaxName</th>\n",
              "      <th>PaxBirthDa</th>\n",
              "      <th>teDepartDate</th>\n",
              "      <th>DepartTime</th>\n",
              "      <th>ArrivalDate</th>\n",
              "      <th>ArrivalTime</th>\n",
              "      <th>FlightCod</th>\n",
              "      <th>eShFrom</th>\n",
              "      <th>Dest</th>\n",
              "      <th>Code  e-Ticket</th>\n",
              "      <th>Trav</th>\n",
              "      <th>elDoc</th>\n",
              "      <th>Seat</th>\n",
              "      <th>Meal</th>\n",
              "      <th>Trv</th>\n",
              "      <th>ClsFare  Baggage</th>\n",
              "      <th>PaxAdditionalInfo</th>\n",
              "      <th>Unnamed: 17</th>\n",
              "      <th>Unnamed: 18</th>\n",
              "      <th>AgentInfo</th>\n",
              "    </tr>\n",
              "  </thead>\n",
              "  <tbody>\n",
              "    <tr>\n",
              "      <th>0</th>\n",
              "      <td>ОЗЕРОВ ИЛЬДАР ДАНИИЛОВИЧ</td>\n",
              "      <td>15.05.1999</td>\n",
              "      <td>30.05.2017</td>\n",
              "      <td>0:05</td>\n",
              "      <td>30.05.2017</td>\n",
              "      <td>8:05</td>\n",
              "      <td>SU1306NO</td>\n",
              "      <td>SVO</td>\n",
              "      <td>OVB</td>\n",
              "      <td>ZBQSPY7360415302044672</td>\n",
              "      <td>9375</td>\n",
              "      <td>53270</td>\n",
              "      <td>NaN</td>\n",
              "      <td>NaN</td>\n",
              "      <td>J</td>\n",
              "      <td>JGRPGN0PC</td>\n",
              "      <td>S</td>\n",
              "      <td>FF#SU</td>\n",
              "      <td>38116280.0</td>\n",
              "      <td>Go2See</td>\n",
              "    </tr>\n",
              "    <tr>\n",
              "      <th>1</th>\n",
              "      <td>КОЛОСОВ САМИР ТАМЕРЛАНОВИЧ</td>\n",
              "      <td>NaN</td>\n",
              "      <td>27.12.2017</td>\n",
              "      <td>2:15</td>\n",
              "      <td>27.12.2017</td>\n",
              "      <td>4:40</td>\n",
              "      <td>SU1323NO</td>\n",
              "      <td>MMK</td>\n",
              "      <td>SVO</td>\n",
              "      <td>MHPBBX7398421117936516</td>\n",
              "      <td>2244</td>\n",
              "      <td>645520</td>\n",
              "      <td>NaN</td>\n",
              "      <td>KSML</td>\n",
              "      <td>Y</td>\n",
              "      <td>YRSTUQ</td>\n",
              "      <td>9</td>\n",
              "      <td>FF#FB</td>\n",
              "      <td>284903754.0</td>\n",
              "      <td>NaN</td>\n",
              "    </tr>\n",
              "    <tr>\n",
              "      <th>2</th>\n",
              "      <td>ИГНАТОВА СНЕЖАНА КОНСТАНТИНОВНА</td>\n",
              "      <td>NaN</td>\n",
              "      <td>19.09.2017</td>\n",
              "      <td>6:40</td>\n",
              "      <td>19.09.2017</td>\n",
              "      <td>7:45</td>\n",
              "      <td>SU1481NO</td>\n",
              "      <td>KJA</td>\n",
              "      <td>SVO</td>\n",
              "      <td>REDLVB5174973140468001</td>\n",
              "      <td>8115</td>\n",
              "      <td>961316</td>\n",
              "      <td>NaN</td>\n",
              "      <td>NaN</td>\n",
              "      <td>Y</td>\n",
              "      <td>YSTNJL</td>\n",
              "      <td>F</td>\n",
              "      <td>NaN</td>\n",
              "      <td>NaN</td>\n",
              "      <td>KupiBilet</td>\n",
              "    </tr>\n",
              "    <tr>\n",
              "      <th>3</th>\n",
              "      <td>ЖАРОВ ПЛАТОН АЛЬБЕРТОВИЧ</td>\n",
              "      <td>02.05.1999</td>\n",
              "      <td>18.03.2017</td>\n",
              "      <td>22:10</td>\n",
              "      <td>19.03.2017</td>\n",
              "      <td>1:05</td>\n",
              "      <td>SU1180NO</td>\n",
              "      <td>SVO</td>\n",
              "      <td>VOG</td>\n",
              "      <td>NSJNGQ5274206497242737</td>\n",
              "      <td>98 6</td>\n",
              "      <td>865148</td>\n",
              "      <td>NaN</td>\n",
              "      <td>NaN</td>\n",
              "      <td>J</td>\n",
              "      <td>JFLXLS0PC</td>\n",
              "      <td>#</td>\n",
              "      <td>FF#FB</td>\n",
              "      <td>884556993.0</td>\n",
              "      <td>Travelgenio</td>\n",
              "    </tr>\n",
              "    <tr>\n",
              "      <th>4</th>\n",
              "      <td>НИКОЛЬСКИЙ НИКОЛАЙ ИГОРЕВИЧ</td>\n",
              "      <td>26.12.1990</td>\n",
              "      <td>18.03.2017</td>\n",
              "      <td>22:10</td>\n",
              "      <td>19.03.2017</td>\n",
              "      <td>1:05</td>\n",
              "      <td>SU1180NO</td>\n",
              "      <td>SVO</td>\n",
              "      <td>VOG</td>\n",
              "      <td>VWNYGF6247422701565929</td>\n",
              "      <td>4396</td>\n",
              "      <td>926588</td>\n",
              "      <td>NaN</td>\n",
              "      <td>NaN</td>\n",
              "      <td>Y</td>\n",
              "      <td>YFLXPG</td>\n",
              "      <td>NaN</td>\n",
              "      <td>FF#SU</td>\n",
              "      <td>183142068.0</td>\n",
              "      <td>OZON.travel</td>\n",
              "    </tr>\n",
              "  </tbody>\n",
              "</table>\n",
              "</div>"
            ],
            "text/plain": [
              "                           PaxName  PaxBirthDa  ...  Unnamed: 18    AgentInfo\n",
              "0         ОЗЕРОВ ИЛЬДАР ДАНИИЛОВИЧ  15.05.1999  ...   38116280.0       Go2See\n",
              "1       КОЛОСОВ САМИР ТАМЕРЛАНОВИЧ         NaN  ...  284903754.0          NaN\n",
              "2  ИГНАТОВА СНЕЖАНА КОНСТАНТИНОВНА         NaN  ...          NaN    KupiBilet\n",
              "3         ЖАРОВ ПЛАТОН АЛЬБЕРТОВИЧ  02.05.1999  ...  884556993.0  Travelgenio\n",
              "4      НИКОЛЬСКИЙ НИКОЛАЙ ИГОРЕВИЧ  26.12.1990  ...  183142068.0  OZON.travel\n",
              "\n",
              "[5 rows x 20 columns]"
            ]
          },
          "metadata": {
            "tags": []
          },
          "execution_count": 6
        }
      ]
    },
    {
      "cell_type": "markdown",
      "metadata": {
        "id": "Q0efmOYX71nG"
      },
      "source": [
        "# YourBoardingPassDotAero.zip\n",
        "\n"
      ]
    },
    {
      "cell_type": "code",
      "metadata": {
        "id": "xnBZxSKmw72I"
      },
      "source": [
        "# Download a file based on its file ID.\n",
        "file_id = '1kbweQyVmAgxwRAyyyJ9uGTliG1D66bX8'\n",
        "downloaded = drive.CreateFile({'id': file_id})\n",
        "downloaded.GetContentFile('YourBoardingPassDotAero.zip')"
      ],
      "execution_count": null,
      "outputs": []
    },
    {
      "cell_type": "code",
      "metadata": {
        "id": "xEV0RO7qxGCT"
      },
      "source": [
        "import zipfile "
      ],
      "execution_count": null,
      "outputs": []
    },
    {
      "cell_type": "code",
      "metadata": {
        "id": "4I5dZ4RRxHAX"
      },
      "source": [
        "with zipfile.ZipFile('/content/YourBoardingPassDotAero.zip') as z:\n",
        "    z.extractall(path='/content/Boarding_extract')"
      ],
      "execution_count": null,
      "outputs": []
    },
    {
      "cell_type": "code",
      "metadata": {
        "id": "seJtTrDHveIL"
      },
      "source": [
        "import pandas as pd\n",
        "import numpy as np\n",
        "from openpyxl import load_workbook\n",
        "import os\n",
        "from tqdm import tqdm"
      ],
      "execution_count": null,
      "outputs": []
    },
    {
      "cell_type": "code",
      "metadata": {
        "id": "zU1Iua0eveIM"
      },
      "source": [
        "BDP = pd.DataFrame(columns=['sequence', 'gender', 'name', 'hz', 'flightNumber', 'cityFrom', 'cityTo', 'gate',\n",
        "                           'airportFrom', 'airportTo', 'date', 'time', 'share', 'seat', 'PNR', 'ticket'])"
      ],
      "execution_count": null,
      "outputs": []
    },
    {
      "cell_type": "code",
      "metadata": {
        "scrolled": false,
        "id": "50e_r7OpveIN"
      },
      "source": [
        "data_for_df = []\n",
        "for file in tqdm(os.listdir('/content/Boarding_extract')):\n",
        "    filecsv = file.replace('xlsx', 'csv')\n",
        "    if (os.path.exists(_dir+filecsv)):\n",
        "        continue\n",
        "    wb = load_workbook('/content/Boarding_extract/' + file)\n",
        "    for sheet in wb:\n",
        "        row = dict()\n",
        "        row['sequence']=sheet['H1'].value\n",
        "        row['gender']=sheet['A3'].value\n",
        "        row['name']=sheet['B3'].value\n",
        "        row['fare']=sheet['H3'].value\n",
        "        row['flightNumber']=sheet['A5'].value\n",
        "        row['cityFrom']=sheet['D5'].value\n",
        "        row['cityTo']=sheet['H5'].value\n",
        "        row['gate']=sheet['B7'].value\n",
        "        row['airportFrom']=sheet['D7'].value\n",
        "        row['airportTo']=sheet['H7'].value\n",
        "        row['date']=sheet['A9'].value\n",
        "        row['time']=sheet['C9'].value\n",
        "        row['share']=sheet['E9'].value\n",
        "        row['seat']=sheet['H11'].value\n",
        "        row['PNR']=sheet['B13'].value\n",
        "        row['ticket']=sheet['E13'].value\n",
        "        data.append(row)\n",
        "BDP = pd.DataFrame(data)\n",
        "BDP.to_csv('YourBoardingPassDotAero.csv')"
      ],
      "execution_count": null,
      "outputs": []
    },
    {
      "cell_type": "markdown",
      "metadata": {
        "id": "idTK_VeS92Xt"
      },
      "source": [
        "# Skyteam timetable"
      ]
    },
    {
      "cell_type": "code",
      "metadata": {
        "colab": {
          "base_uri": "https://localhost:8080/"
        },
        "id": "xJ_-2288-L2X",
        "outputId": "2997c0d0-024c-49c4-be27-8e03a5bea561"
      },
      "source": [
        "# https://developers.google.com/drive/v2/web/search-parameters\n",
        "listed = drive.ListFile({'q': \"title contains 'Skyteam_Timetable_' and '1avVTxmokm_BCZUCQdVBkLfi0vJGpfRZJ' in parents\"}).GetList()\n",
        "for file in listed:\n",
        "  print('title {}, id {}'.format(file['title'], file['id']))"
      ],
      "execution_count": null,
      "outputs": [
        {
          "output_type": "stream",
          "text": [
            "title Skyteam_Timetable_24072_27514.csv, id 1RZLlFOAocdrAR4SIlwhVfSjRuSM-bBQk\n",
            "title Skyteam_Timetable_20634_24072.csv, id 1l6XJk38eFsEamwMAkY0vxDCSarVqZqOp\n",
            "title Skyteam_Timetable_17196_20633.csv, id 18DCqyXEXLMnEflhf6Y0HQgX6uPZg0mbs\n",
            "title Skyteam_Timetable_13758_17195.csv, id 1iDlZpjSOKiao3WTL-YmK5SyOnCj0W5yI\n",
            "title Skyteam_Timetable_10320_13757.csv, id 1k3XTpxYDxpHMtoSSq25cvJHMalM4yESv\n",
            "title Skyteam_Timetable_6882_10319.csv, id 1t-WGXYhPB5ExgcmWaXnHNoV70IZvDDmv\n",
            "title Skyteam_Timetable_3445_6881.csv, id 1WEyO24zU9WcfPLoVgOhGg9M8GGm6Foe3\n",
            "title Skyteam_Timetable_5_3444.csv, id 1Nk63uzGZAqAk4_wRFNJOFMpdBmY_oiG5\n"
          ],
          "name": "stdout"
        }
      ]
    },
    {
      "cell_type": "code",
      "metadata": {
        "id": "GR1rayy2AGL9"
      },
      "source": [
        "for i in listed:\n",
        "    i.GetContentFile(i['title'])"
      ],
      "execution_count": null,
      "outputs": []
    },
    {
      "cell_type": "code",
      "metadata": {
        "colab": {
          "base_uri": "https://localhost:8080/"
        },
        "id": "S2z2_QiDA9Y_",
        "outputId": "f615f03c-54f9-4984-faae-b219e13d7299"
      },
      "source": [
        "skyteam_timetable_raw_filenames = [i['title'] for i in listed]\n",
        "skyteam_timetable_raw_filenames.sort(key = lambda x: int(x.split('_')[-2]))\n",
        "skyteam_timetable_raw_filenames"
      ],
      "execution_count": null,
      "outputs": [
        {
          "output_type": "execute_result",
          "data": {
            "text/plain": [
              "['Skyteam_Timetable_5_3444.csv',\n",
              " 'Skyteam_Timetable_3445_6881.csv',\n",
              " 'Skyteam_Timetable_6882_10319.csv',\n",
              " 'Skyteam_Timetable_10320_13757.csv',\n",
              " 'Skyteam_Timetable_13758_17195.csv',\n",
              " 'Skyteam_Timetable_17196_20633.csv',\n",
              " 'Skyteam_Timetable_20634_24072.csv',\n",
              " 'Skyteam_Timetable_24072_27514.csv']"
            ]
          },
          "metadata": {
            "tags": []
          },
          "execution_count": 20
        }
      ]
    },
    {
      "cell_type": "code",
      "metadata": {
        "id": "S8c8J4MnBpSJ"
      },
      "source": [
        "skyteam_t_df = pd.DataFrame()\n",
        "for f in skyteam_timetable_raw_filenames:\n",
        "    skyteam_t_df = pd.concat([skyteam_t_df, pd.read_csv(f)])\n"
      ],
      "execution_count": null,
      "outputs": []
    },
    {
      "cell_type": "code",
      "metadata": {
        "colab": {
          "base_uri": "https://localhost:8080/",
          "height": 198
        },
        "id": "J0cK_Ya3CKch",
        "outputId": "bd9e60cc-e373-4367-e884-87cec3b7588c"
      },
      "source": [
        "skyteam_t_df.head()"
      ],
      "execution_count": null,
      "outputs": [
        {
          "output_type": "execute_result",
          "data": {
            "text/html": [
              "<div>\n",
              "<style scoped>\n",
              "    .dataframe tbody tr th:only-of-type {\n",
              "        vertical-align: middle;\n",
              "    }\n",
              "\n",
              "    .dataframe tbody tr th {\n",
              "        vertical-align: top;\n",
              "    }\n",
              "\n",
              "    .dataframe thead th {\n",
              "        text-align: right;\n",
              "    }\n",
              "</style>\n",
              "<table border=\"1\" class=\"dataframe\">\n",
              "  <thead>\n",
              "    <tr style=\"text-align: right;\">\n",
              "      <th></th>\n",
              "      <th>Unnamed: 0</th>\n",
              "      <th>Validity</th>\n",
              "      <th>Days</th>\n",
              "      <th>Dep_Time</th>\n",
              "      <th>Arr_Time</th>\n",
              "      <th>Flight</th>\n",
              "      <th>Aircraft</th>\n",
              "      <th>Travel_Time</th>\n",
              "      <th>city_from</th>\n",
              "      <th>country_from</th>\n",
              "      <th>airport_from</th>\n",
              "      <th>city_to</th>\n",
              "      <th>country_to</th>\n",
              "      <th>airport_to</th>\n",
              "    </tr>\n",
              "  </thead>\n",
              "  <tbody>\n",
              "    <tr>\n",
              "      <th>0</th>\n",
              "      <td>0</td>\n",
              "      <td>01 Nov  -  31 Jan</td>\n",
              "      <td>1234567</td>\n",
              "      <td>06:00</td>\n",
              "      <td>07:25</td>\n",
              "      <td>KL1328</td>\n",
              "      <td>73W</td>\n",
              "      <td>1H25M</td>\n",
              "      <td>Aalborg</td>\n",
              "      <td>Denmark</td>\n",
              "      <td>AA</td>\n",
              "      <td>Amsterdam</td>\n",
              "      <td>Netherlands</td>\n",
              "      <td>AMS</td>\n",
              "    </tr>\n",
              "    <tr>\n",
              "      <th>1</th>\n",
              "      <td>1</td>\n",
              "      <td>01 Nov  -  31 Jan</td>\n",
              "      <td>1234567</td>\n",
              "      <td>12:10</td>\n",
              "      <td>13:35</td>\n",
              "      <td>KL1334</td>\n",
              "      <td>73W</td>\n",
              "      <td>1H25M</td>\n",
              "      <td>Aalborg</td>\n",
              "      <td>Denmark</td>\n",
              "      <td>AA</td>\n",
              "      <td>Amsterdam</td>\n",
              "      <td>Netherlands</td>\n",
              "      <td>AMS</td>\n",
              "    </tr>\n",
              "    <tr>\n",
              "      <th>2</th>\n",
              "      <td>2</td>\n",
              "      <td>01 Nov  -  23 Dec</td>\n",
              "      <td>1234567</td>\n",
              "      <td>18:15</td>\n",
              "      <td>19:35</td>\n",
              "      <td>KL1336</td>\n",
              "      <td>EQV</td>\n",
              "      <td>1H20M</td>\n",
              "      <td>Aalborg</td>\n",
              "      <td>Denmark</td>\n",
              "      <td>AA</td>\n",
              "      <td>Amsterdam</td>\n",
              "      <td>Netherlands</td>\n",
              "      <td>AMS</td>\n",
              "    </tr>\n",
              "    <tr>\n",
              "      <th>3</th>\n",
              "      <td>3</td>\n",
              "      <td>26 Dec  -  06 Jan</td>\n",
              "      <td>1  34567</td>\n",
              "      <td>18:15</td>\n",
              "      <td>19:35</td>\n",
              "      <td>KL1336</td>\n",
              "      <td>EQV</td>\n",
              "      <td>1H20M</td>\n",
              "      <td>Aalborg</td>\n",
              "      <td>Denmark</td>\n",
              "      <td>AA</td>\n",
              "      <td>Amsterdam</td>\n",
              "      <td>Netherlands</td>\n",
              "      <td>AMS</td>\n",
              "    </tr>\n",
              "    <tr>\n",
              "      <th>4</th>\n",
              "      <td>4</td>\n",
              "      <td>07 Jan  -  31 Jan</td>\n",
              "      <td>1234567</td>\n",
              "      <td>18:15</td>\n",
              "      <td>19:35</td>\n",
              "      <td>KL1336</td>\n",
              "      <td>EQV</td>\n",
              "      <td>1H20M</td>\n",
              "      <td>Aalborg</td>\n",
              "      <td>Denmark</td>\n",
              "      <td>AA</td>\n",
              "      <td>Amsterdam</td>\n",
              "      <td>Netherlands</td>\n",
              "      <td>AMS</td>\n",
              "    </tr>\n",
              "  </tbody>\n",
              "</table>\n",
              "</div>"
            ],
            "text/plain": [
              "   Unnamed: 0           Validity      Days  ...     city_to    country_to airport_to\n",
              "0           0  01 Nov  -  31 Jan   1234567  ...  Amsterdam    Netherlands        AMS\n",
              "1           1  01 Nov  -  31 Jan   1234567  ...  Amsterdam    Netherlands        AMS\n",
              "2           2  01 Nov  -  23 Dec   1234567  ...  Amsterdam    Netherlands        AMS\n",
              "3           3  26 Dec  -  06 Jan  1  34567  ...  Amsterdam    Netherlands        AMS\n",
              "4           4  07 Jan  -  31 Jan   1234567  ...  Amsterdam    Netherlands        AMS\n",
              "\n",
              "[5 rows x 14 columns]"
            ]
          },
          "metadata": {
            "tags": []
          },
          "execution_count": 29
        }
      ]
    },
    {
      "cell_type": "code",
      "metadata": {
        "id": "F4Wep2F2CLzG"
      },
      "source": [
        "filename = 'Skyteam_Timetable.csv'\n",
        "skyteam_t_df.to_csv(filename)\n",
        "\n",
        "uploaded = drive.CreateFile({'title': filename, 'parents': ['1t02NJlk6b_k8djN2l9nCPt0U1AKjypxu']})\n",
        "uploaded.SetContentFile(filename)\n",
        "uploaded.Upload()"
      ],
      "execution_count": null,
      "outputs": []
    },
    {
      "cell_type": "code",
      "metadata": {
        "id": "W_-5sNMSQVzb"
      },
      "source": [
        "# Download a file based on its file ID.\n",
        "file_id = '1gJlZv88gJ7srHHrKUHdm90xKKiUbecsx'\n",
        "downloaded = drive.CreateFile({'id': file_id})\n",
        "downloaded.GetContentFile('PointzAggregator-AirlinesData.xml')"
      ],
      "execution_count": null,
      "outputs": []
    },
    {
      "cell_type": "code",
      "metadata": {
        "id": "REEGEN0VQXy9",
        "colab": {
          "base_uri": "https://localhost:8080/",
          "height": 491
        },
        "outputId": "252e9301-8e6d-4eba-e146-a7f54060f717"
      },
      "source": [
        "!pip install git+https://github.com/pandas-dev/pandas"
      ],
      "execution_count": null,
      "outputs": [
        {
          "output_type": "stream",
          "text": [
            "Collecting git+https://github.com/pandas-dev/pandas\n",
            "  Cloning https://github.com/pandas-dev/pandas to /tmp/pip-req-build-m4xqq20x\n",
            "  Running command git clone -q https://github.com/pandas-dev/pandas /tmp/pip-req-build-m4xqq20x\n",
            "  Installing build dependencies ... \u001b[?25l\u001b[?25hdone\n",
            "  Getting requirements to build wheel ... \u001b[?25l\u001b[?25hdone\n",
            "    Preparing wheel metadata ... \u001b[?25l\u001b[?25hdone\n",
            "Requirement already satisfied: pytz>=2017.3 in /usr/local/lib/python3.7/dist-packages (from pandas==1.3.0.dev0+1627.gb2a36bdf88) (2018.9)\n",
            "Requirement already satisfied: numpy>=1.17.3 in /usr/local/lib/python3.7/dist-packages (from pandas==1.3.0.dev0+1627.gb2a36bdf88) (1.19.5)\n",
            "Requirement already satisfied: python-dateutil>=2.7.3 in /usr/local/lib/python3.7/dist-packages (from pandas==1.3.0.dev0+1627.gb2a36bdf88) (2.8.1)\n",
            "Requirement already satisfied: six>=1.5 in /usr/local/lib/python3.7/dist-packages (from python-dateutil>=2.7.3->pandas==1.3.0.dev0+1627.gb2a36bdf88) (1.15.0)\n",
            "Building wheels for collected packages: pandas\n",
            "  Building wheel for pandas (PEP 517) ... \u001b[?25l\u001b[?25hdone\n",
            "  Created wheel for pandas: filename=pandas-1.3.0.dev0+1627.gb2a36bdf88-cp37-cp37m-linux_x86_64.whl size=38112969 sha256=7662b50626c17ee83227c74f41235cd85894bf8a3142f120a146b34d1f3bb38f\n",
            "  Stored in directory: /tmp/pip-ephem-wheel-cache-ox1p1vj3/wheels/14/0b/34/d2d31170c904e2e88d135c4509ea78807aafa5b97990a6cd2b\n",
            "Successfully built pandas\n",
            "\u001b[31mERROR: google-colab 1.0.0 has requirement pandas~=1.1.0; python_version >= \"3.0\", but you'll have pandas 1.3.0.dev0+1627.gb2a36bdf88 which is incompatible.\u001b[0m\n",
            "Installing collected packages: pandas\n",
            "  Found existing installation: pandas 1.1.5\n",
            "    Uninstalling pandas-1.1.5:\n",
            "      Successfully uninstalled pandas-1.1.5\n",
            "Successfully installed pandas-1.3.0.dev0+1627.gb2a36bdf88\n"
          ],
          "name": "stdout"
        },
        {
          "output_type": "display_data",
          "data": {
            "application/vnd.colab-display-data+json": {
              "pip_warning": {
                "packages": [
                  "pandas"
                ]
              }
            }
          },
          "metadata": {
            "tags": []
          }
        }
      ]
    },
    {
      "cell_type": "code",
      "metadata": {
        "id": "l1JyZtn6YUpS"
      },
      "source": [
        ""
      ],
      "execution_count": null,
      "outputs": []
    }
  ]
}